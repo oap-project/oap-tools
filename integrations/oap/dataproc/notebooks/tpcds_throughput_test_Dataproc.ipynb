
<!DOCTYPE html>
<html lang="en">
  <head>
  <meta charset="utf-8">
  <meta content="width=300, initial-scale=1" name="viewport">
  <meta name="google-site-verification" content="LrdTUW9psUAMbh4Ia074-BPEVmcpBxF6Gwf0MSgQXZs">
  <title>Sign in - Google Accounts</title>
  <style>
  @font-face {
  font-family: 'Open Sans';
  font-style: normal;
  font-weight: 300;
  src: url(//fonts.gstatic.com/s/opensans/v15/mem5YaGs126MiZpBA-UN_r8OUuhs.ttf) format('truetype');
}
@font-face {
  font-family: 'Open Sans';
  font-style: normal;
  font-weight: 400;
  src: url(//fonts.gstatic.com/s/opensans/v15/mem8YaGs126MiZpBA-UFVZ0e.ttf) format('truetype');
}
  </style>
  <style>
  h1, h2 {
  -webkit-animation-duration: 0.1s;
  -webkit-animation-name: fontfix;
  -webkit-animation-iteration-count: 1;
  -webkit-animation-timing-function: linear;
  -webkit-animation-delay: 0;
  }
  @-webkit-keyframes fontfix {
  from {
  opacity: 1;
  }
  to {
  opacity: 1;
  }
  }
  </style>
<style>
  html, body {
  font-family: Arial, sans-serif;
  background: #fff;
  margin: 0;
  padding: 0;
  border: 0;
  position: absolute;
  height: 100%;
  min-width: 100%;
  font-size: 13px;
  color: #404040;
  direction: ltr;
  -webkit-text-size-adjust: none;
  }
  button,
  input[type=button],
  input[type=submit] {
  font-family: Arial, sans-serif;
  font-size: 13px;
  }
  a,
  a:hover,
  a:visited {
  color: #427fed;
  cursor: pointer;
  text-decoration: none;
  }
  a:hover {
  text-decoration: underline;
  }
  h1 {
  font-size: 20px;
  color: #262626;
  margin: 0 0 15px;
  font-weight: normal;
  }
  h2 {
  font-size: 14px;
  color: #262626;
  margin: 0 0 15px;
  font-weight: bold;
  }
  input[type=email],
  input[type=number],
  input[type=password],
  input[type=tel],
  input[type=text],
  input[type=url] {
  -moz-appearance: none;
  -webkit-appearance: none;
  appearance: none;
  display: inline-block;
  height: 36px;
  padding: 0 8px;
  margin: 0;
  background: #fff;
  border: 1px solid #d9d9d9;
  border-top: 1px solid #c0c0c0;
  -moz-box-sizing: border-box;
  -webkit-box-sizing: border-box;
  box-sizing: border-box;
  -moz-border-radius: 1px;
  -webkit-border-radius: 1px;
  border-radius: 1px;
  font-size: 15px;
  color: #404040;
  }
  input[type=email]:hover,
  input[type=number]:hover,
  input[type=password]:hover,
  input[type=tel]:hover,
  input[type=text]:hover,
  input[type=url]:hover {
  border: 1px solid #b9b9b9;
  border-top: 1px solid #a0a0a0;
  -moz-box-shadow: inset 0 1px 2px rgba(0,0,0,0.1);
  -webkit-box-shadow: inset 0 1px 2px rgba(0,0,0,0.1);
  box-shadow: inset 0 1px 2px rgba(0,0,0,0.1);
  }
  input[type=email]:focus,
  input[type=number]:focus,
  input[type=password]:focus,
  input[type=tel]:focus,
  input[type=text]:focus,
  input[type=url]:focus {
  outline: none;
  border: 1px solid #4d90fe;
  -moz-box-shadow: inset 0 1px 2px rgba(0,0,0,0.3);
  -webkit-box-shadow: inset 0 1px 2px rgba(0,0,0,0.3);
  box-shadow: inset 0 1px 2px rgba(0,0,0,0.3);
  }
  input[type=checkbox],
  input[type=radio] {
  -webkit-appearance: none;
  display: inline-block;
  width: 13px;
  height: 13px;
  margin: 0;
  cursor: pointer;
  vertical-align: bottom;
  background: #fff;
  border: 1px solid #c6c6c6;
  -moz-border-radius: 1px;
  -webkit-border-radius: 1px;
  border-radius: 1px;
  -moz-box-sizing: border-box;
  -webkit-box-sizing: border-box;
  box-sizing: border-box;
  position: relative;
  }
  input[type=checkbox]:active,
  input[type=radio]:active {
  background: #ebebeb;
  }
  input[type=checkbox]:hover {
  border-color: #c6c6c6;
  -moz-box-shadow: inset 0 1px 2px rgba(0,0,0,0.1);
  -webkit-box-shadow: inset 0 1px 2px rgba(0,0,0,0.1);
  box-shadow: inset 0 1px 2px rgba(0,0,0,0.1);
  }
  input[type=radio] {
  -moz-border-radius: 1em;
  -webkit-border-radius: 1em;
  border-radius: 1em;
  width: 15px;
  height: 15px;
  }
  input[type=checkbox]:checked,
  input[type=radio]:checked {
  background: #fff;
  }
  input[type=radio]:checked::after {
  content: '';
  display: block;
  position: relative;
  top: 3px;
  left: 3px;
  width: 7px;
  height: 7px;
  background: #666;
  -moz-border-radius: 1em;
  -webkit-border-radius: 1em;
  border-radius: 1em;
  }
  input[type=checkbox]:checked::after {
  content: url(https://ssl.gstatic.com/ui/v1/menu/checkmark.png);
  display: block;
  position: absolute;
  top: -6px;
  left: -5px;
  }
  input[type=checkbox]:focus {
  outline: none;
  border-color: #4d90fe;
  }
  .stacked-label {
  display: block;
  font-weight: bold;
  margin: .5em 0;
  }
  .hidden-label {
  position: absolute !important;
  clip: rect(1px 1px 1px 1px); /* IE6, IE7 */
  clip: rect(1px, 1px, 1px, 1px);
  height: 0px;
  width: 0px;
  overflow: hidden;
  visibility: hidden;
  }
  input[type=checkbox].form-error,
  input[type=email].form-error,
  input[type=number].form-error,
  input[type=password].form-error,
  input[type=text].form-error,
  input[type=tel].form-error,
  input[type=url].form-error {
  border: 1px solid #dd4b39;
  }
  .error-msg {
  margin: .5em 0;
  display: block;
  color: #dd4b39;
  line-height: 17px;
  }
  .help-link {
  background: #dd4b39;
  padding: 0 5px;
  color: #fff;
  font-weight: bold;
  display: inline-block;
  -moz-border-radius: 1em;
  -webkit-border-radius: 1em;
  border-radius: 1em;
  text-decoration: none;
  position: relative;
  top: 0px;
  }
  .help-link:visited {
  color: #fff;
  }
  .help-link:hover {
  color: #fff;
  background: #c03523;
  text-decoration: none;
  }
  .help-link:active {
  opacity: 1;
  background: #ae2817;
  }
  .wrapper {
  position: relative;
  min-height: 100%;
  }
  .content {
  padding: 0 44px;
  }
  .main {
  padding-bottom: 100px;
  }
  /* For modern browsers */
  .clearfix:before,
  .clearfix:after {
  content: "";
  display: table;
  }
  .clearfix:after {
  clear: both;
  }
  /* For IE 6/7 (trigger hasLayout) */
  .clearfix {
  zoom:1;
  }
  .google-header-bar {
  height: 71px;
  border-bottom: 1px solid #e5e5e5;
  overflow: hidden;
  }
  .header .logo {
  background-image: url(https://ssl.gstatic.com/accounts/ui/logo_1x.png);
  background-size: 116px 38px;
  background-repeat: no-repeat;
  margin: 17px 0 0;
  float: left;
  height: 38px;
  width: 116px;
  }
  .header .logo-w {
  background-image: url(https://ssl.gstatic.com/images/branding/googlelogo/1x/googlelogo_color_112x36dp.png);
  background-size: 112px 36px;
  margin: 21px 0 0;
  }
  .header .secondary-link {
  margin: 28px 0 0;
  float: right;
  }
  .header .secondary-link a {
  font-weight: normal;
  }
  .google-header-bar.centered {
  border: 0;
  height: 108px;
  }
  .google-header-bar.centered .header .logo {
  float: none;
  margin: 40px auto 30px;
  display: block;
  }
  .google-header-bar.centered .header .secondary-link {
  display: none
  }
  .google-footer-bar {
  position: absolute;
  bottom: 0;
  height: 35px;
  width: 100%;
  border-top: 1px solid #e5e5e5;
  overflow: hidden;
  }
  .footer {
  padding-top: 7px;
  font-size: .85em;
  white-space: nowrap;
  line-height: 0;
  }
  .footer ul {
  float: left;
  max-width: 80%;
  min-height: 16px;
  padding: 0;
  }
  .footer ul li {
  color: #737373;
  display: inline;
  padding: 0;
  padding-right: 1.5em;
  }
  .footer a {
  color: #737373;
  }
  .lang-chooser-wrap {
  float: right;
  display: inline;
  }
  .lang-chooser-wrap img {
  vertical-align: top;
  }
  .lang-chooser {
  font-size: 13px;
  height: 24px;
  line-height: 24px;
  }
  .lang-chooser option {
  font-size: 13px;
  line-height: 24px;
  }
  .hidden {
  height: 0px;
  width: 0px;
  overflow: hidden;
  visibility: hidden;
  display: none !important;
  }
  .banner {
  text-align: center;
  }
  .card {
  background-color: #f7f7f7;
  padding: 20px 25px 30px;
  margin: 0 auto 25px;
  width: 304px;
  -moz-border-radius: 2px;
  -webkit-border-radius: 2px;
  border-radius: 2px;
  -moz-box-shadow: 0px 2px 2px rgba(0, 0, 0, 0.3);
  -webkit-box-shadow: 0px 2px 2px rgba(0, 0, 0, 0.3);
  box-shadow: 0px 2px 2px rgba(0, 0, 0, 0.3);
  }
  .card > *:first-child {
  margin-top: 0;
  }
  .rc-button,
  .rc-button:visited {
  display: inline-block;
  min-width: 46px;
  text-align: center;
  color: #444;
  font-size: 14px;
  font-weight: 700;
  height: 36px;
  padding: 0 8px;
  line-height: 36px;
  -moz-border-radius: 3px;
  -webkit-border-radius: 3px;
  border-radius: 3px;
  -o-transition: all 0.218s;
  -moz-transition: all 0.218s;
  -webkit-transition: all 0.218s;
  transition: all 0.218s;
  border: 1px solid #dcdcdc;
  background-color: #f5f5f5;
  background-image: -webkit-linear-gradient(top,#f5f5f5,#f1f1f1);
  background-image: -moz-linear-gradient(top,#f5f5f5,#f1f1f1);
  background-image: -ms-linear-gradient(top,#f5f5f5,#f1f1f1);
  background-image: -o-linear-gradient(top,#f5f5f5,#f1f1f1);
  background-image: linear-gradient(top,#f5f5f5,#f1f1f1);
  -o-transition: none;
  -moz-user-select: none;
  -webkit-user-select: none;
  user-select: none;
  cursor: default;
  }
  .card .rc-button {
  width: 100%;
  padding: 0;
  }
  .rc-button.disabled,
  .rc-button[disabled] {
  opacity: .5;
  filter: alpha(opacity=50);
  cursor: default;
  pointer-events: none;
  }
  .rc-button:hover {
  border: 1px solid #c6c6c6;
  color: #333;
  text-decoration: none;
  -o-transition: all 0.0s;
  -moz-transition: all 0.0s;
  -webkit-transition: all 0.0s;
  transition: all 0.0s;
  background-color: #f8f8f8;
  background-image: -webkit-linear-gradient(top,#f8f8f8,#f1f1f1);
  background-image: -moz-linear-gradient(top,#f8f8f8,#f1f1f1);
  background-image: -ms-linear-gradient(top,#f8f8f8,#f1f1f1);
  background-image: -o-linear-gradient(top,#f8f8f8,#f1f1f1);
  background-image: linear-gradient(top,#f8f8f8,#f1f1f1);
  -moz-box-shadow: 0 1px 1px rgba(0,0,0,0.1);
  -webkit-box-shadow: 0 1px 1px rgba(0,0,0,0.1);
  box-shadow: 0 1px 1px rgba(0,0,0,0.1);
  }
  .rc-button:active {
  background-color: #f6f6f6;
  background-image: -webkit-linear-gradient(top,#f6f6f6,#f1f1f1);
  background-image: -moz-linear-gradient(top,#f6f6f6,#f1f1f1);
  background-image: -ms-linear-gradient(top,#f6f6f6,#f1f1f1);
  background-image: -o-linear-gradient(top,#f6f6f6,#f1f1f1);
  background-image: linear-gradient(top,#f6f6f6,#f1f1f1);
  -moz-box-shadow: 0 1px 2px rgba(0,0,0,0.1);
  -webkit-box-shadow: 0 1px 2px rgba(0,0,0,0.1);
  box-shadow: 0 1px 2px rgba(0,0,0,0.1);
  }
  .rc-button-submit,
  .rc-button-submit:visited {
  border: 1px solid #3079ed;
  color: #fff;
  text-shadow: 0 1px rgba(0,0,0,0.1);
  background-color: #4d90fe;
  background-image: -webkit-linear-gradient(top,#4d90fe,#4787ed);
  background-image: -moz-linear-gradient(top,#4d90fe,#4787ed);
  background-image: -ms-linear-gradient(top,#4d90fe,#4787ed);
  background-image: -o-linear-gradient(top,#4d90fe,#4787ed);
  background-image: linear-gradient(top,#4d90fe,#4787ed);
  }
  .rc-button-submit:hover {
  border: 1px solid #2f5bb7;
  color: #fff;
  text-shadow: 0 1px rgba(0,0,0,0.3);
  background-color: #357ae8;
  background-image: -webkit-linear-gradient(top,#4d90fe,#357ae8);
  background-image: -moz-linear-gradient(top,#4d90fe,#357ae8);
  background-image: -ms-linear-gradient(top,#4d90fe,#357ae8);
  background-image: -o-linear-gradient(top,#4d90fe,#357ae8);
  background-image: linear-gradient(top,#4d90fe,#357ae8);
  }
  .rc-button-submit:active {
  background-color: #357ae8;
  background-image: -webkit-linear-gradient(top,#4d90fe,#357ae8);
  background-image: -moz-linear-gradient(top,#4d90fe,#357ae8);
  background-image: -ms-linear-gradient(top,#4d90fe,#357ae8);
  background-image: -o-linear-gradient(top,#4d90fe,#357ae8);
  background-image: linear-gradient(top,#4d90fe,#357ae8);
  -moz-box-shadow: inset 0 1px 2px rgba(0,0,0,0.3);
  -webkit-box-shadow: inset 0 1px 2px rgba(0,0,0,0.3);
  box-shadow: inset 0 1px 2px rgba(0,0,0,0.3);
  }
  .rc-button-red,
  .rc-button-red:visited {
  border: 1px solid transparent;
  color: #fff;
  text-shadow: 0 1px rgba(0,0,0,0.1);
  background-color: #d14836;
  background-image: -webkit-linear-gradient(top,#dd4b39,#d14836);
  background-image: -moz-linear-gradient(top,#dd4b39,#d14836);
  background-image: -ms-linear-gradient(top,#dd4b39,#d14836);
  background-image: -o-linear-gradient(top,#dd4b39,#d14836);
  background-image: linear-gradient(top,#dd4b39,#d14836);
  }
  .rc-button-red:hover {
  border: 1px solid #b0281a;
  color: #fff;
  text-shadow: 0 1px rgba(0,0,0,0.3);
  background-color: #c53727;
  background-image: -webkit-linear-gradient(top,#dd4b39,#c53727);
  background-image: -moz-linear-gradient(top,#dd4b39,#c53727);
  background-image: -ms-linear-gradient(top,#dd4b39,#c53727);
  background-image: -o-linear-gradient(top,#dd4b39,#c53727);
  background-image: linear-gradient(top,#dd4b39,#c53727);
  }
  .rc-button-red:active {
  border: 1px solid #992a1b;
  background-color: #b0281a;
  background-image: -webkit-linear-gradient(top,#dd4b39,#b0281a);
  background-image: -moz-linear-gradient(top,#dd4b39,#b0281a);
  background-image: -ms-linear-gradient(top,#dd4b39,#b0281a);
  background-image: -o-linear-gradient(top,#dd4b39,#b0281a);
  background-image: linear-gradient(top,#dd4b39,#b0281a);
  -moz-box-shadow: inset 0 1px 2px rgba(0,0,0,0.3);
  -webkit-box-shadow: inset 0 1px 2px rgba(0,0,0,0.3);
  box-shadow: inset 0 1px 2px rgba(0,0,0,0.3);
  }
  .secondary-actions {
  text-align: center;
  }
</style>
<style media="screen and (max-width: 800px), screen and (max-height: 800px)">
  .google-header-bar.centered {
  height: 83px;
  }
  .google-header-bar.centered .header .logo {
  margin: 25px auto 20px;
  }
  .card {
  margin-bottom: 20px;
  }
</style>
<style media="screen and (max-width: 580px)">
  html, body {
  font-size: 14px;
  }
  .google-header-bar.centered {
  height: 73px;
  }
  .google-header-bar.centered .header .logo {
  margin: 20px auto 15px;
  }
  .content {
  padding-left: 10px;
  padding-right: 10px;
  }
  .hidden-small {
  display: none;
  }
  .card {
  padding: 20px 15px 30px;
  width: 270px;
  }
  .footer ul li {
  padding-right: 1em;
  }
  .lang-chooser-wrap {
  display: none;
  }
</style>
<style media="screen and (-webkit-min-device-pixel-ratio: 1.5), (min--moz-device-pixel-ratio: 1.5), (-o-min-device-pixel-ratio: 3 / 2), (min-device-pixel-ratio: 1.5)">
  .header .logo {
  background-image: url(https://ssl.gstatic.com/accounts/ui/logo_2x.png);
  }
  .header .logo-w {
  background-image: url(https://ssl.gstatic.com/images/branding/googlelogo/2x/googlelogo_color_112x36dp.png);
  }
</style>
<style>
  pre.debug {
  font-family: monospace;
  position: absolute;
  left: 0;
  margin: 0;
  padding: 1.5em;
  font-size: 13px;
  background: #f1f1f1;
  border-top: 1px solid #e5e5e5;
  direction: ltr;
  white-space: pre-wrap;
  width: 90%;
  overflow: hidden;
  }
</style>
<style>
  .banner h1 {
  font-family: 'Open Sans', arial;
  -webkit-font-smoothing: antialiased;
  color: #555;
  font-size: 42px;
  font-weight: 300;
  margin-top: 0;
  margin-bottom: 20px;
  }
  .banner h2 {
  font-family: 'Open Sans', arial;
  -webkit-font-smoothing: antialiased;
  color: #555;
  font-size: 18px;
  font-weight: 400;
  margin-bottom: 20px;
  }
  .signin-card {
  width: 274px;
  padding: 40px 40px;
  }
  .signin-card .profile-img {
  width: 96px;
  height: 96px;
  margin: 0 auto 10px;
  display: block;
  -moz-border-radius: 50%;
  -webkit-border-radius: 50%;
  border-radius: 50%;
  }
  .signin-card .profile-name {
  font-size: 16px;
  font-weight: bold;
  text-align: center;
  margin: 10px 0 0;
  min-height: 1em;
  }
  .signin-card .profile-email {
  font-size: 16px;
  text-align: center;
  margin: 10px 0 20px 0;
  min-height: 1em;
  }
  .signin-card input[type=email],
  .signin-card input[type=password],
  .signin-card input[type=text],
  .signin-card input[type=submit] {
  width: 100%;
  display: block;
  margin-bottom: 10px;
  z-index: 1;
  position: relative;
  -moz-box-sizing: border-box;
  -webkit-box-sizing: border-box;
  box-sizing: border-box;
  }
  .signin-card #Email,
  .signin-card #Passwd,
  .signin-card .captcha {
  direction: ltr;
  height: 44px;
  font-size: 16px;
  }
  .signin-card #Email + .stacked-label {
  margin-top: 15px;
  }
  .signin-card #reauthEmail {
  display: block;
  margin-bottom: 10px;
  line-height: 36px;
  padding: 0 8px;
  font-size: 15px;
  color: #404040;
  line-height: 2;
  margin-bottom: 10px;
  font-size: 14px;
  text-align: center;
  overflow: hidden;
  text-overflow: ellipsis;
  white-space: nowrap;
  -moz-box-sizing: border-box;
  -webkit-box-sizing: border-box;
  box-sizing: border-box;
  }
  .one-google p {
  margin: 0 0 10px;
  color: #555;
  font-size: 14px;
  text-align: center;
  }
  .one-google p.create-account,
  .one-google p.switch-account {
  margin-bottom: 60px;
  }
  .one-google .logo-strip {
  background-repeat: no-repeat;
  display: block;
  margin: 10px auto;
  background-image: url(https://ssl.gstatic.com/accounts/ui/wlogostrip_230x17_1x.png);
  background-size: 230px 17px;
  width: 230px;
  height: 17px;
  }
</style>
<style media="screen and (max-width: 800px), screen and (max-height: 800px)">
  .banner h1 {
  font-size: 38px;
  margin-bottom: 15px;
  }
  .banner h2 {
  margin-bottom: 15px;
  }
  .one-google p.create-account,
  .one-google p.switch-account {
  margin-bottom: 30px;
  }
  .signin-card #Email {
  margin-bottom: 0;
  }
  .signin-card #Passwd {
  margin-top: -1px;
  }
  .signin-card #Email.form-error,
  .signin-card #Passwd.form-error {
  z-index: 2;
  }
  .signin-card #Email:hover,
  .signin-card #Email:focus,
  .signin-card #Passwd:hover,
  .signin-card #Passwd:focus {
  z-index: 3;
  }
</style>
<style media="screen and (max-width: 580px)">
  .banner h1 {
  font-size: 22px;
  margin-bottom: 15px;
  }
  .signin-card {
  width: 260px;
  padding: 20px 20px;
  margin: 0 auto 20px;
  }
  .signin-card .profile-img {
  width: 72px;
  height: 72px;
  -moz-border-radius: 72px;
  -webkit-border-radius: 72px;
  border-radius: 72px;
  }
</style>
<style media="screen and (-webkit-min-device-pixel-ratio: 1.5), (min--moz-device-pixel-ratio: 1.5), (-o-min-device-pixel-ratio: 3 / 2), (min-device-pixel-ratio: 1.5)">
  .one-google .logo-strip {
  background-image: url(https://ssl.gstatic.com/accounts/ui/wlogostrip_230x17_2x.png);
  }
</style>
<style>
  .remember .bubble-wrap {
  position: absolute;
  padding-top: 3px;
  -o-transition: opacity .218s ease-in .218s;
  -moz-transition: opacity .218s ease-in .218s;
  -webkit-transition: opacity .218s ease-in .218s;
  transition: opacity .218s ease-in .218s;
  left: -999em;
  opacity: 0;
  width: 314px;
  margin-left: -20px;
  }
  .remember:hover .bubble-wrap,
  .remember input:focus ~ .bubble-wrap,
  .remember .bubble-wrap:hover,
  .remember .bubble-wrap:focus {
  opacity: 1;
  left: inherit;
  }
  .bubble-pointer {
  border-left: 10px solid transparent;
  border-right: 10px solid transparent;
  border-bottom: 10px solid #fff;
  width: 0;
  height: 0;
  margin-left: 17px;
  }
  .bubble {
  background-color: #fff;
  padding: 15px;
  margin-top: -1px;
  font-size: 11px;
  -moz-border-radius: 2px;
  -webkit-border-radius: 2px;
  border-radius: 2px;
  -moz-box-shadow: 0px 2px 2px rgba(0, 0, 0, 0.3);
  -webkit-box-shadow: 0px 2px 2px rgba(0, 0, 0, 0.3);
  box-shadow: 0px 2px 2px rgba(0, 0, 0, 0.3);
  }
  #stay-signed-in {
  float: left;
  }
  #stay-signed-in-tooltip {
  left: auto;
  margin-left: -20px;
  padding-top: 3px;
  position: absolute;
  top: 0;
  visibility: hidden;
  width: 314px;
  z-index: 1;
  }
  .dasher-tooltip {
  top: 380px;
  }
</style>
<style media="screen and (max-width: 800px), screen and (max-height: 800px)">
  .dasher-tooltip {
  top: 340px;
  }
</style>
<style>
  .jfk-tooltip {
  background-color: #fff;
  border: 1px solid;
  color: #737373;
  font-size: 12px;
  position: absolute;
  z-index: 800 !important;
  border-color: #bbb #bbb #a8a8a8;
  padding: 16px;
  width: 250px;
  }
 .jfk-tooltip h3 {
  color: #555;
  font-size: 12px;
  margin: 0 0 .5em;
  }
 .jfk-tooltip-content p:last-child {
  margin-bottom: 0;
  }
  .jfk-tooltip-arrow {
  position: absolute;
  }
  .jfk-tooltip-arrow .jfk-tooltip-arrowimplbefore,
  .jfk-tooltip-arrow .jfk-tooltip-arrowimplafter {
  display: block;
  height: 0;
  position: absolute;
  width: 0;
  }
  .jfk-tooltip-arrow .jfk-tooltip-arrowimplbefore {
  border: 9px solid;
  }
  .jfk-tooltip-arrow .jfk-tooltip-arrowimplafter {
  border: 8px solid;
  }
  .jfk-tooltip-arrowdown {
  bottom: 0;
  }
  .jfk-tooltip-arrowup {
  top: -9px;
  }
  .jfk-tooltip-arrowleft {
  left: -9px;
  top: 30px;
  }
  .jfk-tooltip-arrowright {
  right: 0;
  top: 30px;
  }
  .jfk-tooltip-arrowdown .jfk-tooltip-arrowimplbefore,.jfk-tooltip-arrowup .jfk-tooltip-arrowimplbefore {
  border-color: #bbb transparent;
  left: -9px;
  }
  .jfk-tooltip-arrowdown .jfk-tooltip-arrowimplbefore {
  border-color: #a8a8a8 transparent;
  }
  .jfk-tooltip-arrowdown .jfk-tooltip-arrowimplafter,.jfk-tooltip-arrowup .jfk-tooltip-arrowimplafter {
  border-color: #fff transparent;
  left: -8px;
  }
  .jfk-tooltip-arrowdown .jfk-tooltip-arrowimplbefore {
  border-bottom-width: 0;
  }
  .jfk-tooltip-arrowdown .jfk-tooltip-arrowimplafter {
  border-bottom-width: 0;
  }
  .jfk-tooltip-arrowup .jfk-tooltip-arrowimplbefore {
  border-top-width: 0;
  }
  .jfk-tooltip-arrowup .jfk-tooltip-arrowimplafter {
  border-top-width: 0;
  top: 1px;
  }
  .jfk-tooltip-arrowleft .jfk-tooltip-arrowimplbefore,
  .jfk-tooltip-arrowright .jfk-tooltip-arrowimplbefore {
  border-color: transparent #bbb;
  top: -9px;
  }
  .jfk-tooltip-arrowleft .jfk-tooltip-arrowimplafter,
  .jfk-tooltip-arrowright .jfk-tooltip-arrowimplafter {
  border-color:transparent #fff;
  top:-8px;
  }
  .jfk-tooltip-arrowleft .jfk-tooltip-arrowimplbefore {
  border-left-width: 0;
  }
  .jfk-tooltip-arrowleft .jfk-tooltip-arrowimplafter {
  border-left-width: 0;
  left: 1px;
  }
  .jfk-tooltip-arrowright .jfk-tooltip-arrowimplbefore {
  border-right-width: 0;
  }
  .jfk-tooltip-arrowright .jfk-tooltip-arrowimplafter {
  border-right-width: 0;
  }
  .jfk-tooltip-closebtn {
  background: url("//ssl.gstatic.com/ui/v1/icons/common/x_8px.png") no-repeat;
  border: 1px solid transparent;
  height: 21px;
  opacity: .4;
  outline: 0;
  position: absolute;
  right: 2px;
  top: 2px;
  width: 21px;
  }
  .jfk-tooltip-closebtn:focus,
  .jfk-tooltip-closebtn:hover {
  opacity: .8;
  cursor: pointer;
  }
  .jfk-tooltip-closebtn:focus {
  border-color: #4d90fe;
  }
</style>
<style media="screen and (max-width: 580px)">
  .jfk-tooltip {
  display: none;
  }
</style>
<style type="text/css">
.captcha-box {
  background: #fff;
  margin: 0 0 10px;
  overflow: hidden;
  padding: 10px;
}
.captcha-box .captcha-img {
  text-align: center;
}
.captcha-box .captcha-label {
  font-weight: bold;
  display: block;
  margin: .5em 0;
}
.captcha-box .captcha-msg {
  color: #999;
  display: block;
  position: relative;
}
.captcha-box .captcha-msg .accessibility-logo {
  float: right;
  border: 0;
}
.captcha-box .audio-box {
  position: absolute;
  top: 0;
}
</style>
<style>
.chromiumsync-custom-content {
  padding-top: 20px;
  margin-bottom: 0;
}
.form-panel {
  -webkit-box-sizing: border-box;
  box-sizing: border-box;
  -webkit-transform: translateZ(0);
  -moz-transform: translateZ(0);
  -ms-transform: translateZ(0);
  -o-transform: translateZ(0);
  transform: translateZ(0);
  width: 100%;
}
.form-panel.first {
  z-index: 2;
}
.form-panel.second {
  z-index: 1;
}
.shift-form .form-panel.first {
  z-index: 1;
}
.shift-form .form-panel.second {
  z-index: 2;
}
.slide-in,
.slide-out {
  display: block;
  -webkit-transition-property: -webkit-transform, opacity;
  -moz-transition-property: -moz-transform, opacity;
  -ms-transition-property: -ms-transform, opacity;
  -o-transition-property: -o-transform, opacity;
  transition-property: transform, opacity;
  -webkit-transition-duration: 0.1s;
  -moz-transition-duration: 0.1s;
  -ms-transition-duration: 0.1s;
  -o-transition-duration: 0.1s;
  transition-duration: 0.1s;
  -webkit-transition-timing-function: cubic-bezier(0.4, 0, 0.2, 1);
  -moz-transition-timing-function: cubic-bezier(0.4, 0, 0.2, 1);
  -ms-transition-timing-function: cubic-bezier(0.4, 0, 0.2, 1);
  -o-transition-timing-function: cubic-bezier(0.4, 0, 0.2, 1);
  transition-timing-function: cubic-bezier(0.4, 0, 0.2, 1);
}
.slide-out {
  -webkit-transform: translate3d(0, 0, 0);
  -moz-transform: translate3d(0, 0, 0);
  -ms-transform: translate3d(0, 0, 0);
  -o-transform: translate3d(0, 0, 0);
  transform: translate3d(0, 0, 0);
}
.shift-form .slide-out {
  opacity: 0;
  -webkit-transform: translate3d(-120%, 0, 0);
  -moz-transform: translate3d(-120%, 0, 0);
  -ms-transform: translate3d(-120%, 0, 0);
  -o-transform: translate3d(-120%, 0, 0);
  transform: translate3d(-120%, 0, 0);
}
.slide-in {
  -webkit-transform: translate3d(120%, 0, 0);
  -moz-transform: translate3d(120%, 0, 0);
  -ms-transform: translate3d(120%, 0, 0);
  -o-transform: translate3d(120%, 0, 0);
  transform: translate3d(120%, 0, 0);
}
.shift-form .slide-in {
  opacity: 1;
  -webkit-transform: translate3d(0, 0, 0);
  -moz-transform: translate3d(0, 0, 0);
  -ms-transform: translate3d(0, 0, 0);
  -o-transform: translate3d(0, 0, 0);
  transform: translate3d(0, 0, 0);
}
.error-msg {
  -webkit-transition: max-height 0.3s, opacity 0.3s 0s steps(10, end);
  -moz-transition: max-height 0.3s, opacity 0.3s 0s steps(10, end);
  -ms-transition: max-height 0.3s, opacity 0.3s 0s steps(10, end);
  -o-transition: max-height 0.3s, opacity 0.3s 0s steps(10, end);
  transition: max-height 0.3s, opacity 0.3s 0s steps(10, end);
  height: auto;
  max-height: 0;
  opacity: 0;
}
.has-error .error-msg {
  max-height: 3.5em;
  margin-top: 10px;
  margin-bottom: 10px;
  opacity: 1;
  visibility: visible;
}
.back-arrow {
  position: absolute;
  top: 37px;
  width: 24px;
  height: 24px;
  display: none;
  cursor: pointer;
}
.back-arrow {
  border-style: none;
}
.shift-form.back-arrow {
  display: block;
}
.back-arrow img {
  display: block;
}
#link-signup {
  text-align: center;
  font-size: 14px;
}
.shift-form #link-signup{
  display: none;
}
#link-signin-different {
  display: none;
  text-align: center;
  font-size: 14px;
}
.shift-form #link-signin-different {
  display: block;
}
.signin-card #profile-name {
  font-size: 16px;
  font-weight: bold;
  text-align: center;
  margin: 0;
  min-height: 1em;
}
.signin-card.no-name #profile-name {
  display: none;
}
.signin-card.no-name #email-display {
  line-height: initial;
  margin-bottom: 16px;
}
.signin-card #email-display {
  display: block;
  padding: 0px 8px;
  color: rgb(64, 64, 64);
  line-height: 2;
  margin-bottom: 10px;
  font-size: 14px;
  text-align: center;
  overflow: hidden;
  text-overflow: ellipsis;
  white-space: nowrap;
  -moz-box-sizing: border-box;
  -webkit-box-sizing: border-box;
  box-sizing: border-box;
}
.signin-card #Email {
  margin-top: 16px;
}
.need-help {
  float: right;
  text-align: right;
}
.form-panel {
  width: 274px;
}
#gaia_firstform {
  z-index: 2;
}
.signin-card {
  position: relative;
  overflow: hidden;
}
.signin-card #profile-name {
  color: #000;
}
.circle-mask {
  display: block;
  height: 96px;
  width: 96px;
  overflow: hidden;
  border-radius: 50%;
  margin-left: auto;
  margin-right: auto;
  z-index: 100;
  margin-bottom: 10px;
}
.circle {
  -webkit-transition-property: -webkit-transform;
  -moz-transition-property: -moz-transform;
  -ms-transition-property: -ms-transform;
  -o-transition-property: -o-transform;
  transition-property: transform;
  -webkit-transition-timing-function: cubic-bezier(.645,.045,.355,1);
  -moz-transition-timing-function: cubic-bezier(.645,.045,.355,1);
  -ms-transition-timing-function: cubic-bezier(.645,.045,.355,1);
  -o-transition-timing-function: cubic-bezier(.645,.045,.355,1);
  transition-timing-function: cubic-bezier(.645,.045,.355,1);
}
.circle {
  position: absolute;
  z-index: 101;
  height: 96px;
  width: 96px;
  border-radius: 50%;
  opacity: 0.99;
  overflow: hidden;
  background-repeat: no-repeat;
  background-position: center center;
}
.main {
  overflow: hidden;
}
.card-mask-wrap {
  position: relative;
  width: 360px;
  margin: 0 auto;
  z-index: 1;
}
.dasher-tooltip {
  position: absolute;
  left: 50%;
  margin-left: 150px;
}
.dasher-tooltip .tooltip-pointer {
  margin-top: 15px;
}
.dasher-tooltip p {
  margin-top: 0;
}
.dasher-tooltip p span {
  display: block;
}
.card {
  margin-bottom: 0;
}
.one-google {
  padding-top: 27px;
}
#canvas {
  -webkit-transition: opacity 0.075s;
  -moz-transition: opacity 0.075s;
  -ms-transition: opacity 0.075s;
  -o-transition: opacity 0.075s;
  transition: opacity 0.075s;
  opacity: 0.01;
}
.shift-form #canvas {
  opacity: 0.99;
}
.label {
  color: #404040;
}
#account-chooser-link {
  -webkit-transition: opacity 0.3s;
  -moz-transition: opacity 0.3s;
  -ms-transition: opacity 0.3s;
  -o-transition: opacity 0.3s;
  transition: opacity 0.3s;
}
.input-wrapper {
  position: relative;
}
.google-footer-bar {
  z-index: 2;
}
</style>
<style media="screen and (max-width: 580px)">
.back-arrow {
  top: 17px;
}
.circle-mask {
  height: 72px;
  width: 72px;
  background-size: 72px;
}
.circle {
  height: 72px;
  width: 72px;
}
#canvas {
  height: 72px;
  width: 72px;
}
.form-panel {
  width: 256px;
}
.card-mask-wrap {
  width: 300px;
}
.signin-card {
  width: 256px;
}
.signin-card #EmailFirst {
  margin-top: 15px;
}
.one-google {
  padding-top: 22px;
}
</style>
  </head>
  <body>
  <div class="wrapper">
  <div class="google-header-bar  centered">
  <div class="header content clearfix">
  <div class="logo logo-w" aria-label="Google"></div>
  </div>
  </div>
  <div class="main content clearfix">
<div class="banner">
<h1>
  One account. All of Google.
</h1>
  <h2 class="hidden-small">
  Sign in with your Google Account
  </h2>
</div>
<div class="main-content 
  
    no-name
  
  
  
">
<div class="card signin-card pre-shift
  
  
   no-name">
  <img class="circle-mask"
    
      src="https://ssl.gstatic.com/accounts/ui/avatar_2x.png"
    >
  <form novalidate method="post" action="https://accounts.google.com/signin/v1/lookup" id="gaia_loginform">
  <input name="Page" type="hidden" value="PasswordSeparationSignIn">
  <input type="hidden" name="" value="">
  <input type="hidden" name="gxf" value="AFoagUVZOi2cl_dOanoRhYzO1N431m12Tg:1630647081446">
  <input type="hidden" name="ifkv" value="AU9NCcwUfMqqa0z8mhTpwiAduTPY_g_lLF61t-UAvWFMlUlbqmCbUXKbmfkWILhhsVNORdx_Bcfwew==">
  <input type="hidden" name="continue" value="https://us-central1.dataproc.cloud.google.com/_signin?continue=https%253A%252F%252Femqgwjlzyrhnjle75wluplztn4-dot-us-central1.dataproc.googleusercontent.com%252Fgateway%252Fdefault%252Fjupyter%252Ffiles%252FLocal%252520Disk%252Fhome%252Fhong2_wang%252Foap-tools%252Fintegrations%252Foap%252Fdataproc%252Fnotebooks%252Ftpcds_throughput_test_Dataproc.ipynb&amp;endpoint=emqgwjlzyrhnjle75wluplztn4">
  <input id="profile-information" name="ProfileInformation" type="hidden" value="">
  <input id="session-state" name="SessionState" type="hidden" value="AEThLly3Lt6ylRSWibHJPeCz_cW7jqWhIC-daEcGP3kY5Gm85p0kUC2PrH6MVfi-0edsHvrdOfIb_oCaj2j_VAwYvocBwZrGyFACjGertP8N4q9Lep8NtLRBsmNKBjIgNi5hnKxSPzqkTT8zFogM8-C0YaEpvnkiKuAZluIe4wesZIHBOpVB28hDrcv61bECXPB7NG78a2gd">
  <input name="flowName" type="hidden" value="GlifWebSignIn">
  <input type="hidden" id="_utf8" name="_utf8" value="&#9731;"/>
  <input type="hidden" name="bgresponse" id="bgresponse" value="js_disabled">
  <div class="form-panel first valid" id="gaia_firstform">
  <div class="slide-out">
  <div class="input-wrapper focused">
  <div id="identifier-shown">
  <div>
  <label class="hidden-label" for="Email">
  Enter your email</label>
  <input id="Email" type="email" value="" spellcheck="false"
                   name="Email"
                   
                     placeholder="Email or phone"
                   
                   
                   
                   >
  <input id="Passwd-hidden" type="password" spellcheck="false" class="hidden">
  </div>
  </div>
  <span role="alert" class="error-msg" id="errormsg_0_Email"></span>
  </div>
<input id="next" name="signIn" class="rc-button rc-button-submit" type="submit" value="Next">
  <a class="need-help"
          href="https://accounts.google.com/signin/usernamerecovery?continue=https%3A%2F%2Fus-central1.dataproc.cloud.google.com%2F_signin%3Fcontinue%3Dhttps%25253A%25252F%25252Femqgwjlzyrhnjle75wluplztn4-dot-us-central1.dataproc.googleusercontent.com%25252Fgateway%25252Fdefault%25252Fjupyter%25252Ffiles%25252FLocal%25252520Disk%25252Fhome%25252Fhong2_wang%25252Foap-tools%25252Fintegrations%25252Foap%25252Fdataproc%25252Fnotebooks%25252Ftpcds_throughput_test_Dataproc.ipynb%26endpoint%3Demqgwjlzyrhnjle75wluplztn4&amp;hl=en">
  Find my account
  </a>
  </div>
  </div>
  </form>
</div>
  <div class="card-mask-wrap
        
     no-name">
  <div class="card-mask">
  <div class="one-google">
  <p class="create-account">
  <span id="link-signin-different">
  <a href="https://accounts.google.com/AccountChooser?continue=https%3A%2F%2Fus-central1.dataproc.cloud.google.com%2F_signin%3Fcontinue%3Dhttps%25253A%25252F%25252Femqgwjlzyrhnjle75wluplztn4-dot-us-central1.dataproc.googleusercontent.com%25252Fgateway%25252Fdefault%25252Fjupyter%25252Ffiles%25252FLocal%25252520Disk%25252Fhome%25252Fhong2_wang%25252Foap-tools%25252Fintegrations%25252Foap%25252Fdataproc%25252Fnotebooks%25252Ftpcds_throughput_test_Dataproc.ipynb%26endpoint%3Demqgwjlzyrhnjle75wluplztn4">
  Sign in with a different account
  </a>
  </span>
  <span id="link-signup">
  <a href="https://accounts.google.com/SignUp?continue=https%3A%2F%2Fus-central1.dataproc.cloud.google.com%2F_signin%3Fcontinue%3Dhttps%25253A%25252F%25252Femqgwjlzyrhnjle75wluplztn4-dot-us-central1.dataproc.googleusercontent.com%25252Fgateway%25252Fdefault%25252Fjupyter%25252Ffiles%25252FLocal%25252520Disk%25252Fhome%25252Fhong2_wang%25252Foap-tools%25252Fintegrations%25252Foap%25252Fdataproc%25252Fnotebooks%25252Ftpcds_throughput_test_Dataproc.ipynb%26endpoint%3Demqgwjlzyrhnjle75wluplztn4">
  Create account
  </a>
  </span>
  </p>
<p class="tagline">
  One Google Account for everything Google
</p>
<div class="logo-strip"></div>
  </div>
  </div>
  </div>
</div>
  </div>
  <div class="google-footer-bar">
  <div class="footer content clearfix">
  <ul id="footer-list">
  <li>
  <a href="https://www.google.com/intl/en/about" target="_blank">
  About Google
  </a>
  </li>
  <li>
  <a href="https://accounts.google.com/TOS?loc=US&hl=en&privacy=true" target="_blank">
  Privacy
  </a>
  </li>
  <li>
  <a href="https://accounts.google.com/TOS?loc=US&hl=en" target="_blank">
  Terms
  </a>
  </li>
  <li>
  <a href="http://www.google.com/support/accounts?hl=en" target="_blank">
  Help
  </a>
  </li>
  </ul>
  </div>
</div>
  </div>
<script type="text/javascript" nonce="/jdouJ36M51zYjFRNFdmCw">
  var gaia_attachEvent = function(element, event, callback) {
  if (element && element.addEventListener) {
  element.addEventListener(event, callback, false);
  } else if (element && element.attachEvent) {
  element.attachEvent('on' + event, callback);
  }
  };
  (function() {
  var gaia_hideNavBar = function() {
  setTimeout(function() {
  window.scrollTo(0, 1);
  }, 0);
  };
  gaia_attachEvent(window, 'load', gaia_hideNavBar);
  })();
</script>
  <script type="text/javascript" nonce="/jdouJ36M51zYjFRNFdmCw">(function(){function C(l){return l}var L=function(l){return C.call(this,l)},e=this||self,T=function(l,G,z,r,R){if(!(r=(R=z,e.trustedTypes),r)||!r.createPolicy)return R;try{R=r.createPolicy(G,{createHTML:L,createScript:L,createScriptURL:L})}catch(h){if(e.console)e.console[l](h.message)}return R};(0,eval)(function(l,G){return(G=T("error","tl",null))&&1===l.eval(G.createScript("1"))?function(z){return G.createScript(z)}:function(z){return""+z}}(e)(Array(7824*Math.random()|0).join("\n")+'(function(){var l6=function(l,R,G,r,C,L,z,e,h,T,v){if(!((l|((l^51)%8||(v=Math.floor(this.ve+(this.X()-this.I5))),8))&3)){for(h=e=0;e<R.length;e++)h+=R.charCodeAt(e),h+=h<<10,h=(T=h>>6,2*~(h&T)-~h-~T);L=(h+=h<<3,h^=h>>11,h)+(h<<15)>>>0,z=new Number(L&(C=1<<G,1+2*(C&-2)+(~C^1))),z[0]=(L>>>G)%r,v=z}return v},zB=function(l,R,G,r,C,L,z){return((R^63)%l||(this.jp=this.jp),1==((R^576)&11))&&(z=(L=I[G.substring(0,l)+"_"])?L(G.substring(l),r,C):GB(21,r,G,8)),z},V=function(l,R,G,r,C,L){return(R>>1)%((((R^5)%10||(G.G=function(){return G.zc?G.zc:G.zc=new G},G.zc=void 0),R<<2&l||(L=typeof C.className==r?C.className:C.getAttribute&&C.getAttribute(G)||""),R)<<2)%13||(this.type=G,this.currentTarget=this.target=r,this.defaultPrevented=this.Z=false),5)||(B.call(this),G||CO||(CO=new r$),this.qI=this.ep=this.CL=null,this.s5=false,this.Ay=void 0,this.Zt=this.Pe=null),L},k=function(l,R,G,r,C,L,z,e,h,T,v,J){if(1==((l^926)&3)){if((((v=(h=((T=0<C.yK&&C.VK&&C.xv&&1>=C.NI&&!C.N&&!C.$&&(C.fL||!r)&&document.hidden==R,r)||C.o5++,L=4==C.o5)||T?C.X():C.Tc,h)-C.Tc,z=v>>14,C.M)&&(C.M^=z*(v<<2)),C).bp+=z,L)||T)C.Tc=h,C.o5=0;!T||h-C.I5<C.yK-(G?255:r?5:2)?J=R:(e=c(C,r?127:85),K(85,C,C.T),C.j.push([Rd,e]),C.$=LO,J=true)}if(!((l^733)%7))if(Array.isArray(e))for(h=R;h<e.length;h++)k(5,0,true,r,C,L,z,e[h]);else C=eh(16,16,C),r&&r[$A]?r.Y.add(String(e),C,G,f(6,null,L)?!!L.capture:!!L,z):hR(20,false,z,e,C,r,G,L);return(l^529)%5||(J=G in TB?TB[G]:TB[G]=R+G),J},vk=function(l,R,G,r,C,L,z,e){return G>>l&((G^94)%R||(C.$v(function(h){z=h},r,L),e=z),6)||(this.l=H.document||document),e},sp=function(l,R,G,r,C,L,z,e,h,T,v){if(!((G^770)%(2==(G+5&3)&&(r.classList?Array.prototype.forEach.call(R,function(J){JR(1,0,"string"," ",8,J,r)}):Ms("class",11,r,"string",Array.prototype.filter.call(sp(28,r,l,"string"),function(J){return!(0<=Id(8,3,0,J,R))}).join(" "))),(G-8)%5||(v=R.classList?R.classList:V(15,12,"class",r,R).match(/\\S+/g)||[]),8))){if(!(y.call(this,C),h=R)){for(T=this.constructor;T;){if(z=(e=q(T,24),Bk[e]))break;T=(L=Object.getPrototypeOf(T.prototype))&&L.constructor}h=z?"function"===typeof z.G?z.G():new z:null}this.g=h}if(!((G^975)%5))if(e="array"===Vv("call",C,"splice")?C:[C],this.I)r(this.I);else try{L=!this.j.length,z=[],w(this,[pO,z,e],0,29),w(this,[ck,r,z],0,17),R&&!L||YA(2048,false,true,R,this)}catch(J){f(21,2048,this,J),r(this.I)}return v},AR=function(l,R,G,r,C,L,z,e,h,T,v,J,M){if(!(l-3&5))if(e=G.Y.K[String(r)]){for(h=(e=e.concat(),J=true,R);h<e.length;++h)(z=e[h])&&!z.s&&z.capture==L&&(T=z.listener,v=z.W||z.src,z.D&&Ms("class",12,z,R,G.Y),J=false!==T.call(v,C)&&J);M=J&&!C.defaultPrevented}else M=true;return M},Zc=function(l,R,G,r,C,L,z,e,h,T){if((R^683)%17||(this.V=G),!((R|6)%9))if(G.classList)Array.prototype.forEach.call(r,function(v,J){G.classList?G.classList.add(v):GB(21,"string",l,6,v,G)||(J=V(15,8,"class","string",G),Ms("class",6,G,"string",J+(J.length>l?" "+v:v)))});else{for(C in L=((Array.prototype.forEach.call(sp(28,G,(z={},23),"string"),function(v){z[v]=true}),Array.prototype.forEach).call(r,function(v){z[v]=true}),""),z)L+=L.length>l?" "+C:C;Ms("class",16,G,"string",L)}return(((R^918)%17||(Array.isArray(z)&&(z=z.join(G)),h=r+L,""===z||void 0==z?(od||(od={atomic:false,autocomplete:"none",dropeffect:"none",haspopup:false,live:"off",multiline:false,multiselectable:false,orientation:"vertical",readonly:false,relevant:"additions text",required:false,sort:"none",busy:false,disabled:false,hidden:false,invalid:"false"}),e=od,L in e?C.setAttribute(h,e[L]):C.removeAttribute(h)):C.setAttribute(h,z)),R)^874)%5||(G=b6,T=r=function(v){return G.call(r.src,r.listener,v)}),T},kA=function(l,R,G,r,C,L,z,e,h,T,v){if((R>>2&11||l.Pe&&l.Pe.forEach(G,void 0),2)==(R>>2&3)){for(e=T=(z=[],0);e<l.length;e++)for(T+=G,r=(L=r<<G,h=l[e],(L&h)+~(L&h)-~(L|h));7<T;)T-=8,z.push((C=r>>T,-~C+(~C^255)+(~C&255)));v=z}return(R<<2)%5||(G=l[KO],v=G instanceof Up?G:null),v},eh=function(l,R,G,r,C,L,z,e){return 2==(((((R-7)%15||(fO.call(this,G?G.type:""),this.relatedTarget=this.currentTarget=this.target=null,this.button=this.screenY=this.screenX=this.clientY=this.clientX=this.offsetY=this.offsetX=0,this.key="",this.charCode=this.keyCode=0,this.metaKey=this.shiftKey=this.altKey=this.ctrlKey=false,this.state=null,this.pointerId=0,this.pointerType="",this.i=null,G&&(L=this.type=G.type,C=G.changedTouches&&G.changedTouches.length?G.changedTouches[0]:null,this.target=G.target||G.srcElement,this.currentTarget=r,z=G.relatedTarget,z||("mouseover"==L?z=G.fromElement:"mouseout"==L&&(z=G.toElement)),this.relatedTarget=z,C?(this.clientX=void 0!==C.clientX?C.clientX:C.pageX,this.clientY=void 0!==C.clientY?C.clientY:C.pageY,this.screenX=C.screenX||0,this.screenY=C.screenY||0):(this.offsetX=G.offsetX,this.offsetY=G.offsetY,this.clientX=void 0!==G.clientX?G.clientX:G.pageX,this.clientY=void 0!==G.clientY?G.clientY:G.pageY,this.screenX=G.screenX||0,this.screenY=G.screenY||0),this.button=G.button,this.keyCode=G.keyCode||0,this.key=G.key||"",this.charCode=G.charCode||("keypress"==L?G.keyCode:0),this.ctrlKey=G.ctrlKey,this.altKey=G.altKey,this.shiftKey=G.shiftKey,this.metaKey=G.metaKey,this.pointerId=G.pointerId||0,this.pointerType="string"===typeof G.pointerType?G.pointerType:Ns[G.pointerType]||"",this.state=G.state,this.i=G,G.defaultPrevented&&xA.h.preventDefault.call(this))),R)<<1)%l||("function"===typeof G?e=G:(G[jh]||(G[jh]=function(h){return G.handleEvent(h)}),e=G[jh])),R>>2)&7)&&g.call(this,G,r||Hk.G(),C),e},X=function(l,R,G,r,C,L,z,e){return r>>2&((r|5)%5||(G.s=true,G.listener=R,G.KL=R,G.src=R,G.W=R),l)||(e=f(30,2,L,C)&&!!(C.P&L)!=G&&(!(z=C.CU,(L|0)+(z&~L)-(z^L))||C.dispatchEvent(q(16,22,8,1,R,G,L)))&&!C.jp),e},Ms=function(l,R,G,r,C,L,z){return((R-6)%5||(typeof G.className==r?G.className=C:G.setAttribute&&G.setAttribute(l,C)),R>>1)%6||(L=G.type,L in C.K&&JR(1,r,G,C.K[L],3)&&(X(7,null,G,11),C.K[L].length==r&&(delete C.K[L],C.H--))),z},f=function(l,R,G,r,C,L,z){if(!((l^((l|8)%((((l^353)%12||(G.I=((G.I?G.I+"~":"E:")+r.message+":"+r.stack).slice(0,R)),l)-6)%20||(r=typeof G,z="object"==r&&G!=R||"function"==r),10)||(z=!!(C=r.KU,-(G|0)+R*(C|G)-R*(C^G)+(~C&G))),311))%19))if(C=G.length,C>R){for(L=Array(C),r=R;r<C;r++)L[r]=G[r];z=L}else z=[];return z},w=function(l,R,G,r,C,L,z){return 2==(r>>((r>>2)%(2==(r+6&10)&&l.j.splice(G,G,R),13)||(C=l,C^=C<<13,C=(L=C>>17,-~(C&L)+~(C|L)+2*(C&~L)+2*(~C&L)),C^=C<<5,(C=(R|0)+(~C^R)-(~C|R))||(C=1),z=G^C),1)&14)&&(this.listener=l,this.KL=null,this.src=L,this.type=G,this.capture=!!C,this.W=R,this.key=++u6,this.s=this.D=false),z},hR=function(l,R,G,r,C,L,z,e,h,T,v,J,M){if(!((l-7)%(4==(l+3&14)&&(z=typeof C,L=z!=G?z:C?Array.isArray(C)?"array":z:"null",M=L==r||L==G&&typeof C.length==R),18)))if(L&&L.once)k(12,G,true,z,e,L,C,r);else if(Array.isArray(r))for(h=G;h<r.length;h++)hR(7,false,0,r[h],C,L,z,e);else e=eh(16,32,e),z&&z[$A]?z.Y.add(String(r),e,R,f(66,null,L)?!!L.capture:!!L,C):hR(6,false,C,r,e,z,R,L);if(1==((l^469)&13)){if(!r)throw Error("Invalid event type");if(!(T=(v=f(46,null,((h=kA(L,20))||(L[KO]=h=new Up(L)),e))?!!e.capture:!!e,h).add(r,C,z,v,G),T.KL)){if((J=Zc(0,11),T.KL=J,J.src=L,J).listener=T,L.addEventListener)yv||(e=v),void 0===e&&(e=R),L.addEventListener(r.toString(),J,e);else if(L.attachEvent)L.attachEvent(k(13,"on",r.toString()),J);else if(L.addListener&&L.removeListener)L.addListener(J);else throw Error("addEventListener and attachEvent are unavailable.");Ep++}}if(!((l|8)%9))a:{for(L in C)if(r.call(void 0,C[L],L,C)){M=G;break a}M=R}return M},O=function(l,R,G,r,C,L,z,e,h,T,v,J){if(!((l-5)%21))a:{for(z=R;z<r.length;++z)if(e=r[z],!e.s&&e.listener==C&&e.capture==!!L&&e.W==G){J=z;break a}J=-1}if(!((l^205)&27)){if(!R)throw Error("Invalid class name "+R);if("function"!==typeof G)throw Error("Invalid decorator function "+G);}if(!((l<<1)%14))if(Array.isArray(L))for(h=R;h<L.length;h++)O(7,0,G,r,C,L[h],z);else T=f(86,null,C)?!!C.capture:!!C,G=eh(16,24,G),z&&z[$A]?z.Y.remove(String(L),G,T,r):z&&(e=kA(z,5))&&(v=e.E5(L,G,T,r))&&JR(1,0,v,null,5);if(!((l^8)%(l>>2&15||(J=R),16)))for(e=r.length,L="string"===typeof r?r.split(G):r,z=R;z<e;z++)z in L&&C.call(void 0,L[z],z,r);return J},m=function(l,R,G,r,C,L,z,e,h,T,v,J,M,p,Y,A){return 3==(R-(3==(R>>(((3==(R+8&23)&&(G.push((Y=(h=l[0]<<24|l[1]<<16,r=l[2]<<8,-(h|0)+(r|0)+(h&r)+2*(h&~r)),M=l[3],-1-~Y+(~Y&M))),G.push((L=(z=l[4]<<24|l[5]<<16,T=l[6]<<8,(z&T)-2*(~z^T)+(z|~T)+(~z|T)),J=l[7],(L|0)+~L-~(L|J))),G.push((e=(C=l[8]<<24,v=l[9]<<16,-1-2*~C+~(C|v)+2*(~C&v))|l[10]<<8,p=l[11],~(e&p)-2*~(e|p)+(~e^p)))),(R<<1)%10)||(L=this,C={},r=L.o,z=function(b,Z){return(Z=r.call(L,[qs]),l)[b%2171*G%2171*35*(Z|0)%2171*G%2171]},z[L.S]=function(b){C[520*G%2171]=b},z[L.S](l),l=C,A=z),R^79)%10||(r=P(G),(r|0)-(r^l)+(~r&l)&&(r=-1-~(r|127)-(r^127)|P(G)<<7),A=r),2)&15)&&(r.M=(C=w$(85,r,3,c(r,85))<<24,L=w$(85,r,3,c(r,85))<<16,l*(L|G)+~(C&L)-(~C&L)-(~C|L))|w$(85,r,3,c(r,85))<<8|w$(85,r,3,c(r,85)),r.U=void 0),4)&15)&&(r=-(l|0)- -5-~(l|4)+2*(l|-5),z=-3+(l|3)- -4+(~l^3),G=P(this),L=P(this),C=c(this,G),r&&(C=nO(10,(""+C).replace(/\\r\\n/g,"\\n"),240)),z&&t(L,this,d(C.length,2)),t(L,this,C)),A},Xb=function(l,R,G,r,C,L,z,e,h,T,v){return((l-5)%3||(G=function(){return r()},r=function(){return R},G[this.S]=function(J){R=J},v=G),(l>>1)%2)||(v=T=function(){if(L.V==L){if(L.C){var J=[g$,z,C,void 0,e,h,arguments];if(r==R)var M=(w(L,J,0,33),YA(2048,false,G,G,L));else if(1==r){var p=!L.j.length;(w(L,J,0,28),p)&&YA(2048,false,G,G,L)}else M=i6(L,null,J,200);return M}e&&h&&e.removeEventListener(h,T,G)}}),v},GB=function(l,R,G,r,C,L,z,e,h){return(r>>1&3||(R(function(T){T(G)}),h=[function(){return G}]),1)==(r-1&3)&&(L.classList?e=L.classList.contains(C):(z=sp(28,L,3,R),e=Id(8,l,G,C,z)>=G),h=e),h},Op=function(l,R,G,r,C,L,z,e,h,T,v){if(!((G+1)%7)){for(R=[];r--;)R.push(255*Math.random()|0);v=R}return G>>1&3||(v=(e=(T=L[C]<<l,h=L[~(C&1)- -6+3*(C&-2)+2*(~C^1)]<<r,2*(T|0)-(T&h)-(T^h)+2*(~T&h))|L[(C|0)+2]<<R,z=L[(C|0)+3],(z|0)-(~e^z)+(e|~z))),v},Id=function(l,R,G,r,C,L,z){if(!((R<<1)%6))a:if("string"===typeof C)z="string"!==typeof r||1!=r.length?-1:C.indexOf(r,G);else{for(L=G;L<C.length;L++)if(L in C&&C[L]===r){z=L;break a}z=-1}return(R<<2)%l||(z=G&&G.parentNode?G.parentNode.removeChild(G):null),z},JR=function(l,R,G,r,C,L,z,e,h,T){return(C>>2&((C>>2)%12||(L=Id(8,15,R,G,r),(z=L>=R)&&Array.prototype.splice.call(r,L,l),T=z),11))==l&&"number"!==typeof G&&G&&!G.s&&((h=G.src)&&h[$A]?Ms("class",24,G,R,h.Y):(L=G.KL,z=G.type,h.removeEventListener?h.removeEventListener(z,L,G.capture):h.detachEvent?h.detachEvent(k(6,"on",z),L):h.addListener&&h.removeListener&&h.removeListener(L),Ep--,(e=kA(h,15))?(Ms("class",13,G,R,e),e.H==R&&(e.src=r,h[KO]=r)):X(7,null,G,5))),(C-8)%9||(z.classList?z.classList.remove(L):GB(21,G,R,10,L,z)&&Ms("class",21,z,G,Array.prototype.filter.call(sp(28,z,8,G),function(v){return v!=L}).join(r))),T},q=function(l,R,G,r,C,L,z,e,h){if(!((R^931)&19)){if(r=window.btoa){for(C=(L=0,"");L<l.length;L+=8192)C+=String.fromCharCode.apply(null,l.slice(L,L+8192));G=r(C).replace(/\\+/g,"-").replace(/\\//g,"_").replace(/=/g,"")}else G=void 0;e=G}if(!((R|8)%15))a:{switch(z){case r:e=L?"disable":"enable";break a;case 2:e=L?"highlight":"unhighlight";break a;case 4:e=L?"activate":"deactivate";break a;case G:e=L?"select":"unselect";break a;case l:e=L?"check":"uncheck";break a;case C:e=L?"focus":"blur";break a;case 64:e=L?"open":"close";break a}throw Error("Invalid component state");}return(((R^45)&11||(L=function(){},r=void 0,C=Pk(l,function(T){L&&(G&&LO(G),r=T,L(),L=void 0)},!!G)[0],e={low:function(T,v,J,M,p,Y){if(!v)return M=C(J),T&&T(M),M;(p=function(){r(function(A){LO(function(){T(A)})},J)},r)?p():(Y=L,L=function(){(Y(),LO)(p)})}}),3==(R-5&15))&&(e=Object.prototype.hasOwnProperty.call(l,tR)&&l[tR]||(l[tR]=++d$)),(R<<1)%10)||(h=function(){},h.prototype=r.prototype,G.h=r.prototype,G.prototype=new h,G.prototype.constructor=G,G.h$=function(T,v,J){for(var M=Array(arguments.length-l),p=l;p<arguments.length;p++)M[p-l]=arguments[p];return r.prototype[v].apply(T,M)}),e},Fb=function(l,R,G,r,C,L,z,e,h){if(4==((R^72)&(R>>1&((R|l)%(3==(R>>1&((R<<1)%17||(Dc.call(this),this.Y=new Up(this),this.MI=this,this.LL=null),15))&&(h=Math.floor(this.X())),13)||(G.s?e=true:(z=new xA(r,this),C=G.W||G.src,L=G.listener,G.D&&JR(1,0,G,null,6),e=L.call(C,z)),h=e),15)||(this.src=G,this.K={},this.H=0),15)))for(C in e=G,r.K){for(L=r.K[z=G,C];z<L.length;z++)++e,X(7,null,L[z],10);delete r.K[r.H--,C]}return h},Sh=function(l,R,G,r,C){return q.call(this,l,9,R,G,r,C)},mS=function(){return hR.call(this,16)},Qv=function(l,R){for(var G,r,C=1;C<arguments.length;C++){for(G in r=arguments[C],r)l[G]=r[G];for(var L=0;L<Wk.length;L++)G=Wk[L],Object.prototype.hasOwnProperty.call(r,G)&&(l[G]=r[G])}},Pk=function(l,R,G,r){return zB.call(this,3,5,l,R,G,r)},W,Q=function(l,R,G){G=this;try{ad(this,R,l)}catch(r){f(37,2048,this,r),l(function(C){C(G.I)})}},H=this||self,tR="closure_uid_"+(1E9*Math.random()>>>0),CO,GS=function(l,R,G,r,C){if((r=H.trustedTypes,C=l,!r)||!r.createPolicy)return C;try{C=r.createPolicy(R,{createHTML:lp,createScript:lp,createScriptURL:lp})}catch(L){if(H.console)H.console[G](L.message)}return C},lp=function(l){return O.call(this,3,l)},nO=function(l,R,G,r,C,L,z,e,h,T,v,J,M,p){for(h=p=0,C=[];p<R.length;p++)L=R.charCodeAt(p),128>L?C[h++]=L:(2048>L?C[h++]=(v=L>>6,-~v+2*(~v&192)+(v|-193)):(55296==64514+(~L&64512)+2*(L|-64513)&&p+1<R.length&&56320==(T=R.charCodeAt(p+1),(T|0)- -64513+~(T|64512))?(L=65536+(-1-~(L|1023)-(L^1023)<<l)+(M=R.charCodeAt(++p),(M|0)+(~M^1023)-(M|-1024)),C[h++]=(J=L>>18,3*(J&G)+2*~(J&G)-(J|-241)-(~J|G)),C[h++]=(r=(z=L>>12,63+(~z^63)-(~z|63)),~(r&128)- -258+2*(r&-129)+(~r^128))):C[h++]=L>>12|224,C[h++]=(e=L>>6&63,-~(e|128)+(~e&128)+(e|-129))),C[h++]=-~(L&63)+(L&-64)+(~L|63)|128);return C},d$=0,yv=function(l,R){if(!H.addEventListener||!Object.defineProperty)return false;R=Object.defineProperty({},"passive",(l=false,{get:function(){l=true}}));try{H.addEventListener("test",mS,R),H.removeEventListener("test",mS,R)}catch(G){}return l}(),fO=function(l,R){return V.call(this,15,13,l,R)},Wk="constructor hasOwnProperty isPrototypeOf propertyIsEnumerable toLocaleString toString valueOf".split(" "),Dc=function(){return zB.call(this,3,3)},xA=((fO.prototype.preventDefault=function(){this.defaultPrevented=true},Dc).prototype.jp=(fO.prototype.stopPropagation=function(){this.Z=true},false),function(l,R,G,r,C){return eh.call(this,16,7,l,R,G,r,C)}),Ns=(q(2,5,xA,fO),{2:"touch",3:"pen",4:"mouse"}),$A="closure_listenable_"+(1E6*(xA.prototype.preventDefault=(xA.prototype.stopPropagation=function(){(xA.h.stopPropagation.call(this),this.i.stopPropagation)?this.i.stopPropagation():this.i.cancelBubble=true},function(l){xA.h.preventDefault.call(this),l=this.i,l.preventDefault?l.preventDefault():l.returnValue=false}),Math.random())|0),zS=function(l,R,G,r,C){return w.call(this,r,G,C,5,l,R)},Up=function(l){return Fb.call(this,8,32,l)},u6=0,KO="closure_lm_"+(1E6*(Up.prototype.remove=function(l,R,G,r,C,L,z){if(!((L=l.toString(),L)in this.K))return false;return-1<(z=(C=this.K[L],O)(26,0,r,C,R,G),z)?(X(7,null,C[z],14),Array.prototype.splice.call(C,z,1),0==C.length&&(delete this.K[L],this.H--),true):false},Up.prototype.add=function(l,R,G,r,C,L,z,e,h){return(h=(z=this.K[e=l.toString(),e],z||(z=this.K[e]=[],this.H++),O)(5,0,C,z,R,r),-1<h)?(L=z[h],G||(L.D=false)):(L=new zS(!!r,this.src,C,R,e),L.D=G,z.push(L)),L},Up.prototype.E5=function(l,R,G,r,C,L){return(L=this.K[(C=-1,l).toString()],L&&(C=O(47,0,r,L,R,G)),-1)<C?L[C]:null},Up.prototype.hasListener=function(l,R,G,r,C){return hR(9,false,!(r=(G=(C=void 0!==R,void 0!==l))?l.toString():"",0),function(L,z){for(z=0;z<L.length;++z)if(!(G&&L[z].type!=r||C&&L[z].capture!=R))return true;return false},this.K)},Math.random())|0),TB={},Ep=0,b6=function(l,R,G,r,C,L){return Fb.call(this,8,5,l,R,G,r,C,L)},jh="__closure_events_fn_"+(1E9*Math.random()>>>0),B=function(){return Fb.call(this,8,17)},Cj=((((((((q(2,50,B,Dc),B.prototype)[$A]=true,B.prototype).Sp=function(l){this.LL=l},B.prototype).addEventListener=function(l,R,G,r){hR(25,false,0,l,r,G,this,R)},B).prototype.removeEventListener=function(l,R,G,r){O(14,0,R,r,G,l,this)},B.prototype).dispatchEvent=function(l,R,G,r,C,L,z,e,h,T,v,J){if(J=this.LL)for(L=1,T=[];J;J=J.LL)T.push(J),++L;if(e=!("string"===(z=(C=(R=this.MI,r=T,l),C.type||C),typeof C)?C=new fO(C,R):C instanceof fO?C.target=C.target||R:(v=C,C=new fO(z,R),Qv(C,v)),0),r)for(h=r.length-1;!C.Z&&0<=h;h--)G=C.currentTarget=r[h],e=AR(11,0,G,z,C,true)&&e;if(C.Z||(G=C.currentTarget=R,e=AR(13,0,G,z,C,true)&&e,C.Z||(e=AR(5,0,G,z,C,false)&&e)),r)for(h=0;!C.Z&&h<r.length;h++)G=C.currentTarget=r[h],e=AR(3,0,G,z,C,false)&&e;return e},B.prototype).E5=function(l,R,G,r){return this.Y.E5(String(l),R,G,r)},B).prototype.hasListener=function(l,R){return this.Y.hasListener(void 0!==l?String(l):void 0,R)},function(l,R,G,r,C,L,z,e,h,T){function v(J){J&&z.appendChild("string"===typeof J?r.createTextNode(J):J)}for(e=l;e<R.length;e++)if(h=R[e],!hR(18,"number","object","array",h)||f(6,null,h)&&h.nodeType>L)v(h);else{a:{if(h&&"number"==typeof h.length){if(f(26,null,h)){T="function"==typeof h.item||typeof h.item==G;break a}if("function"===typeof h){T="function"==typeof h.item;break a}}T=false}O(8,L,C,T?f(7,L,h):h,v)}}),r$=function(){return vk.call(this,1,5,3)},r8=function(l){return Id.call(this,8,8,l)};W=r$.prototype;var od,RR=((W.createElement=((W.contains=function(l,R,G){if(!l||!R)return false;if(l.contains&&1==R.nodeType)return l==R||l.contains(R);if("undefined"!=typeof l.compareDocumentPosition)return l==R||!!(G=l.compareDocumentPosition(R),-~(G&16)-(G&-17)+(G^16)+(G|-17));for(;R&&l!=R;)R=R.parentNode;return R==l},W).append=function(l,R){Cj(1,arguments,"string",9==l.nodeType?l:l.ownerDocument||l.document,"",0,l)},(W.createTextNode=function(l){return this.l.createTextNode(String(l))},W.appendChild=function(l,R){l.appendChild(R)},W).getElementsByTagName=(W.removeNode=r8,function(l,R){return(R||this.l).getElementsByTagName(String(l))}),W.v=function(l){return"string"===typeof l?this.l.getElementById(l):l},function(l,R,G){return"application/xhtml+xml"===(R=String((G=this.l,l)),G.contentType)&&(R=R.toLowerCase()),G.createElement(R)}),W).canHaveChildren=function(l){if(1!=l.nodeType)return false;switch(l.tagName){case "APPLET":case "AREA":case "BASE":case "BR":case "COL":case "COMMAND":case "EMBED":case "FRAME":case "HR":case "IMG":case "INPUT":case "IFRAME":case "ISINDEX":case "KEYGEN":case "LINK":case "NOFRAMES":case "NOSCRIPT":case "META":case "OBJECT":case "PARAM":case "SCRIPT":case "SOURCE":case "STYLE":case "TRACK":case "WBR":return false}return true},function(){return eh.call(this,16,13)}),y=((V(15,15,RR),RR.prototype.We=0,RR.prototype).a5="",function(l){return V.call(this,15,10,l)});((((q(2,70,y,B),y.prototype).r$=RR.G(),y.prototype.v=function(){return this.ep},y.prototype.getParent=function(){return this.CL},y).prototype.F=function(){this.s5=((kA(this,3,function(l){l.s5&&l.F()}),this).Ay&&Fb(8,12,0,this.Ay),false)},y.prototype).Sp=function(l){if(this.CL&&this.CL!=l)throw Error("Method not supported");y.h.Sp.call(this,l)},y).prototype.removeChild=function(l,R,G,r,C,L,z,e,h,T,v,J){if(l&&("string"===typeof l?L=l:((v=l.Zt)||(h=l.r$,C=l,G=h.a5+":"+(h.We++).toString(36),v=C.Zt=G),L=v),e=L,this.qI&&e?(z=this.qI,J=(null!==z&&e in z?z[e]:void 0)||null):J=null,l=J,e&&l)){if((JR((e in(r=this.qI,r)&&delete r[e],1),0,l,this.Pe,48),R&&(l.F(),l.ep&&r8(l.ep)),T=l,null)==T)throw Error("Unable to set parent component");y.h.Sp.call(T,(T.CL=null,null))}if(!l)throw Error("Child is not in parent component");return l};var Lj,ee=function(l,R){return sp.call(this,28,R,9,l)},$Q=function(l,R,G,r,C){return Zc.call(this,0,48,l,R,G,r,C)},hQ=function(){return AR.call(this,8)},TS=((W=(V(15,27,hQ),hQ.prototype),W.ip=function(){return"goog-control"},W).pL=function(l,R,G,r,C,L,z){(L=l.getAttribute((r=(Lj||(Lj={1:"disabled",8:"selected",16:"checked",64:"expanded"}),Lj)[R],"role"))||null)?(z=TS[L]||r,C="checked"==r||"selected"==r?z:r):C=r,C&&Zc(0,19," ","aria-",l,C,G)},{button:"pressed",checkbox:"checked",menuitem:"selected",menuitemcheckbox:"checked",menuitemradio:"checked",radio:"checked",tab:"selected",treeitem:"selected"}),vt=(W.L=function(l,R,G,r,C,L){if(r=l.v())this.R5||(L=this.ip(),L.replace(/\\xa0|\\s/g," "),this.R5={1:L+"-disabled",2:L+"-hover",4:L+"-active",8:L+"-selected",16:L+"-checked",32:L+"-focused",64:L+"-open"}),(C=this.R5[R])&&this.J(l,C,G),this.pL(r,R,G)},(W.J=function(l,R,G,r){(r=l.v?l.v():l)&&(G?$Q:ee)(r,[R])},W).Yv=(W.hy=function(l,R,G,r,C,L){if(f(22,2,32,l)&&(C=l.Yv())){if(!R&&l.P&32){try{C.blur()}catch(z){}l.P&32&&(l.Xs&4&&f(40,2,4,l)&&l.setActive(false),l.Xs&32&&f(32,2,32,l)&&X(7,32,false,3,l,32)&&l.L(32,false))}if(r=C.hasAttribute("tabindex"))L=C.tabIndex,r="number"===typeof L&&0<=L&&32768>L;r!=R&&(G=C,R?G.tabIndex=0:(G.tabIndex=-1,G.removeAttribute("tabIndex")))}},function(l){return l.v()}),function(){return zB.call(this,3,8)}),g=(V(15,5,(q(2,20,vt,hQ),vt)),function(l,R,G,r,C,L,z,e){return sp.call(this,28,R,26,l,G,r,C,L,z,e)}),Bk={};if("function"!==(((((((((((W=(q(2,((vt.prototype.pL=function(l,R,G){switch(R){case 8:case 16:Zc(0,46," ","aria-",l,"pressed",G);break;default:case 64:case 1:vt.h.pL.call(this,l,R,G)}},vt).prototype.ip=function(){return"goog-button"},55),g,y),g.prototype),W.Xs=255,W).KU=39,W).P=0,W.V9=true,W).J=function(l,R){R?l&&(this.B?0<=Id(8,9,0,l,this.B)||this.B.push(l):this.B=[l],this.g.J(this,l,true)):l&&this.B&&JR(1,0,l,this.B,49)&&(0==this.B.length&&(this.B=null),this.g.J(this,l,false))},W).F=function(){(g.h.F.call(this),this).Gc&&this.Gc.detach(),this.isVisible()&&this.isEnabled()&&this.g.hy(this,false)},W.B=null,W).Yv=function(){return this.g.Yv(this)},W.CU=0,W).isVisible=function(){return this.V9},W).isEnabled=function(){return!(this.P&1)},W).setActive=function(l){X(7,32,l,33,this,4)&&this.L(4,l)},W).getState=function(){return this.P},W).L=function(l,R,G,r,C,L,z){G||1!=l?f(10,2,l,this)&&R!=!!(this.P&l)&&(this.g.L(this,l,R),this.P=R?(L=this.P,(L&l)+(L&~l)+(~L&l)):(C=this.P,-1-~~l-(~C&~l))):(z=!R,r=this.getParent(),r&&"function"==typeof r.isEnabled&&!r.isEnabled()||!X(7,32,!z,34,this,1)||(z||(this.setActive(false),X(7,32,false,32,this,2)&&this.L(2,false)),this.isVisible()&&this.g.hy(this,z),this.L(1,!z,true)))},typeof g))throw Error("Invalid component class "+g);if("function"!==typeof hQ)throw Error("Invalid renderer class "+hQ);var JQ=q(g,8),Hk=(O((Bk[JQ]=hQ,9),"goog-control",function(){return new g(null)}),function(){return f.call(this,19)}),M1=((V((q(2,10,Hk,vt),15),17,Hk),Hk.prototype.hy=mS,Hk).prototype.pL=mS,function(l,R,G){return eh.call(this,16,10,l,R,G)}),Bt=(O(13,((Hk.prototype.L=function(l,R,G,r){(r=(Hk.h.L.call(this,l,R,G),l.v()))&&1==R&&(r.disabled=G)},q)(2,65,M1,g),"goog-button"),function(){return new M1(null)}),function(l,R,G,r,C,L,z,e,h,T,v){if(3<((T=(L=c(((C=void 0,r&&r[0]===sb)&&(C=r[2],G=r[1],r=void 0),R),79),0==L.length&&(h=c(R,127)>>3,L.push(G,(v=h>>8,-(v|0)-2*~(v&255)+-2+(v&-256)),h&255),void 0!=C&&L.push(2*(C|0)+~C-(C^255)-(C|-256))),""),r)&&(r.message&&(T+=r.message),r.stack&&(T+=l+r.stack)),z=c(R,245),z)){T=nO(10,(z-=(T=T.slice(0,-(z&3)- -4+2*(z|-4)-(~z|3)),(T.length|0)+3),T).replace(/\\r\\n/g,"\\n"),240),e=R.V,R.V=R;try{t(104,R,d(T.length,2).concat(T),195)}finally{R.V=e}}K(245,R,z)}),V_=function(l,R,G,r,C,L,z,e,h,T){for(C=(h=(L=P((z={},r)),z.O5=P(r),z.R=[],r.V==r)?(T=P(r),l+(~T&l)+R*(T|-2)-(~T|l)):1,e=P(r),G);C<h;C++)z.R.push(P(r));for(z.m7=c(r,L),z.He=c(r,e);h--;)z.R[h]=c(r,z.R[h]);return z},g$=[],YQ=((Q.prototype.N2=void 0,Q).prototype.Pq=function(l,R,G,r,C){if(3==l.length){for(G=0;3>G;G++)R[G]+=l[G];for(C=(r=0,[13,8,13,12,16,5,3,10,15]);9>r;r++)R[3](R,r%3,C[r])}},function(l,R,G,r,C){return(ct(":",2048,r,l,(C=c(r,85),r.A&&C<r.T?(K(85,r,r.T),pj(r,R,85)):K(85,r,R),0)),K)(85,r,C),c(r,G)}),AQ=((Q.prototype.LU=void 0,Q.prototype.II=function(){return P(this)},Q.prototype).w$=false,function(l,R,G){return(G=R(43680).shift(),l.N(43680).length||l.O(43680).length)||(l.N=void 0,l.O=void 0),G}),I,Vv=function(l,R,G,r,C){if(r=typeof R,"object"==r)if(R){if(R instanceof Array)return"array";if(R instanceof Object)return r;if((C=Object.prototype.toString.call(R),"[object Window]")==C)return"object";if("[object Array]"==C||"number"==typeof R.length&&"undefined"!=typeof R.splice&&"undefined"!=typeof R.propertyIsEnumerable&&!R.propertyIsEnumerable(G))return"array";if("[object Function]"==C||"undefined"!=typeof R.call&&"undefined"!=typeof R.propertyIsEnumerable&&!R.propertyIsEnumerable(l))return"function"}else return"null";else if("function"==r&&"undefined"==typeof R.call)return"object";return r},w$=function(l,R,G,r){if(r>=R.T)throw[sb,31];return K(l,R,(r|0)+8),R.A[r>>G]},oR=(W=Q.prototype,Q.prototype.S="toString",false),bp=[],ck=[],Z1=[],Kj=[],LO=H.requestIdleCallback?function(l){requestIdleCallback(function(){l()},{timeout:4})}:H.setImmediate?function(l){setImmediate(l)}:function(l){setTimeout(l,0)},Rd=[],pO=(W.pU=function(l,R,G,r,C){return w.call(this,R,G,l,3,r,C)},W.YH=function(l,R,G,r,C,L,z,e,h){return l6.call(this,8,l,R,G,r,C,L,z,e,h)},W.q2=function(){return Fb.call(this,8,6)},[]),t=function(l,R,G,r,C,L,z,e,h){if(R.V==R)for(z=c(R,l),104==l?(C=function(T,v,J,M,p,Y,A){if((v=(M=z.length,-~(M&4))+-5-(~M^4)+(M|-5)>>3,z.lp)!=v){A=[0,0,e[1],(p=(Y=v<<3,~((z.lp=v,Y)&4)-~Y-(~Y&4)),e[2])];try{z.up=Ub(5,A,24,Op(24,8,9,16,10+4*(p&-5)-(p^4)+2*(~p|4),z),Op(24,8,8,16,p,z))}catch(b){throw b;}}z.push((J=z.up[M&7],-(J|0)+(T|0)+2*~(J&T)-2*~J))},e=c(R,238)):C=function(T){z.push(T)},r&&C(-~(r&255)+(r&-256)+(~r|255)),L=G.length,h=0;h<L;h++)C(G[h])},Ub=function(l,R,G,r,C,L,z,e,h,T,v,J,M,p){try{for(e=0;1414361568!==e;)C=(C|0)+(h=(z=r<<4,J=r>>>l,(z&J)+~(z&J)-(~z^J))+(r|0),L=(e|0)+(R[(e|3)- -1-(~e&3)+(~e|3)]|0),(L|0)+~L-(~h^L))|0,e=e+2325900175|0,r=(r|0)+((T=C<<4,M=C>>>l,-2*(~T^M)+(T|~M)+(~T|M))+(C|0)^(e|0)+(R[e>>>11&3]|0))|0;return[C>>>G,C>>16&255,(v=C>>8,255-~(v&255)+-256),C&255,r>>>G,(p=r>>16,-~p+(~p^255)+(~p&255)),r>>8&255,r&255]}catch(Y){throw Y;}},i6=function(l,R,G,r,C,L,z,e,h,T){if(((z=G[0],l).fL=false,z)==pO)l.ty=25,l.o(G);else if(z==ck){C=G[1];try{h=l.I||l.o(G)}catch(v){f(49,2048,l,v),h=l.I}C(h)}else if(z==Rd)l.o(G);else if(z==Z1)l.o(G);else if(z==bp){try{for(L=0;L<l.QK.length;L++)try{T=l.QK[L],T[0][T[1]](T[2])}catch(v){}}catch(v){}(0,G[1])(function(v,J){l.$v(v,true,J)},(l.QK=[],function(v){w(l,[Kj],(v=!l.j.length,0),12),v&&YA(2048,false,false,true,l)}))}else{if(z==g$)return e=G[2],K(219,l,G[6]),K(r,l,e),l.o(G);z==Kj?(l.d$=[],l.A=[],l.C=R):z==kQ&&"loading"===H.document.readyState&&(l.$=function(v,J,M){(H.document.addEventListener("DOMContentLoaded",(M=(J=false,function(){J||(J=true,v())}),M),oR),H).addEventListener("load",M,oR)})}},K=function(l,R,G){if(85==l||127==l)if(R.C[l])R.C[l][R.S](G);else R.C[l]=R.Fs(G);else if(13!=l&&104!=l&&88!=l&&79!=l&&238!=l||!R.C[l])R.C[l]=R.Be(G,l);98==l&&m(2,13,0,R)},sb={},P=(W.Bq=function(l,R,G,r,C,L,z,e,h){return kA.call(this,l,8,R,G,r,C,L,z,e,h)},function(l,R,G,r,C,L){if(l.N)return AQ(l,l.O);return G=(R=(r=(L=c(l,85),L>>3),w$(85,l,3,L)),l.U!=r>>3&&(l.U=r>>3,C=c(l,98),l.Jy=Ub(5,[0,0,C[1],C[2]],24,l.U,l.M)),l).Jy[r&l[ck].length],-~(R&G)+~(R|G)+2*(R&~G)+2*(~R&G)}),ad=function(l,R,G,r,C,L){for(l.ve=(l.O=(l.bp=1,l.En=(l.NI=0,l.z5=N1,C=0,fj),(l.d$=[],l).ty=(l.fL=false,l.Fs=function(z,e,h){return Xb.call(this,11,z,e,h)},25),l.$=(l.Be=(r=[],function(z,e,h,T,v,J){return m.call(this,z,5,e,h,T,v,J)}),(l.yK=0,l).N=void 0,null),void 0),0);128>C;C++)r[C]=String.fromCharCode(C);(w(l,[bp,G],0,(w(l,[Z1,(w(l,((((((((l.nL=(L=(l.j7=(((((((((l.VK=((l.xv=((((((K(85,(l.QK=((l.V=(l.e7=function(z){return Zc.call(this,0,3,z)},l),l).C=[],[]),l),0),K(127,l,0),l).Dt=[],K)(224,l,function(z,e,h,T,v,J,M,p){(p=(h=(J=(v=P(z),M=P(z),P(z)),e=P(z),c(z,M)),T=c(z,e),c(z,J)),K)(v,z,Xb(9,2,false,T,p,z,h))}),K(174,l,function(z,e,h,T,v,J,M,p,Y,A,b,Z,U){if(!k(11,false,true,true,z)){if("object"==(b=(v=(M=(T=(p=(h=(e=P(z),P(z)),P(z)),P(z)),Y=c(z,h),c(z,e)),c(z,T)),c)(z,p),Vv("call",M,"splice"))){for(J in A=[],M)A.push(J);M=A}for(b=0<(Z=(U=M.length,0),b)?b:1;Z<U;Z+=b)Y(M.slice(Z,(Z|0)+(b|0)),v)}}),K(61,l,function(z){z.g$(3)}),K)(48,l,function(z,e,h,T,v,J,M,p,Y,A,b,Z,U,N,D,F,S){for(h=(b=(Y=(Z=(A=(e=P(z),U=0),N=function(x,E,u){for(;A<x;)U|=P(z)<<A,A+=8;return U>>=(E=(u=(1<<x)-1,((A-=x,u)|0)-~U+~(U|u)),x),E},(N(3)|0)+1),D=N(5),0),[]),0);Y<D;Y++)J=N(1),b.push(J),h+=J?0:1;for(p=(F=(T=((h|0)-1).toString(2).length,0),[]);F<D;F++)b[F]||(p[F]=N(T));for(S=0;S<D;S++)b[S]&&(p[S]=P(z));for(M=Z,v=[];M--;)v.push(c(z,P(z)));K(e,z,function(x,E,u,a,n){for(a=(E=0,n=[],[]);E<D;E++){if(!b[u=p[E],E]){for(;u>=n.length;)n.push(P(x));u=n[u]}a.push(u)}x.O=(x.N=x.Be(v.slice(),47),x.Be(a,47))})}),K)(142,l,function(z,e,h,T){if(e=z.Dt.pop()){for(T=P(z);0<T;T--)h=P(z),e[h]=z.C[h];z.C=(e[e[79]=z.C[79],245]=z.C[245],e)}else K(85,z,z.T)}),K)(164,l,function(z,e,h){e=(h=P(z),P)(z),K(e,z,""+c(z,h))}),false),K(162,l,247),K)(126,l,function(z,e,h,T,v){T=(v=(e=(h=P(z),P(z)),c(z,e)),c(z,h)),K(e,z,v+T)}),K(245,l,2048),false),K(137,l,function(z){xQ(1,z)}),K)(7,l,function(z,e,h,T,v){for(e=(v=m(128,(h=P(z),31),z),0),T=[];e<v;e++)T.push(P(z));K(h,z,T)}),K)(3,l,function(z,e,h,T,v,J,M,p){if((e=m((T=P(z),128),9,z),J="",z.C)[131])for(v=c(z,131),p=v.length,M=0;e--;)M=(h=m(128,21,z),~(M&h)-3*~(M|h)+2*(~M^h))%p,J+=r[v[M]];else for(;e--;)J+=r[P(z)];K(T,z,J)}),K)(104,l,l.ce(4)),K(4,l,0),K(228,l,0),K)(248,l,function(z,e,h,T){h=(e=P(z),T=P(z),P)(z),K(h,z,c(z,e)||c(z,T))}),K(78,l,l),K)(200,l,{}),K)(13,l,[106,0,0]),K(74,l,function(z){z.g$(4)}),K(238,l,[0,0,0]),K)(181,l,function(z,e,h,T,v,J,M){k(15,false,false,true,z)||(T=V_(1,2,0,z),e=T.He,M=T.R,h=M.length,J=T.m7,v=0==h?new e[J]:1==h?new e[J](M[0]):2==h?new e[J](M[0],M[1]):3==h?new e[J](M[0],M[1],M[2]):4==h?new e[J](M[0],M[1],M[2],M[3]):2(),K(T.O5,z,v))}),K(82,l,function(z){xQ(4,z)}),K)(88,l,[]),K(2,l,function(){}),function(z,e,h,T,v,J,M,p,Y,A,b,Z,U,N){return m.call(this,z,3,e,h,T,v,J,M,p,Y,A,b,Z,U,N)}),K(230,l,H),window.performance)||{},L.timeOrigin||(L.timing||{}).navigationStart||0),K(135,l,function(z,e){pj(z,(e=c(z,P(z)),e),85)}),K(138,l,function(z){z.U5(4)}),K(192,l,function(z,e,h,T,v,J){h=(e=(J=P(z),v=P(z),P)(z),c(z,J)),T=c(z,v),K(e,z,h[T])}),K(118,l,function(z,e,h,T,v,J){e=(J=(h=(v=(T=P(z),P(z)),P)(z),c(z,T)),c(z,v)),K(h,z,+(J==e))}),K)(202,l,function(z,e,h){e=(h=P(z),c(z,h)),e[0].removeEventListener(e[1],e[2],false)}),K)(6,l,function(z,e){k(7,false,false,true,z)||(e=V_(1,2,0,z),K(e.O5,z,e.m7.apply(e.He,e.R)))}),K)(244,l,function(z,e,h,T,v,J,M){(T=(M=P(z),P(z)),J=P(z),z).V==z&&(e=c(z,M),v=c(z,T),h=c(z,J),e[v]=h,98==M&&(z.U=void 0,2==v&&m(2,12,0,z)))}),l.j=[],K)(211,l,function(z,e,h,T,v){v=(h=(e=(T=P(z),P)(z),c)(z,T),Vv("call",h,"splice")),K(e,z,v)}),new M1("Submit"),K)(231,l,function(z,e,h,T){(h=(e=(T=P(z),P)(z),P(z)),K)(h,z,c(z,T)>>>e)}),K(158,l,function(z,e,h,T){(e=(h=P(z),T=P(z),c(z,T)),0)!=c(z,h)&&K(85,z,e)}),K)(86,l,function(z,e,h){k(27,false,false,true,z)||(e=P(z),h=P(z),K(h,z,function(T){return eval(T)}(je(c(z,e)))))}),K(116,l,function(z,e,h,T,v,J,M,p,Y,A){0!==(e=(Y=(h=(v=(J=(M=(p=P(z),A=P(z),P)(z),P(z)),c)(z,J),c(z,p)),c(z,M)),c)(z,A),h)&&(T=Xb(12,2,false,1,v,z,Y,h,e),h.addEventListener(e,T,oR),K(4,z,[h,e,T]))}),K)(51,l,function(z,e,h,T,v,J){h=(e=(T=P(z),P)(z),P(z)),v=c(z,T),J=c(z,e),K(h,z,v in J|0)}),K(79,l,[]),l.T=0,l.A=[],[kQ]),0,16),R)],0,13),32)),YA)(2048,false,true,true,l)},ct=function(l,R,G,r,C,L,z,e,h,T){if(!G.I){G.NI++;try{for(L=(h=5001,(e=C,G).T),z=void 0;(G.w$||--h)&&(G.N||(e=c(G,85))<L);)try{T=void 0,G.N?z=AQ(G,G.N):(K(127,G,e),T=P(G),z=c(G,T)),z&&z.call?z(G):Bt(l,G,C,[sb,21,T]),G.fL=true,k(19,false,false,false,G)}catch(v){c(G,162)?Bt(l,G,r,v):K(162,G,v)}h||Bt(l,G,C,[sb,33])}catch(v){try{Bt(l,G,r,v)}catch(J){f(9,R,G,J)}}G.NI--}},pj=function(l,R,G){(l.Dt.push(l.C.slice()),l.C)[G]=void 0,K(G,l,R)},kQ=(Q.prototype.$v=function(l,R,G,r,C,L){return sp.call(this,28,R,15,l,G,r,C,L)},[]),qs=(W.cq=function(){return l6.call(this,3)},[]),d=(Q.prototype.b7=(Q.prototype.ce=function(l,R){return Op.call(this,24,R,6,l)},function(l,R,G,r,C,L,z,e){try{L=l[((R|0)+2)%3],l[R]=(r=(e=l[R],C=l[((R|0)+1)%3],-~(e&C)+~C-(~e^C)+(e|~C))-(L|0),z=1==R?L<<G:L>>>G,1+2*(r&~z)-(~r^z)+2*(~r|z))}catch(h){throw h;}}),function(l,R,G,r,C){for(r=-(R|1)+(R&(G=[],1))+2*(R&-2);0<=r;r--)G[(R|0)-1-(r|0)]=(C=l>>8*r,(C|0)+(~C^255)-(C|-256));return G}),c=(W.X=(window.performance||{}).now?function(){return this.nL+window.performance.now()}:function(){return+new Date},function(l,R,G,r,C,L){if(void 0===(C=l.C[R],C))throw[sb,30,R];return r=(r=L=(((r=R|0,G=(r*r|0)%668|0,G*G|0)%668|0)*r|0)%668|0,r=(r*r|0)%668|0,r=(r*r|0)%668|0,r=(r*r|0)%668|0,(r*r|0)%668)|0,C(1365*((((r*r|0)%668|0)*L|0)%668|0))}),xQ=(Q.prototype.o=function(l,R){return l=(R={},{}),function(G,r,C,L,z,e,h,T,v,J,M,p,Y,A,b,Z,U,N,D,F,S,x,E,u,a,n,IR){l=(h=l,R);try{if(Z=G[0],Z==qs)return h==R?40:107;if(Z==Z1){IR=G[1];try{for(a=(D=(S=(r=[],atob)(IR),0),0);a<S.length;a++)L=S.charCodeAt(a),255<L&&(r[D++]=-2*~(L&255)+~L+2*(L&-256)+(~L|255),L>>=8),r[D++]=L;K(98,this,[0,(this.T=(this.A=r,this).A.length<<3,0),0])}catch(Ht){Bt(":",this,17,Ht);return}ct(":",2048,this,22,0)}else if(Z==pO)G[1].push(c(this,88).length,c(this,104).length,c(this,245),c(this,13).length),K(200,this,G[2]),this.C[187]&&YQ(22,c(this,187),200,this);else{if(Z==ck){this.V=(u=(F=d((e=c((A=G[2],this),13).length,-2*~(e&2)+3*(e&-3)+(~e&2)+2*(~e|2)),2),this).V,this);try{M=c(this,79),0<M.length&&t(13,this,d(M.length,2).concat(M),192),t(13,this,d(this.bp,1),167),t(13,this,d(this[ck].length,1)),v=0,Y=c(this,104),v-=(c(this,13).length|0)+5,v+=(E=c(this,228),2048+(E|-2048)),4<Y.length&&(v-=(Y.length|0)+3),0<v&&t(13,this,d(v,2).concat(this.ce(v)),197),4<Y.length&&t(13,this,d(Y.length,2).concat(Y),86)}finally{this.V=u}if(N=((U=this.ce(2).concat(c(this,13)),U[1]=(b=U[0],~b+-205-2*~(b|204)),U[3]=(z=U[1],p=F[0],(z|p)+~p-(z|~p)),U)[4]=(x=U[1],C=F[1],-(C|0)+-3-~x-2*(x|~C)),this).kv(U))N="<"+N;else for(N="",J=0;J<U.length;J++)n=U[J][this.S](16),1==n.length&&(n="0"+n),N+=n;return(((T=N,c)(this,88).length=A.shift(),c(this,104)).length=A.shift(),K(245,this,A.shift()),c(this,13)).length=A.shift(),T}if(Z==Rd)YQ(22,G[1],200,this);else if(Z==g$)return YQ(22,G[1],200,this)}}finally{l=h}}}(),function(l,R,G,r){G=(r=P(R),P)(R),t(G,R,d(c(R,r),l))}),fj,YA=(Q.prototype.kv=function(l,R,G,r,C){return q.call(this,l,3,R,G,r,C)},fj=(Q.prototype.g$=function(l,R,G,r,C,L){return m.call(this,l,7,R,G,r,C,L)},function(l){return P(l)^P(l)}),function(l,R,G,r,C,L,z,e){if(C.j.length){C.xv=(C.VK&&0(),C.VK=true,r);try{e=C.X(),C.o5=0,C.Tc=e,C.I5=e,z=up(2048,r,l,true,null,200,C),L=C.X()-C.I5,C.ve+=L,L<(G?0:10)||0>=C.ty--||(L=Math.floor(L),C.d$.push(254>=L?L:254))}finally{C.VK=R}return z}}),up=(Q.prototype.U5=function(l,R,G){for(R=(G=P(this),0);0<l;l--)R=R<<8|P(this);K(G,this,R)},function(l,R,G,r,C,L,z,e,h,T){for(;z.j.length;){e=(z.$=C,z.j.pop());try{h=i6(z,null,e,L)}catch(v){f(65,G,z,v)}if(R&&z.$){T=z.$,T(function(){YA(l,false,r,r,z)});break}}return h}),N1,je=function(l,R){return(R=GS(null,"tl","error"))&&1===l.eval(R.createScript("1"))?function(G){return R.createScript(G)}:function(G){return""+G}}(((Q.prototype[bp]=[0,0,1,(N1=/./,1),0,1,1],Q).bind&&(fj[Q.prototype.S]=Z1.pop.bind(Q.prototype[pO]),N1[Q.prototype.S]=Z1.pop.bind(Q.prototype[pO])),H));(I=H.watchbell||(H.watchbell={}),40<I.m)||(I.m=41,I.tl=Sh,I.a=Pk),I.YHg_=function(l,R,G){return[(G=new Q(R,l),function(r){return vk(1,5,11,false,G,r)})]};try{I.u||(H.addEventListener("unload",function(){},oR),I.u=1)}catch(l){}try{H.addEventListener("test",null,Object.defineProperty({},"passive",{get:function(){oR={passive:true}}}))}catch(l){};}).call(this);'));}).call(this);</script>
  <script type="text/javascript" nonce="/jdouJ36M51zYjFRNFdmCw">
  document.bg = new watchbell.tl('YHgNPMFCqd+R5h7qGHfrBRv96U54UyugZqs0eslbiL0JDvBPXj3Sa/+xFhFPXeVv5u6k1udvtGZJIVoPx9voILCGdSOcXwtLIjvQ2dLVHpbtl2SCCU1jxdb5k99cJ1K7PGhRfGuz8R67lQm9laMv/ZNOl3NDTh04iRpnqfNZHGaoIPp6AwxCib5E25ZxZFo95a3R4v9MlhIA60ZH3YAmPyjunXoaMGdS73zyps60+KOk6KdjHLaNt6QQeTIxEqbYtAdqYmA/AD+WYh5pvDAtSzw61EGPN+iqVEtO+X4fIz2oAk9GOA9ejDdAok05rA69dYB5tcG+x2z44+PaPziE4lhNS6p8shMXm3UrhU8xPh0grbO1GB5xt4IxpgRKI5LTHNUXJ8DiuBti1HGr8klcekHUopEOSK8K+ZBLNd8+tveDq3+QK2QNHCFcoSV6eL7kdkFDjcJC5C3HJG867iHFPfYAO4/MPD8whBdAUfn31KVyuB6M0U8UCrNCkKmNjXLukQlvynbz/zzgn++QPBDSlezfpQwqF/JbWv3CXg0qZ+m2LOFG0AcbKuMIHONOug+WvK4nXDu604oyYC7+w4sXHDeFq93+p3dhRLCWgITFJ8uxmrM5Fd0F9pRTC6XJI3dxtmbSLHEOpx8f526P61+aJrUbqD6r9/RC/rD8ujIHBIwZ5qCfJD9KxEPAASQ+FlkFLmBeerjjBAmfflGzhwXlyh5SQMPwbxheN3eu2jsKRIikESwumkKS4AAQo0zTrdqo4LSPP2DEBcR5RG6r/ezGeyT2dLk5IBCCbq8DpR/mZRI3rfw4ud0i8bNPypoBQlpcucIpcQPGm/SQ0NlMaW/pHCXizq3+VV2ji2KFP2Q7fM5oIytC6EJxfmT6uj9m1ino0thSbeLp1eZsGgqdI6vDHh9Rb77XVx7cLAGM5F4x5M/dSqqC+CU4Y82XntDDX5GzK/M6CL6CXxTZVPYfgIgxW2jp6i1g4tEaMML6C/yF1gZmMnd7G34bCPyQMGwzr9mqASKHF/Mfu78Yk/5O1Oj40OHd69BWQkH3+RPXvUQ5CJgN4tFoBR3hBNfxiEVB5yFKcxbjGHm/TEnVH1P9wgi6anxFmmm3DIK147hCbQfYL/N2jyyZWP13rvfaMDo8vEs7UV+6s40zwkvJ6rl55fQdoLR/7x5w/mTvJZdTGcEsCCwNlQZ5iEfFyzGozwDoqRgsejIXCfG7a9oPLo3dy+QTaK5jnA3MVefvcOOwrjk1n65sE3U1vzRLACwjnKl6bOpPJj8jW5Qcu/mnzFzjOwJAjBGndoVXd2xqGwqdTy3zMnUR9gxa1hP8BoTLGPjT93pqz4KCaiKQv/ZXbf9xe6PioEgyRaIkdXds/5VW0pk7jFXHz3k25Mq1LkZSbbieffQortOeFeVt+ei+deZbk4GZKmIbd+/WQkWKqNLhM4UIeFxtrE37sNqDnMjFEtpc8yUaMRgqeal/9QIatZZQUlAiaHl+TRKUmBUaOvxC355pzKqGOoY8+zyHb7wq32FDBaAZ03MDDLkQG/JSesUSWE+EkBwsXhwZu8Lcof0KAYSWakDtPVVkv1Jb/cviSQRZAvjxkFZJJWjIwhQNvY9Q4XYHtNFsF3StsIkD2YYURtNaoSerfRsmzkLh7/sMCLXUj16NyWuoHB8ZHqlCpf9kiTT6aPDu3+giGTlMHGS5n58epteEzI3InWPvuNGrzKCnYim1AFr/bNjHctXZl2wY9oNhHTqFESVZMPjI+FHeKD3dMnPJZRouX9yJB27wlspDvpzsdryKXMCV58gUmHzR0tNXU3HVSE2HPiRWu2MOPRAJVMIEiIyW1LzwbotM+PIQbUIZuGfPGY11jMv+0xDABHCEb1LcWVI2jFqiozvOwXNX3OB7C8MD0DHWTBlG9dREzp+CEblM06W5eoS1Z+vePdAPw/SvznJRTfhFKJBrUzZ6c8iSuLPaRgiRlK1OX/IUDm3H7l4No1VnA12e3UrHBGuArkoTB7alVWtcvU2u7HehYnzJIjNvTZnVEk1jcBL2UtHNdDJGCjVwGfmcuHekOuVJ1534QLlXyidx3nUBFGvCM/W2naWnMitPBOsTw9w129FhXnGVaa71c4F/Q9QnQjzAFaJDesP3lWvqkVPJG0K/i92djlakJse/rmU0Vp8f9pKoNri31+UukDAYAq+wusuh+uPhGjzunWRRhjsFx+5MmTxWy+V1+QPFDJl2a+AcGffHG+CDs23FzkzsJcXniNiiaquniXo4LQbL9UQRCQ+ccz4JEsLg7xh4R3P49PLIIvPTAoN420oy1rVaGnohJwu71SIyR+Q9p9EJR3lrwL24ieghSfbMuuY6K/qGDNaW9UD0vCEQZC4tf1rg1CeVU/U4R4XwZPpMGNvaxRziQ/FqqBOmTIYA8nFwnC7D0cZpstl+XzbulYZd742TMKL2oYOW2Zcpixe50A7DHO6hxSQMahcSobf10itmH67ANVvpO2uTIid+bZccZ7Svolo/xVRbPDPO1J+2vnxnZiQomaWzEdp5YWXLDbZjr2L5kR6wdbtepLyNdNwY5NJ4o7WK5HpEkqav2+i9lFJIjn8toggssxWm6Xk68cMke2Sl71c0T7ForHvrLgXp8DnUiR90cvGRLJ3X7vTU32K6vHDToOaBnfZO9hSFBBaFzrOu0iWb7o9C3f679GaapyNwnzm7im7esnQfJBlApsNNyXuP1OQe0u5wn2H22/3iUggkjFSlVSpOkWhhJuBg/luO1xAYm9kQ2QcFuhEX0v0TrLduTQecu7ycUFoOWqZBUn67eKKljicA1N/lIzl4R4TXiA540WVcX8jO63mtnI+6usdD2zGOwaTmWJDDafKpHp/VRGmu0bS4vrnbdgB4kd9ka0TQNC4l8l90rXL+6/BPifLEMptMPOiACJhlFGBaS5BIg8qSjv30PJmOLCafO0KV2SrdYJZcc+nMPohFJPnvZTMgPicqBaFBRLke/CaOVQiyXkOFV/aQX1YM6KwN8GpJ/YyNTe+8FbyIHGWn0oV5iQoipAx3YLjTIGGxc7nEPSuDTFdaQfIWNth78N8ZKv8cUdDe9vF9cyAB8w93wl2ilQs91b+viDX+2245spxoVh/PYR//vlu2xab3q25XP/YNG8gUfSs0CIuIrR9nYYZq/pyVUIKypBY/Sy3X4v3DMI1VwBNovqiGwHqZAshLXUNvt6gVk3l3+iwh8JEB6v5oqdKFwvA4gKCsve5HTF/7CKCg2a37mTqgOPfECRo74VIQdJgKVb5cluD4y1WfLv9qITeKg7nczn2np6VL13MKpoOzv6t73miJOzfkssYnTCGpM1yGUUIDFKBlREsYEnpDq2X5MaaxukOxB+tpuTcUM5mVXGNfVSApMVndySYQ0XKW8WeFzYHmW9aEzP/v6R5E9Oy/HZmikMARTmtpPZ4Z4duYaEWrB3KiK1YRwI1o10+8TImylT3Yyl6dgFkjZCr8eu/T00fbpt6WXs3m5ENPrWV2f0/0ehgGrT5CIydKqxmOgQsEiuLW6UmnE116fxN7QG9UZB9u0ZXv/R6MITPne8Aim/WMDFjhyCdwZv/TCOq7OBI36tuNDhI4jNVE6rFXHWTnV9CjMsfo8vs4oTRoMEMK7ebmfwDxP6kmi+iPJjKoJRSLXaJ2m4k8GlpghAP4MZiyRfBYdQwlnWEtFvHYdAvktI+tL3W0Oh6VNFk+8g6btXKeC1yoX0IlkyuhuaIjiI3tSF2jf6evFBMazpmUZl5F0GEbAN6VOWkamCZ+vNbYE3E0PIaR/pY1ZBXC3nJnSvQID0b/uW0bVLH+SSUWlbXLeQB4Krl0FEZw55JD6ldoeV6CS2UICzmomI3I4w3u5xq1QdILy5MSm8zB2tNptygH2sDgpWE/UOFNsegjbtsusgcnVl8KkG2jVYPD6ygw0g2VAoLnYqiZEPECGXTdDGgb527Fw5CfD6l+cz+a4sbdF1YNO6SCV4pnee9Eps/BoISRTA93fMvAWp/M4OqDcb4R3FAp3QkOgc7rR/pndVya1ZtgGcOVD9EBw1xaHHmI+nk0vYOcqLSRwbGLgQbr0XGIhmEWfmaROIfd7geZn7F62dJJLeqODSE4ThZbzm1RbuzCniRaIqfdyGCvng8kz2wp6ZzOa5EoKHIe6T2bSkqbgzo6eLoQww1mE7wFeJRkU9zooho98TrXov+TXmKPgq7i8cZU4tILoncVtawGm+05HT6KgGT+ALyGCRNkZk8//yvOtAATDglxuET1vGHc6vvwKakhj01LkX2OX0LRhFR7/BmG7myzcn4ffIDdN26i+RP+t3Wai7+NhYOvjFEozrsdzm1nwNvtVWN33tnvVIUDh9EWTQE6MX1kwgF1NdDtJphr+0CBE1+Ua7UmzKPxZiVxaXFjg877T3FDXsz3kvV45r/AHY0QWx9wLQ0IbCVvSwVGjo/5hf+1Z5WYn4iWARyB2HnoKpHURlii7acsED+i3qAtKJfdTiSMWK2iZRwVXYddula6oUi3QpHrhJVIPJlgyJVq0hhW5zsYr6in4q6lmQURwOgqDX4uevBHkWk7jf9hhc7/IqQ/ZURFlwh5o3FVnWYf2DPycTgzjRHxPAtwljfzguNJQN1PeWWna6JRxgZ5ufDPYtDiXk9MWGtySuSsuZvNVNoLbZ1/kuLzHBi+FZeV2Dl7YQ46QSzIbHG+10tSk9DOCbQRa8l5ePfd7MlmXO5L8UfUzH2JHq3ULF8+0A/Bx2tIXQpiiP//I3kfv7hN+MArvucLHspBopWjyrxO23szPHNJmQs5hPeh6rULFbEVEuJx1U0Ab4kvueR/INyc66BOUEaEqosmf4VHx2NDY2wFlRDBsoqzWvgslwB9U4FZt/sr5aPHJDgwsuCeV6HMtaV2NNkQZvTpIUwzArBVyCqEMamhZ9bXTS7wl+BucfofvH72PIiYLeEeKBUhCBziMTLDZtg2akKAUhLvrAbCK0deVp4FHyJ6COYTVwdtSu+rXUv41uP4xtN1+H4rHS4bk3XBnO28ArrgJuNnHQs4kjd/DX9PKn2OqzARLNwqqOEM+kXVxXmsPEi1vK1ScwjOIUjTPYb93TbJV3aavYvFPVoaegMSgOyZFxF4HRHRZwq+5ipwhPb6agrHGSD4wRpwV6ecl+K48vUmScDB8yB6gUBum0MeRqnC5XUIIrKdrxrsBjW6bMHII/rZ0Crd4Qo3LiWET2b5hbTY8EtftA8Twdc/3e5jHgdbhSEebWrHBgeeSwPPCm3KInpcFye+7hhKIeF37oYgwcpzXX2WgESSj6eMCVuoLtU2ygMfD2i4aRUiHc+pGtCisBvsu3Bw0tl6Dg9q6+0Fbh5pTzzr6IUAvb/89QCiWCIJnHLYo7bsoJlQMjVvM6fhRB4uT8NmDLKWQ1SnA1StPlKvif6pg9Y5hNsgK2xnSVt2hauCNXz6BoN2v1cNioNuEGDVM0v+1kbiyjE3p8PdJWXjACjH2AbKx/qtTs9XfZ4O4OSRRvpWNS95+fOZOSLKrYXKXXo8Vv1vF5eUnddcMWRNlUIL/uHoZ/1N0cVDQpWuqO2i6j3sQyOmEwGvqwhNLnuxmcr+Gx24H5Zr9KoqSjMxha7uYfAhJzeZZ4/8tgBiBrYgDgQ/zVol6AdIcQWCmvvyefClwiPaEUGyqg8y0onjmne98OomZNWt1GvVsUps2r7XxkzeajSczPgFo62OKJ7Rqy8iR+NeSYyOkpMKWe164OtwVgJxtCZ+MTmf+TJdzHP4lgxtf/wot3ZFwHXVbseVsMqKHOW5KvFs14NRNtCw37Zo6hgVtvav7n+hxLVWIfTnWdUurK8apgtBwHFnEpP0lVlinqB9Gggs4Yf955JGhGqULHxjoxdMQoD5M9sUqarEWlpEToUDSwebhU+gbu1wWUADvr8rlWT3RF43HfE1Qp1ho73i7SAk/I7iHsnNPnHVvaPxq9HdU9s1ioM4A2fjLbv2s5DDA6qjod2YL66igRC0O03HCxNJj3EHQn+LmDw29RTxn5wHqIJhu+hdeqjiwBEa/9Fv53ZvEzRJHlPsChoBOGzOyjB/h05kSzJ7x7bXDtKAKG+7Si9Xdl5ui33ZS7EtF/tMingd951nHaQl0zkyeWI0L4xKkOOf2AsMeBl20ZJLWB3idKrB58+GmY8E+94TuOba6Hy+jdnvI218dXPzMuGdtsKK4K5Y+ARZCSSEZxRwJH7u1ofnEMfF+1W+Jke5MSJ96YxnT0SUy/7Vly8BF7e0HWuCTc514UOX54/IrBVHCpnovlVBbtKGDBBNrQPQzJEQJlVbPS1mLfDL1XJxNyovFsdbXUSlgAc/PfsdsetYUPzl27/6AyLQHOJNcYi8LN2919XITSAk4YKhRJT1CqAM6NZ8jZasz9RYuue6exUGnMWPelFnu4uriiEGm1VEVwj0xXwJO6fxjk2QhFcRGAtRI5q/syxeXEIyE5zTGednIwlWLirkiX+ExQyFHGFM5/VEpGJ9I+pmM4hooCZJ6bmnVgW3/9CYfUgYp22BX4SUkni1Fq9JbCIyz+aeuxxzh5huS8EZ2mt/sRuDFIziUBhKMZQy+PqOz5LgK/72Fb8k+TP6/8Jal57c6vEdmc4HPx7vJ2SoC+VgxJvd07PzMDcbue1MB3+v6zuzBuApWnQSibkhJT3nBoxqVEhLS3P0gQI5QHKcX+jGxXYy3u0rbKXPTtwZfrln6ApXyjl2cstsALLTyej+PLilaJYu2Uw3UI2+IteKZUOGlVJomoIiXHdeWS80Wg6ayzCB72QBJL7AfYei/rcO8mogh0RXa52Ozc3Lsm7t132w6Dg9OzPtWwtwQg7CTXNGc/7ibvSGWSEQjrS3G4+cLpG7jA47DGzIl58YBTXDUvAX2jDO7N+h2pF5JbXg6RDee6J0O74HMxWYwHfLBMQACyPxeJFNW4A//O3EdTW9ZDkOb4qclhn8DYzfaXsr+Mr/IzHlt8niSDouJqTqb+gDcGf5eSgbhewUhqd+bQFpD0alKqtPp5j5Bjw6J7aEQ4F79fvWFLFMOWRpKGgZ85mdVzHxzCUEwRexgyyJxYMZq6gfNTNm3YsNi6cMQpbw5Cv3ePxOVRY9IUYmtHhmITP1y5I/PQpSoFK9rc1H+iCjNamZ1Mf8/kYaoRzzedCJLXXr1+8WkV8DdmAtuFORts9eVC1uFkZowQmnccXI/E8ahBB7YP5GP1rPWgLN5ZW4jn7AKfgCmM3Cv0wFr9jX1vcN4MSClGw8l31VRDdMEqVSxXLxDrnbCueoZCE1tyH5era7hErm0tjVmP+JnxVjGNjxHc0uGmuiJTccCy//riNpibOzVMizmbQFOrMbtyM0GOHKsuZD7jHu3muvku4O114S1w7+7GIz0ZiZVM3mveabbiDTEFUTOHXTmtHzDHQvl9LjHdyzMMToJP6LhOzVGvPwLctI+hC82shNXApX2eU5OvwDQlewt8V0Dwr10dV2TdjPF913kBUHCpemMV4Ve0Lt07XZ04HfPGo2xdyDmSWpRGvfwiROTFePTVGTkkjMvcZ51gcopAdqN2omxu7nPtqVD5SSRWdWVfmuKLvQ+oQiOd5h9j2REgymEAKepuOmmbZeT+TJwF6IjZ8p9fIAGRdh8tvPRgcT8TM9SC3ZAznZF9i94LZDXRB9hU+ywwq51RrK9zJp0APd33qsEiVz/eaLFqjQzM+KjUA622W9vHiEre8bfNbN6srHYYNBGvZbYrPCQxH4VPueXIC9Aw925LSzWuDCV6lTB4im4lRYT5YEGVrxvK1BqIeBEQRPUyYDeZMa6FRFzWHq8G8s3Oyr2FxztvZsNPqSHo+zKjP6wMdwiBs6/pfhzRGOvkqF/x3j7NcEOoDbKHdjcN1xFksv9z7mmrlxHh6Lm1WrMMH6Ed1mQ1G25VL59Ye4v2zarBTPBDiiHo6wpcrZZitgv9F3VStvcu5oP4yMVUFy6QJgU4TXk+mO1tQgnQLx+VxoJB+5aGN6FdxFG9GkJt1XofpZvB71PMrZnDPs7ZC3V9JTBP39GTE0hkBxd0HjvysYZ4hFUxWCgto95mW/OIgpDjMkXzZnFiG5yLTswusRmbIcP7tBm9CFJdkIL7IpnZd5gQiUl/cWz2LsWUqQ3Rg8Cry5AySZ0v2HCcsuW+TOBq/KBRc50geJaK09qcS5uvYPgvLckAm2W/Wgr6WNNkbNHW6kCkjNiLtutIjNocDhk8VhYNm+lL0c+pnuDKgU8one649mhuLnRJR7oX9R075BSD9YNm8ICvahg2CpbuxFhPIy5duq8OIkV7yTEGNSWaYneUvIFdUryfEIrKCWIRrp3xqbYpKe0eddUim4mJO9ge+pAkkHwiLO0/JR7G8sMk3Jq823ooUAa9Wl8xdabY4dYX7UTRNYb+Nk7J/fzvhzF4bMZ+Bv7uD/AlCip+Blqv7Ut4pa1qa2KGcIUcWhe2tic+IeTgXUAoqWjYWEh0qXSrs2eytehk2bdsWUYP7H/f1c/QH8xSLNMkwQQgWkNCQxPcaI3uUfHk8xQ52+us6+1hZK2hSGjZzRzP+voIp/u15QBoWLIlb0qkagKt0twxzzBrIkwSgDVDl6TglAVvMYWj1j15+sywb+x0w8g4r0xdz+Uz6Izm/gMFobS0n0MZNivKvnIr0ZR//WbDEt6JKnpw5kyhsvANK/k/mLnOkY33buw2H6lJmSmXxuUbroCvJ/LRvlZEK4oSskdPi3UUZO4FzLcd+NgZT459hBpyLyJgWN0cat8MGgmTV3aNjq6BoRE0lZdGA3Hydpb3zhK4Zpn0OZBTydZkDBESjyjdsv3fAqVtqoMdjZU1LuyJ1zjhr/FSyy6TDIuVgM6uglcgoCJ9ZZQEW0YjrYFDaNi7LFh8/4O80UL8euGYMHmD+73DPHcFI2fdOjhaH27z7OXRpc6TCDe+nO+nP8lW7YmZMNDAU0JNVIqFuGBJXpPszeZcAqIZ1GTAyS2gOU06kbyqgVnZPXx//NSd05rQo1GYP5tDNKnFOUNrYc6Z5+//DQCxyo/6QueRPQkXoG0/mMF8QA+7nY1BKq93avvbyINSNtGvBGagnXCU6SExbKrtAkgg5CwRchsXQ2AigLfraa0VVxf9GmJAeuXbfX4Eb516jlv9jJED6gAb/ZZr4fKkLTP4cF+XD4HJfpA7SvFsSPwVa+j4/H2MEdpWac63OkweQxc62hu3kkte2g+uLRGWU65+8KjRWEwRMjZ3QZ38WPFQABkHi0h07KJ6QPWfDTWNlmRDbCCPNgA5FOmqF/qTU3w6A6CTndmcvaDNScxeGJypbSMThFT27nBJVhMSYjmfYkaNKk489zBZM/kCDQTLa9fBAuWjpByNeDtjW4UpLtc6dE/cVmjIq1Ei7n4fNjyYsJ9pr0uWCgKqUzNe7A75avKps9uZTTct873C1hMqslVepSEPMKcWHiGQjSpodk5u982GjIdStDqCpDR3XgX3c680OfPdEPgVvu99cZlkL/gD5sHT5zyTQHm+nekjX+pw9UtesYjGNc5UgvEwH4ZS4IzcQNiizbfrJZYaNOCJd8wvXbEQ+gWgp2pfKgf0Gr0zS3qbyTHxTH+ZIwV2OYu+XG48xigOgMxsxrNpncxu+0bVpMd5Mkkpc6VW7xwBnlCT9iAQYbckJzQuQbRv1gBbkqXNQr5u9BK/7n54stLPvB3Iavw9fIZozaFqTbWQtM/LQIpYaUL86DiWIT1E8fax16gyS3PG448z/5J7y2lZI6M46gvC+8m9hVGjQ9D6pe4FgyzfB5qdJYKhxaxWNvkGTeIiAU4GD8iqxo9Srn4b5LajeD2uRjqBuUFdfTmUZYDYBTaxq/iy9fkaNaMLLqCoUuxfZyzD2vveJGtWf7c6cxXTvi2RnaTbU1nLIH/W6OE9l08Ue+VhVdd9qimqk+yOGYk0OpgQ5sXxwuFtj7fiGmYm0t4fVaYWmb5KlIb5vunBdZSPdbbFkfzDSFg+kdlEdXvwU8XaiIaBj3x95+qY9ZUxbbr2GwzFLXEWl2/G8QJNHFlhUq8LJLJ/XDag6pVJQSE1L/c/aBw0CqlpS3LZRlmTvQ++zRY4L48vDI8/RTS854aGTsRuQ5+KxL6hNNx2vhvt5TbF6LaOHJObIR+zjhuA39P8wPOTLmPRW2fGi6HM3fN3wm8cJaNQDdnJ4vZp30hL4nDuoYdkMuT+mcNzqZvaHqEgu+ABkDEUPpFUoHDpL8W/9exqHAn9cqIglMgbaUOQ9JoKz0xw2EnYiGd++QbNvscsy9AoWwcAP6cOHE8+OuBqFHBmQ6wl3E90ZKwcrApACujuVr5TWgwUGHsFhVOF6TyT7assAXleaPzbqmAmDAW37uKClAh1t54FLExiYTsV6yOwS3EE58x2cn1E066uuFKpLVvNMJhNc3HPV+AyRKoJteq7agl55CtBDPbZEg0s2PrYUlhIh2z5mSaIdE8fgSHuGJGOT+UZfATgaDS5QxixMdQfKWMZ8IZBL3NwB0PhibbfBJ0Nyv2dZwV6p4eDU7sjO0pgdJvQHwC+gjpodH1nGIOPOm7lJTDRbNLF4Lx2NkYo/yo0XtyNZQCPidylDGpxEEYOuOXfRmvRhDM1rfaXAwXkAXToBBROIQGQzPypN0Xemr+Yix2bBkmJJIEidGkEOXvc6k+mna/pDndJ/FSN4yzlQCOM9kXQmUhCRg1Ru+dP8zIPzfpNpu8ZndAh8sCCSVhRFKGgqln8qQisJjW+TB/rkiLwd+D+8JXj2RHEd5CijW3hiXSxyQ72DvLSu9a4HVmugR+PNnRTol4wzMISWYynsOZx+LJJI8Ru4ymmI+Ni7rcb145K8va/JIRowzIwd24nefxK6ZmIGFQjhEuUNPWbzWQpgmYKE0SF0Y3BBmiLWx0JVeG4o0/wj2nF/7chSdeIKs1uNnIcSwa/adnGoHf/aLvzjNsV9bJ9VxPcVrc4IAkWNcanPZ/uQrGFzcaM91OU7VElOLY4wVI5JGnXg+fGNa9VkYCyLVSeC16R2FGR2jFgbNO+ZYDUf+JMzBPNT/9dSyThCJxfPSiSCc+0mSDqFRCizPZdg1WfZROwJ/f5hJz2e5o4sy/EgtmKh7lfy83ptk62KTSDCLMixO4S8C87k3bQdNcI5RXtgr2W0lC5EMypL06CtMBD+4JiWnAwC2Sbsi/WmtYiih2npPp6OtveXiGeazqh42gx1Zlshjz0E0pF8jvfqgevBR1C+I0RUFaPAfd0LV576zYYdUWqhgfTjDvlaCDJYsBlYxBBGPpSs3ZcKm3WOZ9leITgVTGQnA38XTupiXDn1yulBGKp6cdhA+GRQuG8Oh3ifoXb5wG4T2C6fPJyMWBHTYS7Ng2fQ/BR00FQp1W3Fr6uh28v2F97X8EvV+PEEicpU5FmGmu/gcb8UQZb6JzlQ4zXM8RnVYPcfGoJEXh8g2PRZHXBNyxGqa/8aMCTPISbEDq87Vep5NGOZzrV36QGorjRKB6uiblUbFNiQJk0/Gt5mD8XCpJmwtzeje+iJKaP8jqpIECGRHntzDAjY8rPtggGFx19O5+3Lm069mXodsPO/yssYOljzqbIEi1l76uzqRDXL9PxNnS+at0sMPi6r0jUt2vN36OKzw4Boncv9rsQewDl/azUfKBog4Tye0oGT36LAWoUM5plHmhhJ8Phm7W/RcCcO3PaxvN0ZzrQ593o1MDAjjiLrHoH7TbBwLAVYI/rVWywvp6dU45rtmg8JGY6dy+VAYA0hjehHU/bR5BagpYMx+Q9hU7uWJoRCk6e9nislex+HT9+MhzjRQBL6i8enObX6TZCwCLXFZA9cq/DPC7BYhxgDRrRtJ/S/rkZU7Wehe6cfWP0grwD4XOdO7OvOv5hehMmV1LYkJtm8kgDB4XaGmsAn1zbWrk894mQZcN/fWQCSWUiiuBWou4KALmTNT8KDsfpSEvBdzn9un1QY0E8IAaR14tLRJHrGhQCWvfbHORXPHS1ugZzwSgozT0f7c0bo+PpMNjwmVwJl5QcjLg6Ac9agFrGit4azJy1rP2wuHBLIPQq2EIj1JJ9y87cemti7hk5YTxxuMoviCWfB4ZeUi3zE7tdjTy+xFH9k6Z3d0iwtqFxMsOQ9xZCQCmVMsRPwvEuhZuR53neBejQxZ9gWnX92f2z2E++/Ua1DCje117xx5oT8Vbc79bBqymVU6Tpp+qmtFDcHTE8tcXVqjgDNhlNu/b1BvCngq8Jj+CdumLnQRsyXbg0qA4wgg0yAMCPJi20TPZJad6LaVZmcWc2SNlcSpX0hEhDjYmy2d/0YE0pt07oV4ZsK/zG6jDWnEU29PL1lEKL0+H7wGUG8u+ady1Rt1FqGK2UMkAWXUx3Ts0Cbi6DYxZGyiFp53XZu/HypatU8AfTYM44AuSFBWhM5mZSFABe4TV3kzeEHVAix2FUIcknN7p7DGDA69brhicKg0j+sxB+vWRE7vVQceKzhDj3x8Te1VwV/2cJ2Hx+uFIa6aqxJlmcaPMuXFJHYt40JirceBWpShQz/HjS9vHKPP/wO4T1DcysNWkf5xhPr90KIamPuxJbPshobKChqc/wGKMqrI4kl7jr1S4UZ/60Cpah6MJrWJzrH1IJMVkf4pN1MC1Dep4NnUQi+lBGuBzz13xsuJmuNyI70nVHgieAYqQ28qHkVC0YGROd/5BcSA2SDpMnMg8mIRpF+KW838A5jRYxfDiSb3TmajZu1jtyVtT4UnRuzn9ff/A3jVy+Etq4UovGoVf1tl5A52TZIV/pLZfE32D29hew8RcAuyjnJ3r1kz3LjwVMy4wbp8T0n26WSnVCM7viwyabHwFg+RQnzekAruTy0K7xq1GtQ51R798DkVqpX7DLeJ9I82RgVb/Uc2E7msAdStDCjH5rj8tIrP9MMFvVZSkkJYv395km5xUkBsHwVAze96TvoEAYxJ6IiH2+c27c9Rcjn5U6gEyNumcp2NXSSYzh1X0Wh2RZDju92opfCtwCPMb/pVhLWXD9EXpGArbnkYJCuiSTuPDLogfUWGDK9HgutZjDPRjvleF5EiMBnaxKotNaWTvt/h5C5qXNa+xGrNaKBBkQtRFV936dBJtjwOkhXE9KX5pAneCIRfwE7WIqYTjlkufjFlEE7cXeqnRmZ2h18RW5magThfWLMeSmXvxqck6fwUVOvC6vruOxP7dDq1feJlCcSKqCmPDXGR4I3x/agRLAMLDOZcHgMsz/clthOmWFvaAYfkz+LyAVEODzPdxEgJrXYsYblCio5VcmZcBZnfT2rGgoJjwZTbiFUauirgy1jydIVHZULMn279K82OYhd5OLew7LYXl/SmdLRf8P382AqeXQBFpfy8onxCUCJfEStr4Zs8puihksaF+czdiwK5R07DaFTQDYfmK7UC4c46hi9DBuINMCqvo7uTWZBRNUX/LyVrwu1A6a4c4JfS9RxZmF83du5nd1ZF4muTQLtEgkE740QCpkka8Nm1fO9v4CTulFtkdtZzJTGItCLxx+3qTt9N6FdaJhKb+N1E5qvIneUNPQ3bi0/wB5F5fua4dJS8RN+ncN1sSFqEA7PNDxf6dvp5+4FfcZYEVfbSupOhfsGv4N4RdxNfEqLi6aLJv5IGipVs4SLpcIr/Q7WXstEipR+1xJdHUmIc9leb954mroedjwxg5xgthGWyU7PTtfgZpIG68GJ6WQ42JCyOPviD1syo5ZuSnYRzWTKeuZA1OJwu7Tk0oNXylCunmo4gUyEM8YYajc+Se7gXA7OwzwKFhvEIwlh+8+JUFd86Ab9QGls1Xc5RleWTmeeqiSY6YiCd3Z5s2MT76gA2QrlTKVIzblgLN/BH8oL6/m4ouKz1d8yQiFjeDyur/tOv3qr1lqnS68aKu0IjJqiegSELKownLOZYs56Jz+hy4GqWOecb9gNpTh4nhlS9ytuOwrxV2ckRK1aWXpdnuuZj0nT93JJU7SbgMsNpwotkgCwdtp6CVOgvm4GogynVjo2wLE4/ZSp3dbRsncln3Dn9ZMEauoSD4Lr2rWhm9rzJxpb0WQJ2LhkJaSWU36aApZb4jUrcWLHNQ2+aRA/6MLnPHLmztJ1ClpKJ51bEaGcth+yqQ4DvHBMHMWmymazGr1EU1cBT9anGOK+6+fZLNpIzfDm07hHoIRIwIFW3S/V5yyzG4pDX4ZY3k/c4fqiX9HVxYQs8Wv/6cmc+ox9r5GgvD7OEfG+om2nf5KQvw+1HQgcX9yYU5PtkqM3/GDF7KFOXZGZvwyGHX1Shyoq1XZ1zMHtrMpgoiC1LckQJD13krG9O/dhFGUhyApGGq3dcKA3ZZCu2oyZfEU/q/HI/CPjmwODi2Z9Ls8e0lUx69UC3VtzvwM7xzpEwQly06DFOphOTyv6uWFks5ZJnx53M6F509bhRuJzqirYIW8SHlj1bXSh60/KEvwillHkoUxeD3A4kv0EpPlZao38anTwiIEGikuGf+zjpqXgjcKW8r7e4s4rjefPQTPE9XBBVobKrNB9cnyE4mrpbnbk8WcUnf8BKCtQBNvlyVvj672MMd/YVVRWza5+lgmVEVxsKwkG2wcr49MxwdZYwBWDte2hUp37Ym+ST70ofHhzBAPR3abTmo9Bt+BNr3pR1qVYyHqfkPsQm4KokK6Goix/KWXf4qXvjmCx9LBN84mCFj5mYUE0nRDrcbYDnvjvvy8tVLP1RuB9I9/9+biHGmB/nr7RmLogIrE6tuflSdNGMgA9XVN2RJW8XDp+xMq1PJ4/VHysgRo1E0Yt52WKHtia5HoH4JynutLAtbSYEne1flXSy5yQU4KWHAM6mv+5xGpL7CSZzggUXA2dT+2ltEy4ebiDPHIzEeXp6Ap4v11bAXmlzlbiGHKf0D2LV/+0aDvDVvBr4zU2e3tMCoWGnokPvDyCwx7smBHLTf/QvR5tMI39qQUuG7b6mNvgVTPu2w9XJAvA3zq0kYBgUOnFY25DgRK4AikROzhphZrJyNGHBsxVo6zNZXOEceHp3fkM6/21LBIlbiglrD1surlxwy1Y2K6dlamguy67l8C+94bHIUwLuaROosILhht+MUPlLvh4uJEr0GDGTJ3lAzz0SjhzMBF886VbirOnOnIhi8Py7zE9jRsQQ23VoNvaW1vaN++ZAMzZWOd8RQDF3vSCaBSW9KU4SmvJdU7s9XRBNnZGWcBF5DOJWR58l9RhIHrn8mJ6/IrsMa8tM4da5+Ze1OvyavUV7LiRxQxFRoZIkFjStoxbdLtArhrYDrHqbrwnGpTLmAa3E4uN2v3Q0vViAG+zUsQuch0KS4qWUKITNc6dcsAgKcJo2O491o7L0aHPhEGkXTEctwF4TsOfi6uL9Rr29rSTfUCkQ0e9bsDxbAkg7YinXKFSefbMwzHrfZhu/mFgT+TStgo+K3F0IVRNxDdYJGqyxDbtpB11O9/8tIXlc+/VIQWr1pX14+WcigiFkVpwzN9Uu8Eg84oUzKxnMzN5PD5uYQlLQxKzpuNxyU5ImeyRJwMd2vvJ7VgheaIZpFOj9i1wvizUMtyXxg03Avy4pEsuPuHrKtk9n6/ErTL6KTOiT3ooU7zlA8S6fipwMR4ersOaMY5z+3xhELg/hPUvosRK+Qx0MEBix8ymzRPpV2e2Ieayketbx6h0V5OqxbK5VjDTA9VZzAdc/JH8AyVhSbNFwCnbtMvkn4A9G89RtJ25+D5FB8r7ZMe8syDWXyVjte2Frq5aHe564ciCMvhMMRM8zwIeogmGLstbiB0Jhqf2Vz3pw0oYk6yyMyun+VgkShYSsZu498guoDLvNzv6mny9Wkw6KTGDhGNuq59+nDACBDi3vv0yAgdvFBG4XoqBBs4ZVNMpvXKH9Wd/w0hN94rA1viQ8V+lex+WCWrFAAeb57iKxiEFnyEWNX5Yveu5Ggs/aHGAsAcAOgJ1EbRklxEErwqnX30W5u+m+F1z6p4OEUeS2idC3VLqpgQ3B2xugBSpuRGkSe8xiFROdYLKWxvSIpuxTbsGwXihJAwVqDVUi8jGjuXjDrH1ERCXzLx+4+TsyJzVG8ELT1ZESyJzr41sQlutkasp6y+k9SxYwYYVwQFOYlk1/vfOqfBtu5qnRjcKB5lLIMXLO7LxdEc7oiQFNMxovDUP0ZRqee90r5xBd2p0Yl87ZxN6ZwlEb+pBKypBRntbYvQ4B0AFqx8o8qA5AhNHJVtIahTooqt5kah1+Bjad8NRdp7ntQ==');
  </script>
<script nonce="/jdouJ36M51zYjFRNFdmCw">
  gaia = window.gaia || {};
  gaia.ps = gaia.ps || {};
  gaia.ps.hasPrefilledIdentifier = false;
  function gaia_parseFragment() {
  var hash = location.hash;
  var params = {};
  if (!hash) {
  return params;
  }
  var paramStrs = decodeURIComponent(hash.substring(1)).split('&');
  for (var i = 0; i < paramStrs.length; i++) {
      var param = paramStrs[i].split('=');
      params[param[0]] = param[1];
    }
    return params;
  }

  function gaia_prefillEmail() {
    var email = null;
    var form = null;
    if (document.getElementById) {
      email = document.getElementById('Email');
      form = document.getElementById('gaia_loginform');
    }
    if (form && email && (email.value == null || email.value == '')
        && (email.type != 'hidden')) {
      hashParams = gaia_parseFragment();
      if (hashParams['Email'] && hashParams['Email'] != '') {
        email.value = hashParams['Email'];
      }
    }
  }

  
  try {
    gaia_prefillEmail();
  } catch (e) {
  }
  
</script>
<script nonce="/jdouJ36M51zYjFRNFdmCw">
  var gaia_scrollToElement = function(element) {
  var calculateOffsetHeight = function(element) {
  var curtop = 0;
  if (element.offsetParent) {
  while (element) {
  curtop += element.offsetTop;
  element = element.offsetParent;
  }
  }
  return curtop;
  }
  var siginOffsetHeight = calculateOffsetHeight(element);
  var scrollHeight = siginOffsetHeight - window.innerHeight +
  element.clientHeight + 0.02 * window.innerHeight;
  window.scroll(0, scrollHeight);
  }
</script>
<script nonce="/jdouJ36M51zYjFRNFdmCw">
  if (gaia.ps.hasPrefilledIdentifier) {
  var form = document.getElementById('gaia_loginform');
  if (form) {
  form.submit();
  }
  }
</script>
<script nonce="/jdouJ36M51zYjFRNFdmCw">
  (function(){
  gaia_onLoginSubmit = function() {
  try {
  gaia.loginAutoRedirect.stop();
  } catch (err) {
  // do not prevent form from being submitted
  }
  try {
  document.bg.low(function(response) {
  document.getElementById('bgresponse').value = response;
  });
  } catch (err) {
  document.getElementById('bgresponse').value = '';
  }
  return true;
  }
  document.getElementById('gaia_loginform').onsubmit = gaia_onLoginSubmit;
  var signinButton = document.getElementById('next');
  gaia_attachEvent(window, 'load', function(){
  gaia_scrollToElement(signinButton);
  });
  })();
</script>
  </body>
</html>
