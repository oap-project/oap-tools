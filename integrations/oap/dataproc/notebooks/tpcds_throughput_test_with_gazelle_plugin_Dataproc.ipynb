
<!DOCTYPE html>
<html lang="en">
  <head>
  <meta charset="utf-8">
  <meta content="width=300, initial-scale=1" name="viewport">
  <meta name="google-site-verification" content="LrdTUW9psUAMbh4Ia074-BPEVmcpBxF6Gwf0MSgQXZs">
  <title>Sign in - Google Accounts</title>
  <style>
  @font-face {
  font-family: 'Open Sans';
  font-style: normal;
  font-weight: 300;
  src: url(//fonts.gstatic.com/s/opensans/v15/mem5YaGs126MiZpBA-UN_r8OUuhs.ttf) format('truetype');
}
@font-face {
  font-family: 'Open Sans';
  font-style: normal;
  font-weight: 400;
  src: url(//fonts.gstatic.com/s/opensans/v15/mem8YaGs126MiZpBA-UFVZ0e.ttf) format('truetype');
}
  </style>
  <style>
  h1, h2 {
  -webkit-animation-duration: 0.1s;
  -webkit-animation-name: fontfix;
  -webkit-animation-iteration-count: 1;
  -webkit-animation-timing-function: linear;
  -webkit-animation-delay: 0;
  }
  @-webkit-keyframes fontfix {
  from {
  opacity: 1;
  }
  to {
  opacity: 1;
  }
  }
  </style>
<style>
  html, body {
  font-family: Arial, sans-serif;
  background: #fff;
  margin: 0;
  padding: 0;
  border: 0;
  position: absolute;
  height: 100%;
  min-width: 100%;
  font-size: 13px;
  color: #404040;
  direction: ltr;
  -webkit-text-size-adjust: none;
  }
  button,
  input[type=button],
  input[type=submit] {
  font-family: Arial, sans-serif;
  font-size: 13px;
  }
  a,
  a:hover,
  a:visited {
  color: #427fed;
  cursor: pointer;
  text-decoration: none;
  }
  a:hover {
  text-decoration: underline;
  }
  h1 {
  font-size: 20px;
  color: #262626;
  margin: 0 0 15px;
  font-weight: normal;
  }
  h2 {
  font-size: 14px;
  color: #262626;
  margin: 0 0 15px;
  font-weight: bold;
  }
  input[type=email],
  input[type=number],
  input[type=password],
  input[type=tel],
  input[type=text],
  input[type=url] {
  -moz-appearance: none;
  -webkit-appearance: none;
  appearance: none;
  display: inline-block;
  height: 36px;
  padding: 0 8px;
  margin: 0;
  background: #fff;
  border: 1px solid #d9d9d9;
  border-top: 1px solid #c0c0c0;
  -moz-box-sizing: border-box;
  -webkit-box-sizing: border-box;
  box-sizing: border-box;
  -moz-border-radius: 1px;
  -webkit-border-radius: 1px;
  border-radius: 1px;
  font-size: 15px;
  color: #404040;
  }
  input[type=email]:hover,
  input[type=number]:hover,
  input[type=password]:hover,
  input[type=tel]:hover,
  input[type=text]:hover,
  input[type=url]:hover {
  border: 1px solid #b9b9b9;
  border-top: 1px solid #a0a0a0;
  -moz-box-shadow: inset 0 1px 2px rgba(0,0,0,0.1);
  -webkit-box-shadow: inset 0 1px 2px rgba(0,0,0,0.1);
  box-shadow: inset 0 1px 2px rgba(0,0,0,0.1);
  }
  input[type=email]:focus,
  input[type=number]:focus,
  input[type=password]:focus,
  input[type=tel]:focus,
  input[type=text]:focus,
  input[type=url]:focus {
  outline: none;
  border: 1px solid #4d90fe;
  -moz-box-shadow: inset 0 1px 2px rgba(0,0,0,0.3);
  -webkit-box-shadow: inset 0 1px 2px rgba(0,0,0,0.3);
  box-shadow: inset 0 1px 2px rgba(0,0,0,0.3);
  }
  input[type=checkbox],
  input[type=radio] {
  -webkit-appearance: none;
  display: inline-block;
  width: 13px;
  height: 13px;
  margin: 0;
  cursor: pointer;
  vertical-align: bottom;
  background: #fff;
  border: 1px solid #c6c6c6;
  -moz-border-radius: 1px;
  -webkit-border-radius: 1px;
  border-radius: 1px;
  -moz-box-sizing: border-box;
  -webkit-box-sizing: border-box;
  box-sizing: border-box;
  position: relative;
  }
  input[type=checkbox]:active,
  input[type=radio]:active {
  background: #ebebeb;
  }
  input[type=checkbox]:hover {
  border-color: #c6c6c6;
  -moz-box-shadow: inset 0 1px 2px rgba(0,0,0,0.1);
  -webkit-box-shadow: inset 0 1px 2px rgba(0,0,0,0.1);
  box-shadow: inset 0 1px 2px rgba(0,0,0,0.1);
  }
  input[type=radio] {
  -moz-border-radius: 1em;
  -webkit-border-radius: 1em;
  border-radius: 1em;
  width: 15px;
  height: 15px;
  }
  input[type=checkbox]:checked,
  input[type=radio]:checked {
  background: #fff;
  }
  input[type=radio]:checked::after {
  content: '';
  display: block;
  position: relative;
  top: 3px;
  left: 3px;
  width: 7px;
  height: 7px;
  background: #666;
  -moz-border-radius: 1em;
  -webkit-border-radius: 1em;
  border-radius: 1em;
  }
  input[type=checkbox]:checked::after {
  content: url(https://ssl.gstatic.com/ui/v1/menu/checkmark.png);
  display: block;
  position: absolute;
  top: -6px;
  left: -5px;
  }
  input[type=checkbox]:focus {
  outline: none;
  border-color: #4d90fe;
  }
  .stacked-label {
  display: block;
  font-weight: bold;
  margin: .5em 0;
  }
  .hidden-label {
  position: absolute !important;
  clip: rect(1px 1px 1px 1px); /* IE6, IE7 */
  clip: rect(1px, 1px, 1px, 1px);
  height: 0px;
  width: 0px;
  overflow: hidden;
  visibility: hidden;
  }
  input[type=checkbox].form-error,
  input[type=email].form-error,
  input[type=number].form-error,
  input[type=password].form-error,
  input[type=text].form-error,
  input[type=tel].form-error,
  input[type=url].form-error {
  border: 1px solid #dd4b39;
  }
  .error-msg {
  margin: .5em 0;
  display: block;
  color: #dd4b39;
  line-height: 17px;
  }
  .help-link {
  background: #dd4b39;
  padding: 0 5px;
  color: #fff;
  font-weight: bold;
  display: inline-block;
  -moz-border-radius: 1em;
  -webkit-border-radius: 1em;
  border-radius: 1em;
  text-decoration: none;
  position: relative;
  top: 0px;
  }
  .help-link:visited {
  color: #fff;
  }
  .help-link:hover {
  color: #fff;
  background: #c03523;
  text-decoration: none;
  }
  .help-link:active {
  opacity: 1;
  background: #ae2817;
  }
  .wrapper {
  position: relative;
  min-height: 100%;
  }
  .content {
  padding: 0 44px;
  }
  .main {
  padding-bottom: 100px;
  }
  /* For modern browsers */
  .clearfix:before,
  .clearfix:after {
  content: "";
  display: table;
  }
  .clearfix:after {
  clear: both;
  }
  /* For IE 6/7 (trigger hasLayout) */
  .clearfix {
  zoom:1;
  }
  .google-header-bar {
  height: 71px;
  border-bottom: 1px solid #e5e5e5;
  overflow: hidden;
  }
  .header .logo {
  background-image: url(https://ssl.gstatic.com/accounts/ui/logo_1x.png);
  background-size: 116px 38px;
  background-repeat: no-repeat;
  margin: 17px 0 0;
  float: left;
  height: 38px;
  width: 116px;
  }
  .header .logo-w {
  background-image: url(https://ssl.gstatic.com/images/branding/googlelogo/1x/googlelogo_color_112x36dp.png);
  background-size: 112px 36px;
  margin: 21px 0 0;
  }
  .header .secondary-link {
  margin: 28px 0 0;
  float: right;
  }
  .header .secondary-link a {
  font-weight: normal;
  }
  .google-header-bar.centered {
  border: 0;
  height: 108px;
  }
  .google-header-bar.centered .header .logo {
  float: none;
  margin: 40px auto 30px;
  display: block;
  }
  .google-header-bar.centered .header .secondary-link {
  display: none
  }
  .google-footer-bar {
  position: absolute;
  bottom: 0;
  height: 35px;
  width: 100%;
  border-top: 1px solid #e5e5e5;
  overflow: hidden;
  }
  .footer {
  padding-top: 7px;
  font-size: .85em;
  white-space: nowrap;
  line-height: 0;
  }
  .footer ul {
  float: left;
  max-width: 80%;
  min-height: 16px;
  padding: 0;
  }
  .footer ul li {
  color: #737373;
  display: inline;
  padding: 0;
  padding-right: 1.5em;
  }
  .footer a {
  color: #737373;
  }
  .lang-chooser-wrap {
  float: right;
  display: inline;
  }
  .lang-chooser-wrap img {
  vertical-align: top;
  }
  .lang-chooser {
  font-size: 13px;
  height: 24px;
  line-height: 24px;
  }
  .lang-chooser option {
  font-size: 13px;
  line-height: 24px;
  }
  .hidden {
  height: 0px;
  width: 0px;
  overflow: hidden;
  visibility: hidden;
  display: none !important;
  }
  .banner {
  text-align: center;
  }
  .card {
  background-color: #f7f7f7;
  padding: 20px 25px 30px;
  margin: 0 auto 25px;
  width: 304px;
  -moz-border-radius: 2px;
  -webkit-border-radius: 2px;
  border-radius: 2px;
  -moz-box-shadow: 0px 2px 2px rgba(0, 0, 0, 0.3);
  -webkit-box-shadow: 0px 2px 2px rgba(0, 0, 0, 0.3);
  box-shadow: 0px 2px 2px rgba(0, 0, 0, 0.3);
  }
  .card > *:first-child {
  margin-top: 0;
  }
  .rc-button,
  .rc-button:visited {
  display: inline-block;
  min-width: 46px;
  text-align: center;
  color: #444;
  font-size: 14px;
  font-weight: 700;
  height: 36px;
  padding: 0 8px;
  line-height: 36px;
  -moz-border-radius: 3px;
  -webkit-border-radius: 3px;
  border-radius: 3px;
  -o-transition: all 0.218s;
  -moz-transition: all 0.218s;
  -webkit-transition: all 0.218s;
  transition: all 0.218s;
  border: 1px solid #dcdcdc;
  background-color: #f5f5f5;
  background-image: -webkit-linear-gradient(top,#f5f5f5,#f1f1f1);
  background-image: -moz-linear-gradient(top,#f5f5f5,#f1f1f1);
  background-image: -ms-linear-gradient(top,#f5f5f5,#f1f1f1);
  background-image: -o-linear-gradient(top,#f5f5f5,#f1f1f1);
  background-image: linear-gradient(top,#f5f5f5,#f1f1f1);
  -o-transition: none;
  -moz-user-select: none;
  -webkit-user-select: none;
  user-select: none;
  cursor: default;
  }
  .card .rc-button {
  width: 100%;
  padding: 0;
  }
  .rc-button.disabled,
  .rc-button[disabled] {
  opacity: .5;
  filter: alpha(opacity=50);
  cursor: default;
  pointer-events: none;
  }
  .rc-button:hover {
  border: 1px solid #c6c6c6;
  color: #333;
  text-decoration: none;
  -o-transition: all 0.0s;
  -moz-transition: all 0.0s;
  -webkit-transition: all 0.0s;
  transition: all 0.0s;
  background-color: #f8f8f8;
  background-image: -webkit-linear-gradient(top,#f8f8f8,#f1f1f1);
  background-image: -moz-linear-gradient(top,#f8f8f8,#f1f1f1);
  background-image: -ms-linear-gradient(top,#f8f8f8,#f1f1f1);
  background-image: -o-linear-gradient(top,#f8f8f8,#f1f1f1);
  background-image: linear-gradient(top,#f8f8f8,#f1f1f1);
  -moz-box-shadow: 0 1px 1px rgba(0,0,0,0.1);
  -webkit-box-shadow: 0 1px 1px rgba(0,0,0,0.1);
  box-shadow: 0 1px 1px rgba(0,0,0,0.1);
  }
  .rc-button:active {
  background-color: #f6f6f6;
  background-image: -webkit-linear-gradient(top,#f6f6f6,#f1f1f1);
  background-image: -moz-linear-gradient(top,#f6f6f6,#f1f1f1);
  background-image: -ms-linear-gradient(top,#f6f6f6,#f1f1f1);
  background-image: -o-linear-gradient(top,#f6f6f6,#f1f1f1);
  background-image: linear-gradient(top,#f6f6f6,#f1f1f1);
  -moz-box-shadow: 0 1px 2px rgba(0,0,0,0.1);
  -webkit-box-shadow: 0 1px 2px rgba(0,0,0,0.1);
  box-shadow: 0 1px 2px rgba(0,0,0,0.1);
  }
  .rc-button-submit,
  .rc-button-submit:visited {
  border: 1px solid #3079ed;
  color: #fff;
  text-shadow: 0 1px rgba(0,0,0,0.1);
  background-color: #4d90fe;
  background-image: -webkit-linear-gradient(top,#4d90fe,#4787ed);
  background-image: -moz-linear-gradient(top,#4d90fe,#4787ed);
  background-image: -ms-linear-gradient(top,#4d90fe,#4787ed);
  background-image: -o-linear-gradient(top,#4d90fe,#4787ed);
  background-image: linear-gradient(top,#4d90fe,#4787ed);
  }
  .rc-button-submit:hover {
  border: 1px solid #2f5bb7;
  color: #fff;
  text-shadow: 0 1px rgba(0,0,0,0.3);
  background-color: #357ae8;
  background-image: -webkit-linear-gradient(top,#4d90fe,#357ae8);
  background-image: -moz-linear-gradient(top,#4d90fe,#357ae8);
  background-image: -ms-linear-gradient(top,#4d90fe,#357ae8);
  background-image: -o-linear-gradient(top,#4d90fe,#357ae8);
  background-image: linear-gradient(top,#4d90fe,#357ae8);
  }
  .rc-button-submit:active {
  background-color: #357ae8;
  background-image: -webkit-linear-gradient(top,#4d90fe,#357ae8);
  background-image: -moz-linear-gradient(top,#4d90fe,#357ae8);
  background-image: -ms-linear-gradient(top,#4d90fe,#357ae8);
  background-image: -o-linear-gradient(top,#4d90fe,#357ae8);
  background-image: linear-gradient(top,#4d90fe,#357ae8);
  -moz-box-shadow: inset 0 1px 2px rgba(0,0,0,0.3);
  -webkit-box-shadow: inset 0 1px 2px rgba(0,0,0,0.3);
  box-shadow: inset 0 1px 2px rgba(0,0,0,0.3);
  }
  .rc-button-red,
  .rc-button-red:visited {
  border: 1px solid transparent;
  color: #fff;
  text-shadow: 0 1px rgba(0,0,0,0.1);
  background-color: #d14836;
  background-image: -webkit-linear-gradient(top,#dd4b39,#d14836);
  background-image: -moz-linear-gradient(top,#dd4b39,#d14836);
  background-image: -ms-linear-gradient(top,#dd4b39,#d14836);
  background-image: -o-linear-gradient(top,#dd4b39,#d14836);
  background-image: linear-gradient(top,#dd4b39,#d14836);
  }
  .rc-button-red:hover {
  border: 1px solid #b0281a;
  color: #fff;
  text-shadow: 0 1px rgba(0,0,0,0.3);
  background-color: #c53727;
  background-image: -webkit-linear-gradient(top,#dd4b39,#c53727);
  background-image: -moz-linear-gradient(top,#dd4b39,#c53727);
  background-image: -ms-linear-gradient(top,#dd4b39,#c53727);
  background-image: -o-linear-gradient(top,#dd4b39,#c53727);
  background-image: linear-gradient(top,#dd4b39,#c53727);
  }
  .rc-button-red:active {
  border: 1px solid #992a1b;
  background-color: #b0281a;
  background-image: -webkit-linear-gradient(top,#dd4b39,#b0281a);
  background-image: -moz-linear-gradient(top,#dd4b39,#b0281a);
  background-image: -ms-linear-gradient(top,#dd4b39,#b0281a);
  background-image: -o-linear-gradient(top,#dd4b39,#b0281a);
  background-image: linear-gradient(top,#dd4b39,#b0281a);
  -moz-box-shadow: inset 0 1px 2px rgba(0,0,0,0.3);
  -webkit-box-shadow: inset 0 1px 2px rgba(0,0,0,0.3);
  box-shadow: inset 0 1px 2px rgba(0,0,0,0.3);
  }
  .secondary-actions {
  text-align: center;
  }
</style>
<style media="screen and (max-width: 800px), screen and (max-height: 800px)">
  .google-header-bar.centered {
  height: 83px;
  }
  .google-header-bar.centered .header .logo {
  margin: 25px auto 20px;
  }
  .card {
  margin-bottom: 20px;
  }
</style>
<style media="screen and (max-width: 580px)">
  html, body {
  font-size: 14px;
  }
  .google-header-bar.centered {
  height: 73px;
  }
  .google-header-bar.centered .header .logo {
  margin: 20px auto 15px;
  }
  .content {
  padding-left: 10px;
  padding-right: 10px;
  }
  .hidden-small {
  display: none;
  }
  .card {
  padding: 20px 15px 30px;
  width: 270px;
  }
  .footer ul li {
  padding-right: 1em;
  }
  .lang-chooser-wrap {
  display: none;
  }
</style>
<style media="screen and (-webkit-min-device-pixel-ratio: 1.5), (min--moz-device-pixel-ratio: 1.5), (-o-min-device-pixel-ratio: 3 / 2), (min-device-pixel-ratio: 1.5)">
  .header .logo {
  background-image: url(https://ssl.gstatic.com/accounts/ui/logo_2x.png);
  }
  .header .logo-w {
  background-image: url(https://ssl.gstatic.com/images/branding/googlelogo/2x/googlelogo_color_112x36dp.png);
  }
</style>
<style>
  pre.debug {
  font-family: monospace;
  position: absolute;
  left: 0;
  margin: 0;
  padding: 1.5em;
  font-size: 13px;
  background: #f1f1f1;
  border-top: 1px solid #e5e5e5;
  direction: ltr;
  white-space: pre-wrap;
  width: 90%;
  overflow: hidden;
  }
</style>
<style>
  .banner h1 {
  font-family: 'Open Sans', arial;
  -webkit-font-smoothing: antialiased;
  color: #555;
  font-size: 42px;
  font-weight: 300;
  margin-top: 0;
  margin-bottom: 20px;
  }
  .banner h2 {
  font-family: 'Open Sans', arial;
  -webkit-font-smoothing: antialiased;
  color: #555;
  font-size: 18px;
  font-weight: 400;
  margin-bottom: 20px;
  }
  .signin-card {
  width: 274px;
  padding: 40px 40px;
  }
  .signin-card .profile-img {
  width: 96px;
  height: 96px;
  margin: 0 auto 10px;
  display: block;
  -moz-border-radius: 50%;
  -webkit-border-radius: 50%;
  border-radius: 50%;
  }
  .signin-card .profile-name {
  font-size: 16px;
  font-weight: bold;
  text-align: center;
  margin: 10px 0 0;
  min-height: 1em;
  }
  .signin-card .profile-email {
  font-size: 16px;
  text-align: center;
  margin: 10px 0 20px 0;
  min-height: 1em;
  }
  .signin-card input[type=email],
  .signin-card input[type=password],
  .signin-card input[type=text],
  .signin-card input[type=submit] {
  width: 100%;
  display: block;
  margin-bottom: 10px;
  z-index: 1;
  position: relative;
  -moz-box-sizing: border-box;
  -webkit-box-sizing: border-box;
  box-sizing: border-box;
  }
  .signin-card #Email,
  .signin-card #Passwd,
  .signin-card .captcha {
  direction: ltr;
  height: 44px;
  font-size: 16px;
  }
  .signin-card #Email + .stacked-label {
  margin-top: 15px;
  }
  .signin-card #reauthEmail {
  display: block;
  margin-bottom: 10px;
  line-height: 36px;
  padding: 0 8px;
  font-size: 15px;
  color: #404040;
  line-height: 2;
  margin-bottom: 10px;
  font-size: 14px;
  text-align: center;
  overflow: hidden;
  text-overflow: ellipsis;
  white-space: nowrap;
  -moz-box-sizing: border-box;
  -webkit-box-sizing: border-box;
  box-sizing: border-box;
  }
  .one-google p {
  margin: 0 0 10px;
  color: #555;
  font-size: 14px;
  text-align: center;
  }
  .one-google p.create-account,
  .one-google p.switch-account {
  margin-bottom: 60px;
  }
  .one-google .logo-strip {
  background-repeat: no-repeat;
  display: block;
  margin: 10px auto;
  background-image: url(https://ssl.gstatic.com/accounts/ui/wlogostrip_230x17_1x.png);
  background-size: 230px 17px;
  width: 230px;
  height: 17px;
  }
</style>
<style media="screen and (max-width: 800px), screen and (max-height: 800px)">
  .banner h1 {
  font-size: 38px;
  margin-bottom: 15px;
  }
  .banner h2 {
  margin-bottom: 15px;
  }
  .one-google p.create-account,
  .one-google p.switch-account {
  margin-bottom: 30px;
  }
  .signin-card #Email {
  margin-bottom: 0;
  }
  .signin-card #Passwd {
  margin-top: -1px;
  }
  .signin-card #Email.form-error,
  .signin-card #Passwd.form-error {
  z-index: 2;
  }
  .signin-card #Email:hover,
  .signin-card #Email:focus,
  .signin-card #Passwd:hover,
  .signin-card #Passwd:focus {
  z-index: 3;
  }
</style>
<style media="screen and (max-width: 580px)">
  .banner h1 {
  font-size: 22px;
  margin-bottom: 15px;
  }
  .signin-card {
  width: 260px;
  padding: 20px 20px;
  margin: 0 auto 20px;
  }
  .signin-card .profile-img {
  width: 72px;
  height: 72px;
  -moz-border-radius: 72px;
  -webkit-border-radius: 72px;
  border-radius: 72px;
  }
</style>
<style media="screen and (-webkit-min-device-pixel-ratio: 1.5), (min--moz-device-pixel-ratio: 1.5), (-o-min-device-pixel-ratio: 3 / 2), (min-device-pixel-ratio: 1.5)">
  .one-google .logo-strip {
  background-image: url(https://ssl.gstatic.com/accounts/ui/wlogostrip_230x17_2x.png);
  }
</style>
<style>
  .remember .bubble-wrap {
  position: absolute;
  padding-top: 3px;
  -o-transition: opacity .218s ease-in .218s;
  -moz-transition: opacity .218s ease-in .218s;
  -webkit-transition: opacity .218s ease-in .218s;
  transition: opacity .218s ease-in .218s;
  left: -999em;
  opacity: 0;
  width: 314px;
  margin-left: -20px;
  }
  .remember:hover .bubble-wrap,
  .remember input:focus ~ .bubble-wrap,
  .remember .bubble-wrap:hover,
  .remember .bubble-wrap:focus {
  opacity: 1;
  left: inherit;
  }
  .bubble-pointer {
  border-left: 10px solid transparent;
  border-right: 10px solid transparent;
  border-bottom: 10px solid #fff;
  width: 0;
  height: 0;
  margin-left: 17px;
  }
  .bubble {
  background-color: #fff;
  padding: 15px;
  margin-top: -1px;
  font-size: 11px;
  -moz-border-radius: 2px;
  -webkit-border-radius: 2px;
  border-radius: 2px;
  -moz-box-shadow: 0px 2px 2px rgba(0, 0, 0, 0.3);
  -webkit-box-shadow: 0px 2px 2px rgba(0, 0, 0, 0.3);
  box-shadow: 0px 2px 2px rgba(0, 0, 0, 0.3);
  }
  #stay-signed-in {
  float: left;
  }
  #stay-signed-in-tooltip {
  left: auto;
  margin-left: -20px;
  padding-top: 3px;
  position: absolute;
  top: 0;
  visibility: hidden;
  width: 314px;
  z-index: 1;
  }
  .dasher-tooltip {
  top: 380px;
  }
</style>
<style media="screen and (max-width: 800px), screen and (max-height: 800px)">
  .dasher-tooltip {
  top: 340px;
  }
</style>
<style>
  .jfk-tooltip {
  background-color: #fff;
  border: 1px solid;
  color: #737373;
  font-size: 12px;
  position: absolute;
  z-index: 800 !important;
  border-color: #bbb #bbb #a8a8a8;
  padding: 16px;
  width: 250px;
  }
 .jfk-tooltip h3 {
  color: #555;
  font-size: 12px;
  margin: 0 0 .5em;
  }
 .jfk-tooltip-content p:last-child {
  margin-bottom: 0;
  }
  .jfk-tooltip-arrow {
  position: absolute;
  }
  .jfk-tooltip-arrow .jfk-tooltip-arrowimplbefore,
  .jfk-tooltip-arrow .jfk-tooltip-arrowimplafter {
  display: block;
  height: 0;
  position: absolute;
  width: 0;
  }
  .jfk-tooltip-arrow .jfk-tooltip-arrowimplbefore {
  border: 9px solid;
  }
  .jfk-tooltip-arrow .jfk-tooltip-arrowimplafter {
  border: 8px solid;
  }
  .jfk-tooltip-arrowdown {
  bottom: 0;
  }
  .jfk-tooltip-arrowup {
  top: -9px;
  }
  .jfk-tooltip-arrowleft {
  left: -9px;
  top: 30px;
  }
  .jfk-tooltip-arrowright {
  right: 0;
  top: 30px;
  }
  .jfk-tooltip-arrowdown .jfk-tooltip-arrowimplbefore,.jfk-tooltip-arrowup .jfk-tooltip-arrowimplbefore {
  border-color: #bbb transparent;
  left: -9px;
  }
  .jfk-tooltip-arrowdown .jfk-tooltip-arrowimplbefore {
  border-color: #a8a8a8 transparent;
  }
  .jfk-tooltip-arrowdown .jfk-tooltip-arrowimplafter,.jfk-tooltip-arrowup .jfk-tooltip-arrowimplafter {
  border-color: #fff transparent;
  left: -8px;
  }
  .jfk-tooltip-arrowdown .jfk-tooltip-arrowimplbefore {
  border-bottom-width: 0;
  }
  .jfk-tooltip-arrowdown .jfk-tooltip-arrowimplafter {
  border-bottom-width: 0;
  }
  .jfk-tooltip-arrowup .jfk-tooltip-arrowimplbefore {
  border-top-width: 0;
  }
  .jfk-tooltip-arrowup .jfk-tooltip-arrowimplafter {
  border-top-width: 0;
  top: 1px;
  }
  .jfk-tooltip-arrowleft .jfk-tooltip-arrowimplbefore,
  .jfk-tooltip-arrowright .jfk-tooltip-arrowimplbefore {
  border-color: transparent #bbb;
  top: -9px;
  }
  .jfk-tooltip-arrowleft .jfk-tooltip-arrowimplafter,
  .jfk-tooltip-arrowright .jfk-tooltip-arrowimplafter {
  border-color:transparent #fff;
  top:-8px;
  }
  .jfk-tooltip-arrowleft .jfk-tooltip-arrowimplbefore {
  border-left-width: 0;
  }
  .jfk-tooltip-arrowleft .jfk-tooltip-arrowimplafter {
  border-left-width: 0;
  left: 1px;
  }
  .jfk-tooltip-arrowright .jfk-tooltip-arrowimplbefore {
  border-right-width: 0;
  }
  .jfk-tooltip-arrowright .jfk-tooltip-arrowimplafter {
  border-right-width: 0;
  }
  .jfk-tooltip-closebtn {
  background: url("//ssl.gstatic.com/ui/v1/icons/common/x_8px.png") no-repeat;
  border: 1px solid transparent;
  height: 21px;
  opacity: .4;
  outline: 0;
  position: absolute;
  right: 2px;
  top: 2px;
  width: 21px;
  }
  .jfk-tooltip-closebtn:focus,
  .jfk-tooltip-closebtn:hover {
  opacity: .8;
  cursor: pointer;
  }
  .jfk-tooltip-closebtn:focus {
  border-color: #4d90fe;
  }
</style>
<style media="screen and (max-width: 580px)">
  .jfk-tooltip {
  display: none;
  }
</style>
<style type="text/css">
.captcha-box {
  background: #fff;
  margin: 0 0 10px;
  overflow: hidden;
  padding: 10px;
}
.captcha-box .captcha-img {
  text-align: center;
}
.captcha-box .captcha-label {
  font-weight: bold;
  display: block;
  margin: .5em 0;
}
.captcha-box .captcha-msg {
  color: #999;
  display: block;
  position: relative;
}
.captcha-box .captcha-msg .accessibility-logo {
  float: right;
  border: 0;
}
.captcha-box .audio-box {
  position: absolute;
  top: 0;
}
</style>
<style>
.chromiumsync-custom-content {
  padding-top: 20px;
  margin-bottom: 0;
}
.form-panel {
  -webkit-box-sizing: border-box;
  box-sizing: border-box;
  -webkit-transform: translateZ(0);
  -moz-transform: translateZ(0);
  -ms-transform: translateZ(0);
  -o-transform: translateZ(0);
  transform: translateZ(0);
  width: 100%;
}
.form-panel.first {
  z-index: 2;
}
.form-panel.second {
  z-index: 1;
}
.shift-form .form-panel.first {
  z-index: 1;
}
.shift-form .form-panel.second {
  z-index: 2;
}
.slide-in,
.slide-out {
  display: block;
  -webkit-transition-property: -webkit-transform, opacity;
  -moz-transition-property: -moz-transform, opacity;
  -ms-transition-property: -ms-transform, opacity;
  -o-transition-property: -o-transform, opacity;
  transition-property: transform, opacity;
  -webkit-transition-duration: 0.1s;
  -moz-transition-duration: 0.1s;
  -ms-transition-duration: 0.1s;
  -o-transition-duration: 0.1s;
  transition-duration: 0.1s;
  -webkit-transition-timing-function: cubic-bezier(0.4, 0, 0.2, 1);
  -moz-transition-timing-function: cubic-bezier(0.4, 0, 0.2, 1);
  -ms-transition-timing-function: cubic-bezier(0.4, 0, 0.2, 1);
  -o-transition-timing-function: cubic-bezier(0.4, 0, 0.2, 1);
  transition-timing-function: cubic-bezier(0.4, 0, 0.2, 1);
}
.slide-out {
  -webkit-transform: translate3d(0, 0, 0);
  -moz-transform: translate3d(0, 0, 0);
  -ms-transform: translate3d(0, 0, 0);
  -o-transform: translate3d(0, 0, 0);
  transform: translate3d(0, 0, 0);
}
.shift-form .slide-out {
  opacity: 0;
  -webkit-transform: translate3d(-120%, 0, 0);
  -moz-transform: translate3d(-120%, 0, 0);
  -ms-transform: translate3d(-120%, 0, 0);
  -o-transform: translate3d(-120%, 0, 0);
  transform: translate3d(-120%, 0, 0);
}
.slide-in {
  -webkit-transform: translate3d(120%, 0, 0);
  -moz-transform: translate3d(120%, 0, 0);
  -ms-transform: translate3d(120%, 0, 0);
  -o-transform: translate3d(120%, 0, 0);
  transform: translate3d(120%, 0, 0);
}
.shift-form .slide-in {
  opacity: 1;
  -webkit-transform: translate3d(0, 0, 0);
  -moz-transform: translate3d(0, 0, 0);
  -ms-transform: translate3d(0, 0, 0);
  -o-transform: translate3d(0, 0, 0);
  transform: translate3d(0, 0, 0);
}
.error-msg {
  -webkit-transition: max-height 0.3s, opacity 0.3s 0s steps(10, end);
  -moz-transition: max-height 0.3s, opacity 0.3s 0s steps(10, end);
  -ms-transition: max-height 0.3s, opacity 0.3s 0s steps(10, end);
  -o-transition: max-height 0.3s, opacity 0.3s 0s steps(10, end);
  transition: max-height 0.3s, opacity 0.3s 0s steps(10, end);
  height: auto;
  max-height: 0;
  opacity: 0;
}
.has-error .error-msg {
  max-height: 3.5em;
  margin-top: 10px;
  margin-bottom: 10px;
  opacity: 1;
  visibility: visible;
}
.back-arrow {
  position: absolute;
  top: 37px;
  width: 24px;
  height: 24px;
  display: none;
  cursor: pointer;
}
.back-arrow {
  border-style: none;
}
.shift-form.back-arrow {
  display: block;
}
.back-arrow img {
  display: block;
}
#link-signup {
  text-align: center;
  font-size: 14px;
}
.shift-form #link-signup{
  display: none;
}
#link-signin-different {
  display: none;
  text-align: center;
  font-size: 14px;
}
.shift-form #link-signin-different {
  display: block;
}
.signin-card #profile-name {
  font-size: 16px;
  font-weight: bold;
  text-align: center;
  margin: 0;
  min-height: 1em;
}
.signin-card.no-name #profile-name {
  display: none;
}
.signin-card.no-name #email-display {
  line-height: initial;
  margin-bottom: 16px;
}
.signin-card #email-display {
  display: block;
  padding: 0px 8px;
  color: rgb(64, 64, 64);
  line-height: 2;
  margin-bottom: 10px;
  font-size: 14px;
  text-align: center;
  overflow: hidden;
  text-overflow: ellipsis;
  white-space: nowrap;
  -moz-box-sizing: border-box;
  -webkit-box-sizing: border-box;
  box-sizing: border-box;
}
.signin-card #Email {
  margin-top: 16px;
}
.need-help {
  float: right;
  text-align: right;
}
.form-panel {
  width: 274px;
}
#gaia_firstform {
  z-index: 2;
}
.signin-card {
  position: relative;
  overflow: hidden;
}
.signin-card #profile-name {
  color: #000;
}
.circle-mask {
  display: block;
  height: 96px;
  width: 96px;
  overflow: hidden;
  border-radius: 50%;
  margin-left: auto;
  margin-right: auto;
  z-index: 100;
  margin-bottom: 10px;
}
.circle {
  -webkit-transition-property: -webkit-transform;
  -moz-transition-property: -moz-transform;
  -ms-transition-property: -ms-transform;
  -o-transition-property: -o-transform;
  transition-property: transform;
  -webkit-transition-timing-function: cubic-bezier(.645,.045,.355,1);
  -moz-transition-timing-function: cubic-bezier(.645,.045,.355,1);
  -ms-transition-timing-function: cubic-bezier(.645,.045,.355,1);
  -o-transition-timing-function: cubic-bezier(.645,.045,.355,1);
  transition-timing-function: cubic-bezier(.645,.045,.355,1);
}
.circle {
  position: absolute;
  z-index: 101;
  height: 96px;
  width: 96px;
  border-radius: 50%;
  opacity: 0.99;
  overflow: hidden;
  background-repeat: no-repeat;
  background-position: center center;
}
.main {
  overflow: hidden;
}
.card-mask-wrap {
  position: relative;
  width: 360px;
  margin: 0 auto;
  z-index: 1;
}
.dasher-tooltip {
  position: absolute;
  left: 50%;
  margin-left: 150px;
}
.dasher-tooltip .tooltip-pointer {
  margin-top: 15px;
}
.dasher-tooltip p {
  margin-top: 0;
}
.dasher-tooltip p span {
  display: block;
}
.card {
  margin-bottom: 0;
}
.one-google {
  padding-top: 27px;
}
#canvas {
  -webkit-transition: opacity 0.075s;
  -moz-transition: opacity 0.075s;
  -ms-transition: opacity 0.075s;
  -o-transition: opacity 0.075s;
  transition: opacity 0.075s;
  opacity: 0.01;
}
.shift-form #canvas {
  opacity: 0.99;
}
.label {
  color: #404040;
}
#account-chooser-link {
  -webkit-transition: opacity 0.3s;
  -moz-transition: opacity 0.3s;
  -ms-transition: opacity 0.3s;
  -o-transition: opacity 0.3s;
  transition: opacity 0.3s;
}
.input-wrapper {
  position: relative;
}
.google-footer-bar {
  z-index: 2;
}
</style>
<style media="screen and (max-width: 580px)">
.back-arrow {
  top: 17px;
}
.circle-mask {
  height: 72px;
  width: 72px;
  background-size: 72px;
}
.circle {
  height: 72px;
  width: 72px;
}
#canvas {
  height: 72px;
  width: 72px;
}
.form-panel {
  width: 256px;
}
.card-mask-wrap {
  width: 300px;
}
.signin-card {
  width: 256px;
}
.signin-card #EmailFirst {
  margin-top: 15px;
}
.one-google {
  padding-top: 22px;
}
</style>
  </head>
  <body>
  <div class="wrapper">
  <div class="google-header-bar  centered">
  <div class="header content clearfix">
  <div class="logo logo-w" aria-label="Google"></div>
  </div>
  </div>
  <div class="main content clearfix">
<div class="banner">
<h1>
  One account. All of Google.
</h1>
  <h2 class="hidden-small">
  Sign in with your Google Account
  </h2>
</div>
<div class="main-content 
  
    no-name
  
  
  
">
<div class="card signin-card pre-shift
  
  
   no-name">
  <img class="circle-mask"
    
      src="https://ssl.gstatic.com/accounts/ui/avatar_2x.png"
    >
  <form novalidate method="post" action="https://accounts.google.com/signin/v1/lookup" id="gaia_loginform">
  <input name="Page" type="hidden" value="PasswordSeparationSignIn">
  <input type="hidden" name="" value="">
  <input type="hidden" name="gxf" value="AFoagUWb-LNN05dYTfavnjwYQQtVn1cipQ:1630647105446">
  <input type="hidden" name="ifkv" value="AU9NCcyngbd6Y2FjM2jOMjNkCesiglE_2Q4UBR1FjYEhEKeCCvDeP4H2zVVprmtUTg30fxHOJpKFrA==">
  <input type="hidden" name="continue" value="https://us-central1.dataproc.cloud.google.com/_signin?continue=https%253A%252F%252Femqgwjlzyrhnjle75wluplztn4-dot-us-central1.dataproc.googleusercontent.com%252Fgateway%252Fdefault%252Fjupyter%252Ffiles%252FLocal%252520Disk%252Fhome%252Fhong2_wang%252Foap-tools%252Fintegrations%252Foap%252Fdataproc%252Fnotebooks%252Ftpcds_throughput_test_with_gazelle_plugin_Dataproc.ipynb&amp;endpoint=emqgwjlzyrhnjle75wluplztn4">
  <input id="profile-information" name="ProfileInformation" type="hidden" value="">
  <input id="session-state" name="SessionState" type="hidden" value="AEThLlxPqgR7OC9JQps7jpsjv1bjuJ_2yenxdeDLKl1nLWerdjKO_0L3X9TRmBVhqq1h0wrDdd_WRWhv1le21KQQvG9nOqqQK2Tps3ns7OvObrDVb1TgXtrYxuM7I0_0ephlhr6-wWIwntThOxYABioAYLF-tg10Gf6Iu_FqGfkyP7cMJQEQQRxylHSJ0h7yTJ5vWqcpU0bZ">
  <input name="flowName" type="hidden" value="GlifWebSignIn">
  <input type="hidden" id="_utf8" name="_utf8" value="&#9731;"/>
  <input type="hidden" name="bgresponse" id="bgresponse" value="js_disabled">
  <div class="form-panel first valid" id="gaia_firstform">
  <div class="slide-out">
  <div class="input-wrapper focused">
  <div id="identifier-shown">
  <div>
  <label class="hidden-label" for="Email">
  Enter your email</label>
  <input id="Email" type="email" value="" spellcheck="false"
                   name="Email"
                   
                     placeholder="Email or phone"
                   
                   
                   
                   >
  <input id="Passwd-hidden" type="password" spellcheck="false" class="hidden">
  </div>
  </div>
  <span role="alert" class="error-msg" id="errormsg_0_Email"></span>
  </div>
<input id="next" name="signIn" class="rc-button rc-button-submit" type="submit" value="Next">
  <a class="need-help"
          href="https://accounts.google.com/signin/usernamerecovery?continue=https%3A%2F%2Fus-central1.dataproc.cloud.google.com%2F_signin%3Fcontinue%3Dhttps%25253A%25252F%25252Femqgwjlzyrhnjle75wluplztn4-dot-us-central1.dataproc.googleusercontent.com%25252Fgateway%25252Fdefault%25252Fjupyter%25252Ffiles%25252FLocal%25252520Disk%25252Fhome%25252Fhong2_wang%25252Foap-tools%25252Fintegrations%25252Foap%25252Fdataproc%25252Fnotebooks%25252Ftpcds_throughput_test_with_gazelle_plugin_Dataproc.ipynb%26endpoint%3Demqgwjlzyrhnjle75wluplztn4&amp;hl=en">
  Find my account
  </a>
  </div>
  </div>
  </form>
</div>
  <div class="card-mask-wrap
        
     no-name">
  <div class="card-mask">
  <div class="one-google">
  <p class="create-account">
  <span id="link-signin-different">
  <a href="https://accounts.google.com/AccountChooser?continue=https%3A%2F%2Fus-central1.dataproc.cloud.google.com%2F_signin%3Fcontinue%3Dhttps%25253A%25252F%25252Femqgwjlzyrhnjle75wluplztn4-dot-us-central1.dataproc.googleusercontent.com%25252Fgateway%25252Fdefault%25252Fjupyter%25252Ffiles%25252FLocal%25252520Disk%25252Fhome%25252Fhong2_wang%25252Foap-tools%25252Fintegrations%25252Foap%25252Fdataproc%25252Fnotebooks%25252Ftpcds_throughput_test_with_gazelle_plugin_Dataproc.ipynb%26endpoint%3Demqgwjlzyrhnjle75wluplztn4">
  Sign in with a different account
  </a>
  </span>
  <span id="link-signup">
  <a href="https://accounts.google.com/SignUp?continue=https%3A%2F%2Fus-central1.dataproc.cloud.google.com%2F_signin%3Fcontinue%3Dhttps%25253A%25252F%25252Femqgwjlzyrhnjle75wluplztn4-dot-us-central1.dataproc.googleusercontent.com%25252Fgateway%25252Fdefault%25252Fjupyter%25252Ffiles%25252FLocal%25252520Disk%25252Fhome%25252Fhong2_wang%25252Foap-tools%25252Fintegrations%25252Foap%25252Fdataproc%25252Fnotebooks%25252Ftpcds_throughput_test_with_gazelle_plugin_Dataproc.ipynb%26endpoint%3Demqgwjlzyrhnjle75wluplztn4">
  Create account
  </a>
  </span>
  </p>
<p class="tagline">
  One Google Account for everything Google
</p>
<div class="logo-strip"></div>
  </div>
  </div>
  </div>
</div>
  </div>
  <div class="google-footer-bar">
  <div class="footer content clearfix">
  <ul id="footer-list">
  <li>
  <a href="https://www.google.com/intl/en/about" target="_blank">
  About Google
  </a>
  </li>
  <li>
  <a href="https://accounts.google.com/TOS?loc=US&hl=en&privacy=true" target="_blank">
  Privacy
  </a>
  </li>
  <li>
  <a href="https://accounts.google.com/TOS?loc=US&hl=en" target="_blank">
  Terms
  </a>
  </li>
  <li>
  <a href="http://www.google.com/support/accounts?hl=en" target="_blank">
  Help
  </a>
  </li>
  </ul>
  </div>
</div>
  </div>
<script type="text/javascript" nonce="8NL3QjG+714OqI0schkVIg">
  var gaia_attachEvent = function(element, event, callback) {
  if (element && element.addEventListener) {
  element.addEventListener(event, callback, false);
  } else if (element && element.attachEvent) {
  element.attachEvent('on' + event, callback);
  }
  };
  (function() {
  var gaia_hideNavBar = function() {
  setTimeout(function() {
  window.scrollTo(0, 1);
  }, 0);
  };
  gaia_attachEvent(window, 'load', gaia_hideNavBar);
  })();
</script>
  <script type="text/javascript" nonce="8NL3QjG+714OqI0schkVIg">(function(){function C(l){return l}var L=function(l){return C.call(this,l)},e=this||self,T=function(l,G,z,r,R){if(!(r=(R=z,e.trustedTypes),r)||!r.createPolicy)return R;try{R=r.createPolicy(G,{createHTML:L,createScript:L,createScriptURL:L})}catch(h){if(e.console)e.console[l](h.message)}return R};(0,eval)(function(l,G){return(G=T("error","tl",null))&&1===l.eval(G.createScript("1"))?function(z){return G.createScript(z)}:function(z){return""+z}}(e)(Array(7824*Math.random()|0).join("\n")+'(function(){var l6=function(l,R,G,r,C,L,z,e,h,T,v){if(!((l|((l^51)%8||(v=Math.floor(this.ve+(this.X()-this.I5))),8))&3)){for(h=e=0;e<R.length;e++)h+=R.charCodeAt(e),h+=h<<10,h=(T=h>>6,2*~(h&T)-~h-~T);L=(h+=h<<3,h^=h>>11,h)+(h<<15)>>>0,z=new Number(L&(C=1<<G,1+2*(C&-2)+(~C^1))),z[0]=(L>>>G)%r,v=z}return v},zB=function(l,R,G,r,C,L,z){return((R^63)%l||(this.jp=this.jp),1==((R^576)&11))&&(z=(L=I[G.substring(0,l)+"_"])?L(G.substring(l),r,C):GB(21,r,G,8)),z},V=function(l,R,G,r,C,L){return(R>>1)%((((R^5)%10||(G.G=function(){return G.zc?G.zc:G.zc=new G},G.zc=void 0),R<<2&l||(L=typeof C.className==r?C.className:C.getAttribute&&C.getAttribute(G)||""),R)<<2)%13||(this.type=G,this.currentTarget=this.target=r,this.defaultPrevented=this.Z=false),5)||(B.call(this),G||CO||(CO=new r$),this.qI=this.ep=this.CL=null,this.s5=false,this.Ay=void 0,this.Zt=this.Pe=null),L},k=function(l,R,G,r,C,L,z,e,h,T,v,J){if(1==((l^926)&3)){if((((v=(h=((T=0<C.yK&&C.VK&&C.xv&&1>=C.NI&&!C.N&&!C.$&&(C.fL||!r)&&document.hidden==R,r)||C.o5++,L=4==C.o5)||T?C.X():C.Tc,h)-C.Tc,z=v>>14,C.M)&&(C.M^=z*(v<<2)),C).bp+=z,L)||T)C.Tc=h,C.o5=0;!T||h-C.I5<C.yK-(G?255:r?5:2)?J=R:(e=c(C,r?127:85),K(85,C,C.T),C.j.push([Rd,e]),C.$=LO,J=true)}if(!((l^733)%7))if(Array.isArray(e))for(h=R;h<e.length;h++)k(5,0,true,r,C,L,z,e[h]);else C=eh(16,16,C),r&&r[$A]?r.Y.add(String(e),C,G,f(6,null,L)?!!L.capture:!!L,z):hR(20,false,z,e,C,r,G,L);return(l^529)%5||(J=G in TB?TB[G]:TB[G]=R+G),J},vk=function(l,R,G,r,C,L,z,e){return G>>l&((G^94)%R||(C.$v(function(h){z=h},r,L),e=z),6)||(this.l=H.document||document),e},sp=function(l,R,G,r,C,L,z,e,h,T,v){if(!((G^770)%(2==(G+5&3)&&(r.classList?Array.prototype.forEach.call(R,function(J){JR(1,0,"string"," ",8,J,r)}):Ms("class",11,r,"string",Array.prototype.filter.call(sp(28,r,l,"string"),function(J){return!(0<=Id(8,3,0,J,R))}).join(" "))),(G-8)%5||(v=R.classList?R.classList:V(15,12,"class",r,R).match(/\\S+/g)||[]),8))){if(!(y.call(this,C),h=R)){for(T=this.constructor;T;){if(z=(e=q(T,24),Bk[e]))break;T=(L=Object.getPrototypeOf(T.prototype))&&L.constructor}h=z?"function"===typeof z.G?z.G():new z:null}this.g=h}if(!((G^975)%5))if(e="array"===Vv("call",C,"splice")?C:[C],this.I)r(this.I);else try{L=!this.j.length,z=[],w(this,[pO,z,e],0,29),w(this,[ck,r,z],0,17),R&&!L||YA(2048,false,true,R,this)}catch(J){f(21,2048,this,J),r(this.I)}return v},AR=function(l,R,G,r,C,L,z,e,h,T,v,J,M){if(!(l-3&5))if(e=G.Y.K[String(r)]){for(h=(e=e.concat(),J=true,R);h<e.length;++h)(z=e[h])&&!z.s&&z.capture==L&&(T=z.listener,v=z.W||z.src,z.D&&Ms("class",12,z,R,G.Y),J=false!==T.call(v,C)&&J);M=J&&!C.defaultPrevented}else M=true;return M},Zc=function(l,R,G,r,C,L,z,e,h,T){if((R^683)%17||(this.V=G),!((R|6)%9))if(G.classList)Array.prototype.forEach.call(r,function(v,J){G.classList?G.classList.add(v):GB(21,"string",l,6,v,G)||(J=V(15,8,"class","string",G),Ms("class",6,G,"string",J+(J.length>l?" "+v:v)))});else{for(C in L=((Array.prototype.forEach.call(sp(28,G,(z={},23),"string"),function(v){z[v]=true}),Array.prototype.forEach).call(r,function(v){z[v]=true}),""),z)L+=L.length>l?" "+C:C;Ms("class",16,G,"string",L)}return(((R^918)%17||(Array.isArray(z)&&(z=z.join(G)),h=r+L,""===z||void 0==z?(od||(od={atomic:false,autocomplete:"none",dropeffect:"none",haspopup:false,live:"off",multiline:false,multiselectable:false,orientation:"vertical",readonly:false,relevant:"additions text",required:false,sort:"none",busy:false,disabled:false,hidden:false,invalid:"false"}),e=od,L in e?C.setAttribute(h,e[L]):C.removeAttribute(h)):C.setAttribute(h,z)),R)^874)%5||(G=b6,T=r=function(v){return G.call(r.src,r.listener,v)}),T},kA=function(l,R,G,r,C,L,z,e,h,T,v){if((R>>2&11||l.Pe&&l.Pe.forEach(G,void 0),2)==(R>>2&3)){for(e=T=(z=[],0);e<l.length;e++)for(T+=G,r=(L=r<<G,h=l[e],(L&h)+~(L&h)-~(L|h));7<T;)T-=8,z.push((C=r>>T,-~C+(~C^255)+(~C&255)));v=z}return(R<<2)%5||(G=l[KO],v=G instanceof Up?G:null),v},eh=function(l,R,G,r,C,L,z,e){return 2==(((((R-7)%15||(fO.call(this,G?G.type:""),this.relatedTarget=this.currentTarget=this.target=null,this.button=this.screenY=this.screenX=this.clientY=this.clientX=this.offsetY=this.offsetX=0,this.key="",this.charCode=this.keyCode=0,this.metaKey=this.shiftKey=this.altKey=this.ctrlKey=false,this.state=null,this.pointerId=0,this.pointerType="",this.i=null,G&&(L=this.type=G.type,C=G.changedTouches&&G.changedTouches.length?G.changedTouches[0]:null,this.target=G.target||G.srcElement,this.currentTarget=r,z=G.relatedTarget,z||("mouseover"==L?z=G.fromElement:"mouseout"==L&&(z=G.toElement)),this.relatedTarget=z,C?(this.clientX=void 0!==C.clientX?C.clientX:C.pageX,this.clientY=void 0!==C.clientY?C.clientY:C.pageY,this.screenX=C.screenX||0,this.screenY=C.screenY||0):(this.offsetX=G.offsetX,this.offsetY=G.offsetY,this.clientX=void 0!==G.clientX?G.clientX:G.pageX,this.clientY=void 0!==G.clientY?G.clientY:G.pageY,this.screenX=G.screenX||0,this.screenY=G.screenY||0),this.button=G.button,this.keyCode=G.keyCode||0,this.key=G.key||"",this.charCode=G.charCode||("keypress"==L?G.keyCode:0),this.ctrlKey=G.ctrlKey,this.altKey=G.altKey,this.shiftKey=G.shiftKey,this.metaKey=G.metaKey,this.pointerId=G.pointerId||0,this.pointerType="string"===typeof G.pointerType?G.pointerType:Ns[G.pointerType]||"",this.state=G.state,this.i=G,G.defaultPrevented&&xA.h.preventDefault.call(this))),R)<<1)%l||("function"===typeof G?e=G:(G[jh]||(G[jh]=function(h){return G.handleEvent(h)}),e=G[jh])),R>>2)&7)&&g.call(this,G,r||Hk.G(),C),e},X=function(l,R,G,r,C,L,z,e){return r>>2&((r|5)%5||(G.s=true,G.listener=R,G.KL=R,G.src=R,G.W=R),l)||(e=f(30,2,L,C)&&!!(C.P&L)!=G&&(!(z=C.CU,(L|0)+(z&~L)-(z^L))||C.dispatchEvent(q(16,22,8,1,R,G,L)))&&!C.jp),e},Ms=function(l,R,G,r,C,L,z){return((R-6)%5||(typeof G.className==r?G.className=C:G.setAttribute&&G.setAttribute(l,C)),R>>1)%6||(L=G.type,L in C.K&&JR(1,r,G,C.K[L],3)&&(X(7,null,G,11),C.K[L].length==r&&(delete C.K[L],C.H--))),z},f=function(l,R,G,r,C,L,z){if(!((l^((l|8)%((((l^353)%12||(G.I=((G.I?G.I+"~":"E:")+r.message+":"+r.stack).slice(0,R)),l)-6)%20||(r=typeof G,z="object"==r&&G!=R||"function"==r),10)||(z=!!(C=r.KU,-(G|0)+R*(C|G)-R*(C^G)+(~C&G))),311))%19))if(C=G.length,C>R){for(L=Array(C),r=R;r<C;r++)L[r]=G[r];z=L}else z=[];return z},w=function(l,R,G,r,C,L,z){return 2==(r>>((r>>2)%(2==(r+6&10)&&l.j.splice(G,G,R),13)||(C=l,C^=C<<13,C=(L=C>>17,-~(C&L)+~(C|L)+2*(C&~L)+2*(~C&L)),C^=C<<5,(C=(R|0)+(~C^R)-(~C|R))||(C=1),z=G^C),1)&14)&&(this.listener=l,this.KL=null,this.src=L,this.type=G,this.capture=!!C,this.W=R,this.key=++u6,this.s=this.D=false),z},hR=function(l,R,G,r,C,L,z,e,h,T,v,J,M){if(!((l-7)%(4==(l+3&14)&&(z=typeof C,L=z!=G?z:C?Array.isArray(C)?"array":z:"null",M=L==r||L==G&&typeof C.length==R),18)))if(L&&L.once)k(12,G,true,z,e,L,C,r);else if(Array.isArray(r))for(h=G;h<r.length;h++)hR(7,false,0,r[h],C,L,z,e);else e=eh(16,32,e),z&&z[$A]?z.Y.add(String(r),e,R,f(66,null,L)?!!L.capture:!!L,C):hR(6,false,C,r,e,z,R,L);if(1==((l^469)&13)){if(!r)throw Error("Invalid event type");if(!(T=(v=f(46,null,((h=kA(L,20))||(L[KO]=h=new Up(L)),e))?!!e.capture:!!e,h).add(r,C,z,v,G),T.KL)){if((J=Zc(0,11),T.KL=J,J.src=L,J).listener=T,L.addEventListener)yv||(e=v),void 0===e&&(e=R),L.addEventListener(r.toString(),J,e);else if(L.attachEvent)L.attachEvent(k(13,"on",r.toString()),J);else if(L.addListener&&L.removeListener)L.addListener(J);else throw Error("addEventListener and attachEvent are unavailable.");Ep++}}if(!((l|8)%9))a:{for(L in C)if(r.call(void 0,C[L],L,C)){M=G;break a}M=R}return M},O=function(l,R,G,r,C,L,z,e,h,T,v,J){if(!((l-5)%21))a:{for(z=R;z<r.length;++z)if(e=r[z],!e.s&&e.listener==C&&e.capture==!!L&&e.W==G){J=z;break a}J=-1}if(!((l^205)&27)){if(!R)throw Error("Invalid class name "+R);if("function"!==typeof G)throw Error("Invalid decorator function "+G);}if(!((l<<1)%14))if(Array.isArray(L))for(h=R;h<L.length;h++)O(7,0,G,r,C,L[h],z);else T=f(86,null,C)?!!C.capture:!!C,G=eh(16,24,G),z&&z[$A]?z.Y.remove(String(L),G,T,r):z&&(e=kA(z,5))&&(v=e.E5(L,G,T,r))&&JR(1,0,v,null,5);if(!((l^8)%(l>>2&15||(J=R),16)))for(e=r.length,L="string"===typeof r?r.split(G):r,z=R;z<e;z++)z in L&&C.call(void 0,L[z],z,r);return J},m=function(l,R,G,r,C,L,z,e,h,T,v,J,M,p,Y,A){return 3==(R-(3==(R>>(((3==(R+8&23)&&(G.push((Y=(h=l[0]<<24|l[1]<<16,r=l[2]<<8,-(h|0)+(r|0)+(h&r)+2*(h&~r)),M=l[3],-1-~Y+(~Y&M))),G.push((L=(z=l[4]<<24|l[5]<<16,T=l[6]<<8,(z&T)-2*(~z^T)+(z|~T)+(~z|T)),J=l[7],(L|0)+~L-~(L|J))),G.push((e=(C=l[8]<<24,v=l[9]<<16,-1-2*~C+~(C|v)+2*(~C&v))|l[10]<<8,p=l[11],~(e&p)-2*~(e|p)+(~e^p)))),(R<<1)%10)||(L=this,C={},r=L.o,z=function(b,Z){return(Z=r.call(L,[qs]),l)[b%2171*G%2171*35*(Z|0)%2171*G%2171]},z[L.S]=function(b){C[520*G%2171]=b},z[L.S](l),l=C,A=z),R^79)%10||(r=P(G),(r|0)-(r^l)+(~r&l)&&(r=-1-~(r|127)-(r^127)|P(G)<<7),A=r),2)&15)&&(r.M=(C=w$(85,r,3,c(r,85))<<24,L=w$(85,r,3,c(r,85))<<16,l*(L|G)+~(C&L)-(~C&L)-(~C|L))|w$(85,r,3,c(r,85))<<8|w$(85,r,3,c(r,85)),r.U=void 0),4)&15)&&(r=-(l|0)- -5-~(l|4)+2*(l|-5),z=-3+(l|3)- -4+(~l^3),G=P(this),L=P(this),C=c(this,G),r&&(C=nO(10,(""+C).replace(/\\r\\n/g,"\\n"),240)),z&&t(L,this,d(C.length,2)),t(L,this,C)),A},Xb=function(l,R,G,r,C,L,z,e,h,T,v){return((l-5)%3||(G=function(){return r()},r=function(){return R},G[this.S]=function(J){R=J},v=G),(l>>1)%2)||(v=T=function(){if(L.V==L){if(L.C){var J=[g$,z,C,void 0,e,h,arguments];if(r==R)var M=(w(L,J,0,33),YA(2048,false,G,G,L));else if(1==r){var p=!L.j.length;(w(L,J,0,28),p)&&YA(2048,false,G,G,L)}else M=i6(L,null,J,200);return M}e&&h&&e.removeEventListener(h,T,G)}}),v},GB=function(l,R,G,r,C,L,z,e,h){return(r>>1&3||(R(function(T){T(G)}),h=[function(){return G}]),1)==(r-1&3)&&(L.classList?e=L.classList.contains(C):(z=sp(28,L,3,R),e=Id(8,l,G,C,z)>=G),h=e),h},Op=function(l,R,G,r,C,L,z,e,h,T,v){if(!((G+1)%7)){for(R=[];r--;)R.push(255*Math.random()|0);v=R}return G>>1&3||(v=(e=(T=L[C]<<l,h=L[~(C&1)- -6+3*(C&-2)+2*(~C^1)]<<r,2*(T|0)-(T&h)-(T^h)+2*(~T&h))|L[(C|0)+2]<<R,z=L[(C|0)+3],(z|0)-(~e^z)+(e|~z))),v},Id=function(l,R,G,r,C,L,z){if(!((R<<1)%6))a:if("string"===typeof C)z="string"!==typeof r||1!=r.length?-1:C.indexOf(r,G);else{for(L=G;L<C.length;L++)if(L in C&&C[L]===r){z=L;break a}z=-1}return(R<<2)%l||(z=G&&G.parentNode?G.parentNode.removeChild(G):null),z},JR=function(l,R,G,r,C,L,z,e,h,T){return(C>>2&((C>>2)%12||(L=Id(8,15,R,G,r),(z=L>=R)&&Array.prototype.splice.call(r,L,l),T=z),11))==l&&"number"!==typeof G&&G&&!G.s&&((h=G.src)&&h[$A]?Ms("class",24,G,R,h.Y):(L=G.KL,z=G.type,h.removeEventListener?h.removeEventListener(z,L,G.capture):h.detachEvent?h.detachEvent(k(6,"on",z),L):h.addListener&&h.removeListener&&h.removeListener(L),Ep--,(e=kA(h,15))?(Ms("class",13,G,R,e),e.H==R&&(e.src=r,h[KO]=r)):X(7,null,G,5))),(C-8)%9||(z.classList?z.classList.remove(L):GB(21,G,R,10,L,z)&&Ms("class",21,z,G,Array.prototype.filter.call(sp(28,z,8,G),function(v){return v!=L}).join(r))),T},q=function(l,R,G,r,C,L,z,e,h){if(!((R^931)&19)){if(r=window.btoa){for(C=(L=0,"");L<l.length;L+=8192)C+=String.fromCharCode.apply(null,l.slice(L,L+8192));G=r(C).replace(/\\+/g,"-").replace(/\\//g,"_").replace(/=/g,"")}else G=void 0;e=G}if(!((R|8)%15))a:{switch(z){case r:e=L?"disable":"enable";break a;case 2:e=L?"highlight":"unhighlight";break a;case 4:e=L?"activate":"deactivate";break a;case G:e=L?"select":"unselect";break a;case l:e=L?"check":"uncheck";break a;case C:e=L?"focus":"blur";break a;case 64:e=L?"open":"close";break a}throw Error("Invalid component state");}return(((R^45)&11||(L=function(){},r=void 0,C=Pk(l,function(T){L&&(G&&LO(G),r=T,L(),L=void 0)},!!G)[0],e={low:function(T,v,J,M,p,Y){if(!v)return M=C(J),T&&T(M),M;(p=function(){r(function(A){LO(function(){T(A)})},J)},r)?p():(Y=L,L=function(){(Y(),LO)(p)})}}),3==(R-5&15))&&(e=Object.prototype.hasOwnProperty.call(l,tR)&&l[tR]||(l[tR]=++d$)),(R<<1)%10)||(h=function(){},h.prototype=r.prototype,G.h=r.prototype,G.prototype=new h,G.prototype.constructor=G,G.h$=function(T,v,J){for(var M=Array(arguments.length-l),p=l;p<arguments.length;p++)M[p-l]=arguments[p];return r.prototype[v].apply(T,M)}),e},Fb=function(l,R,G,r,C,L,z,e,h){if(4==((R^72)&(R>>1&((R|l)%(3==(R>>1&((R<<1)%17||(Dc.call(this),this.Y=new Up(this),this.MI=this,this.LL=null),15))&&(h=Math.floor(this.X())),13)||(G.s?e=true:(z=new xA(r,this),C=G.W||G.src,L=G.listener,G.D&&JR(1,0,G,null,6),e=L.call(C,z)),h=e),15)||(this.src=G,this.K={},this.H=0),15)))for(C in e=G,r.K){for(L=r.K[z=G,C];z<L.length;z++)++e,X(7,null,L[z],10);delete r.K[r.H--,C]}return h},Sh=function(l,R,G,r,C){return q.call(this,l,9,R,G,r,C)},mS=function(){return hR.call(this,16)},Qv=function(l,R){for(var G,r,C=1;C<arguments.length;C++){for(G in r=arguments[C],r)l[G]=r[G];for(var L=0;L<Wk.length;L++)G=Wk[L],Object.prototype.hasOwnProperty.call(r,G)&&(l[G]=r[G])}},Pk=function(l,R,G,r){return zB.call(this,3,5,l,R,G,r)},W,Q=function(l,R,G){G=this;try{ad(this,R,l)}catch(r){f(37,2048,this,r),l(function(C){C(G.I)})}},H=this||self,tR="closure_uid_"+(1E9*Math.random()>>>0),CO,GS=function(l,R,G,r,C){if((r=H.trustedTypes,C=l,!r)||!r.createPolicy)return C;try{C=r.createPolicy(R,{createHTML:lp,createScript:lp,createScriptURL:lp})}catch(L){if(H.console)H.console[G](L.message)}return C},lp=function(l){return O.call(this,3,l)},nO=function(l,R,G,r,C,L,z,e,h,T,v,J,M,p){for(h=p=0,C=[];p<R.length;p++)L=R.charCodeAt(p),128>L?C[h++]=L:(2048>L?C[h++]=(v=L>>6,-~v+2*(~v&192)+(v|-193)):(55296==64514+(~L&64512)+2*(L|-64513)&&p+1<R.length&&56320==(T=R.charCodeAt(p+1),(T|0)- -64513+~(T|64512))?(L=65536+(-1-~(L|1023)-(L^1023)<<l)+(M=R.charCodeAt(++p),(M|0)+(~M^1023)-(M|-1024)),C[h++]=(J=L>>18,3*(J&G)+2*~(J&G)-(J|-241)-(~J|G)),C[h++]=(r=(z=L>>12,63+(~z^63)-(~z|63)),~(r&128)- -258+2*(r&-129)+(~r^128))):C[h++]=L>>12|224,C[h++]=(e=L>>6&63,-~(e|128)+(~e&128)+(e|-129))),C[h++]=-~(L&63)+(L&-64)+(~L|63)|128);return C},d$=0,yv=function(l,R){if(!H.addEventListener||!Object.defineProperty)return false;R=Object.defineProperty({},"passive",(l=false,{get:function(){l=true}}));try{H.addEventListener("test",mS,R),H.removeEventListener("test",mS,R)}catch(G){}return l}(),fO=function(l,R){return V.call(this,15,13,l,R)},Wk="constructor hasOwnProperty isPrototypeOf propertyIsEnumerable toLocaleString toString valueOf".split(" "),Dc=function(){return zB.call(this,3,3)},xA=((fO.prototype.preventDefault=function(){this.defaultPrevented=true},Dc).prototype.jp=(fO.prototype.stopPropagation=function(){this.Z=true},false),function(l,R,G,r,C){return eh.call(this,16,7,l,R,G,r,C)}),Ns=(q(2,5,xA,fO),{2:"touch",3:"pen",4:"mouse"}),$A="closure_listenable_"+(1E6*(xA.prototype.preventDefault=(xA.prototype.stopPropagation=function(){(xA.h.stopPropagation.call(this),this.i.stopPropagation)?this.i.stopPropagation():this.i.cancelBubble=true},function(l){xA.h.preventDefault.call(this),l=this.i,l.preventDefault?l.preventDefault():l.returnValue=false}),Math.random())|0),zS=function(l,R,G,r,C){return w.call(this,r,G,C,5,l,R)},Up=function(l){return Fb.call(this,8,32,l)},u6=0,KO="closure_lm_"+(1E6*(Up.prototype.remove=function(l,R,G,r,C,L,z){if(!((L=l.toString(),L)in this.K))return false;return-1<(z=(C=this.K[L],O)(26,0,r,C,R,G),z)?(X(7,null,C[z],14),Array.prototype.splice.call(C,z,1),0==C.length&&(delete this.K[L],this.H--),true):false},Up.prototype.add=function(l,R,G,r,C,L,z,e,h){return(h=(z=this.K[e=l.toString(),e],z||(z=this.K[e]=[],this.H++),O)(5,0,C,z,R,r),-1<h)?(L=z[h],G||(L.D=false)):(L=new zS(!!r,this.src,C,R,e),L.D=G,z.push(L)),L},Up.prototype.E5=function(l,R,G,r,C,L){return(L=this.K[(C=-1,l).toString()],L&&(C=O(47,0,r,L,R,G)),-1)<C?L[C]:null},Up.prototype.hasListener=function(l,R,G,r,C){return hR(9,false,!(r=(G=(C=void 0!==R,void 0!==l))?l.toString():"",0),function(L,z){for(z=0;z<L.length;++z)if(!(G&&L[z].type!=r||C&&L[z].capture!=R))return true;return false},this.K)},Math.random())|0),TB={},Ep=0,b6=function(l,R,G,r,C,L){return Fb.call(this,8,5,l,R,G,r,C,L)},jh="__closure_events_fn_"+(1E9*Math.random()>>>0),B=function(){return Fb.call(this,8,17)},Cj=((((((((q(2,50,B,Dc),B.prototype)[$A]=true,B.prototype).Sp=function(l){this.LL=l},B.prototype).addEventListener=function(l,R,G,r){hR(25,false,0,l,r,G,this,R)},B).prototype.removeEventListener=function(l,R,G,r){O(14,0,R,r,G,l,this)},B.prototype).dispatchEvent=function(l,R,G,r,C,L,z,e,h,T,v,J){if(J=this.LL)for(L=1,T=[];J;J=J.LL)T.push(J),++L;if(e=!("string"===(z=(C=(R=this.MI,r=T,l),C.type||C),typeof C)?C=new fO(C,R):C instanceof fO?C.target=C.target||R:(v=C,C=new fO(z,R),Qv(C,v)),0),r)for(h=r.length-1;!C.Z&&0<=h;h--)G=C.currentTarget=r[h],e=AR(11,0,G,z,C,true)&&e;if(C.Z||(G=C.currentTarget=R,e=AR(13,0,G,z,C,true)&&e,C.Z||(e=AR(5,0,G,z,C,false)&&e)),r)for(h=0;!C.Z&&h<r.length;h++)G=C.currentTarget=r[h],e=AR(3,0,G,z,C,false)&&e;return e},B.prototype).E5=function(l,R,G,r){return this.Y.E5(String(l),R,G,r)},B).prototype.hasListener=function(l,R){return this.Y.hasListener(void 0!==l?String(l):void 0,R)},function(l,R,G,r,C,L,z,e,h,T){function v(J){J&&z.appendChild("string"===typeof J?r.createTextNode(J):J)}for(e=l;e<R.length;e++)if(h=R[e],!hR(18,"number","object","array",h)||f(6,null,h)&&h.nodeType>L)v(h);else{a:{if(h&&"number"==typeof h.length){if(f(26,null,h)){T="function"==typeof h.item||typeof h.item==G;break a}if("function"===typeof h){T="function"==typeof h.item;break a}}T=false}O(8,L,C,T?f(7,L,h):h,v)}}),r$=function(){return vk.call(this,1,5,3)},r8=function(l){return Id.call(this,8,8,l)};W=r$.prototype;var od,RR=((W.createElement=((W.contains=function(l,R,G){if(!l||!R)return false;if(l.contains&&1==R.nodeType)return l==R||l.contains(R);if("undefined"!=typeof l.compareDocumentPosition)return l==R||!!(G=l.compareDocumentPosition(R),-~(G&16)-(G&-17)+(G^16)+(G|-17));for(;R&&l!=R;)R=R.parentNode;return R==l},W).append=function(l,R){Cj(1,arguments,"string",9==l.nodeType?l:l.ownerDocument||l.document,"",0,l)},(W.createTextNode=function(l){return this.l.createTextNode(String(l))},W.appendChild=function(l,R){l.appendChild(R)},W).getElementsByTagName=(W.removeNode=r8,function(l,R){return(R||this.l).getElementsByTagName(String(l))}),W.v=function(l){return"string"===typeof l?this.l.getElementById(l):l},function(l,R,G){return"application/xhtml+xml"===(R=String((G=this.l,l)),G.contentType)&&(R=R.toLowerCase()),G.createElement(R)}),W).canHaveChildren=function(l){if(1!=l.nodeType)return false;switch(l.tagName){case "APPLET":case "AREA":case "BASE":case "BR":case "COL":case "COMMAND":case "EMBED":case "FRAME":case "HR":case "IMG":case "INPUT":case "IFRAME":case "ISINDEX":case "KEYGEN":case "LINK":case "NOFRAMES":case "NOSCRIPT":case "META":case "OBJECT":case "PARAM":case "SCRIPT":case "SOURCE":case "STYLE":case "TRACK":case "WBR":return false}return true},function(){return eh.call(this,16,13)}),y=((V(15,15,RR),RR.prototype.We=0,RR.prototype).a5="",function(l){return V.call(this,15,10,l)});((((q(2,70,y,B),y.prototype).r$=RR.G(),y.prototype.v=function(){return this.ep},y.prototype.getParent=function(){return this.CL},y).prototype.F=function(){this.s5=((kA(this,3,function(l){l.s5&&l.F()}),this).Ay&&Fb(8,12,0,this.Ay),false)},y.prototype).Sp=function(l){if(this.CL&&this.CL!=l)throw Error("Method not supported");y.h.Sp.call(this,l)},y).prototype.removeChild=function(l,R,G,r,C,L,z,e,h,T,v,J){if(l&&("string"===typeof l?L=l:((v=l.Zt)||(h=l.r$,C=l,G=h.a5+":"+(h.We++).toString(36),v=C.Zt=G),L=v),e=L,this.qI&&e?(z=this.qI,J=(null!==z&&e in z?z[e]:void 0)||null):J=null,l=J,e&&l)){if((JR((e in(r=this.qI,r)&&delete r[e],1),0,l,this.Pe,48),R&&(l.F(),l.ep&&r8(l.ep)),T=l,null)==T)throw Error("Unable to set parent component");y.h.Sp.call(T,(T.CL=null,null))}if(!l)throw Error("Child is not in parent component");return l};var Lj,ee=function(l,R){return sp.call(this,28,R,9,l)},$Q=function(l,R,G,r,C){return Zc.call(this,0,48,l,R,G,r,C)},hQ=function(){return AR.call(this,8)},TS=((W=(V(15,27,hQ),hQ.prototype),W.ip=function(){return"goog-control"},W).pL=function(l,R,G,r,C,L,z){(L=l.getAttribute((r=(Lj||(Lj={1:"disabled",8:"selected",16:"checked",64:"expanded"}),Lj)[R],"role"))||null)?(z=TS[L]||r,C="checked"==r||"selected"==r?z:r):C=r,C&&Zc(0,19," ","aria-",l,C,G)},{button:"pressed",checkbox:"checked",menuitem:"selected",menuitemcheckbox:"checked",menuitemradio:"checked",radio:"checked",tab:"selected",treeitem:"selected"}),vt=(W.L=function(l,R,G,r,C,L){if(r=l.v())this.R5||(L=this.ip(),L.replace(/\\xa0|\\s/g," "),this.R5={1:L+"-disabled",2:L+"-hover",4:L+"-active",8:L+"-selected",16:L+"-checked",32:L+"-focused",64:L+"-open"}),(C=this.R5[R])&&this.J(l,C,G),this.pL(r,R,G)},(W.J=function(l,R,G,r){(r=l.v?l.v():l)&&(G?$Q:ee)(r,[R])},W).Yv=(W.hy=function(l,R,G,r,C,L){if(f(22,2,32,l)&&(C=l.Yv())){if(!R&&l.P&32){try{C.blur()}catch(z){}l.P&32&&(l.Xs&4&&f(40,2,4,l)&&l.setActive(false),l.Xs&32&&f(32,2,32,l)&&X(7,32,false,3,l,32)&&l.L(32,false))}if(r=C.hasAttribute("tabindex"))L=C.tabIndex,r="number"===typeof L&&0<=L&&32768>L;r!=R&&(G=C,R?G.tabIndex=0:(G.tabIndex=-1,G.removeAttribute("tabIndex")))}},function(l){return l.v()}),function(){return zB.call(this,3,8)}),g=(V(15,5,(q(2,20,vt,hQ),vt)),function(l,R,G,r,C,L,z,e){return sp.call(this,28,R,26,l,G,r,C,L,z,e)}),Bk={};if("function"!==(((((((((((W=(q(2,((vt.prototype.pL=function(l,R,G){switch(R){case 8:case 16:Zc(0,46," ","aria-",l,"pressed",G);break;default:case 64:case 1:vt.h.pL.call(this,l,R,G)}},vt).prototype.ip=function(){return"goog-button"},55),g,y),g.prototype),W.Xs=255,W).KU=39,W).P=0,W.V9=true,W).J=function(l,R){R?l&&(this.B?0<=Id(8,9,0,l,this.B)||this.B.push(l):this.B=[l],this.g.J(this,l,true)):l&&this.B&&JR(1,0,l,this.B,49)&&(0==this.B.length&&(this.B=null),this.g.J(this,l,false))},W).F=function(){(g.h.F.call(this),this).Gc&&this.Gc.detach(),this.isVisible()&&this.isEnabled()&&this.g.hy(this,false)},W.B=null,W).Yv=function(){return this.g.Yv(this)},W.CU=0,W).isVisible=function(){return this.V9},W).isEnabled=function(){return!(this.P&1)},W).setActive=function(l){X(7,32,l,33,this,4)&&this.L(4,l)},W).getState=function(){return this.P},W).L=function(l,R,G,r,C,L,z){G||1!=l?f(10,2,l,this)&&R!=!!(this.P&l)&&(this.g.L(this,l,R),this.P=R?(L=this.P,(L&l)+(L&~l)+(~L&l)):(C=this.P,-1-~~l-(~C&~l))):(z=!R,r=this.getParent(),r&&"function"==typeof r.isEnabled&&!r.isEnabled()||!X(7,32,!z,34,this,1)||(z||(this.setActive(false),X(7,32,false,32,this,2)&&this.L(2,false)),this.isVisible()&&this.g.hy(this,z),this.L(1,!z,true)))},typeof g))throw Error("Invalid component class "+g);if("function"!==typeof hQ)throw Error("Invalid renderer class "+hQ);var JQ=q(g,8),Hk=(O((Bk[JQ]=hQ,9),"goog-control",function(){return new g(null)}),function(){return f.call(this,19)}),M1=((V((q(2,10,Hk,vt),15),17,Hk),Hk.prototype.hy=mS,Hk).prototype.pL=mS,function(l,R,G){return eh.call(this,16,10,l,R,G)}),Bt=(O(13,((Hk.prototype.L=function(l,R,G,r){(r=(Hk.h.L.call(this,l,R,G),l.v()))&&1==R&&(r.disabled=G)},q)(2,65,M1,g),"goog-button"),function(){return new M1(null)}),function(l,R,G,r,C,L,z,e,h,T,v){if(3<((T=(L=c(((C=void 0,r&&r[0]===sb)&&(C=r[2],G=r[1],r=void 0),R),79),0==L.length&&(h=c(R,127)>>3,L.push(G,(v=h>>8,-(v|0)-2*~(v&255)+-2+(v&-256)),h&255),void 0!=C&&L.push(2*(C|0)+~C-(C^255)-(C|-256))),""),r)&&(r.message&&(T+=r.message),r.stack&&(T+=l+r.stack)),z=c(R,245),z)){T=nO(10,(z-=(T=T.slice(0,-(z&3)- -4+2*(z|-4)-(~z|3)),(T.length|0)+3),T).replace(/\\r\\n/g,"\\n"),240),e=R.V,R.V=R;try{t(104,R,d(T.length,2).concat(T),195)}finally{R.V=e}}K(245,R,z)}),V_=function(l,R,G,r,C,L,z,e,h,T){for(C=(h=(L=P((z={},r)),z.O5=P(r),z.R=[],r.V==r)?(T=P(r),l+(~T&l)+R*(T|-2)-(~T|l)):1,e=P(r),G);C<h;C++)z.R.push(P(r));for(z.m7=c(r,L),z.He=c(r,e);h--;)z.R[h]=c(r,z.R[h]);return z},g$=[],YQ=((Q.prototype.N2=void 0,Q).prototype.Pq=function(l,R,G,r,C){if(3==l.length){for(G=0;3>G;G++)R[G]+=l[G];for(C=(r=0,[13,8,13,12,16,5,3,10,15]);9>r;r++)R[3](R,r%3,C[r])}},function(l,R,G,r,C){return(ct(":",2048,r,l,(C=c(r,85),r.A&&C<r.T?(K(85,r,r.T),pj(r,R,85)):K(85,r,R),0)),K)(85,r,C),c(r,G)}),AQ=((Q.prototype.LU=void 0,Q.prototype.II=function(){return P(this)},Q.prototype).w$=false,function(l,R,G){return(G=R(43680).shift(),l.N(43680).length||l.O(43680).length)||(l.N=void 0,l.O=void 0),G}),I,Vv=function(l,R,G,r,C){if(r=typeof R,"object"==r)if(R){if(R instanceof Array)return"array";if(R instanceof Object)return r;if((C=Object.prototype.toString.call(R),"[object Window]")==C)return"object";if("[object Array]"==C||"number"==typeof R.length&&"undefined"!=typeof R.splice&&"undefined"!=typeof R.propertyIsEnumerable&&!R.propertyIsEnumerable(G))return"array";if("[object Function]"==C||"undefined"!=typeof R.call&&"undefined"!=typeof R.propertyIsEnumerable&&!R.propertyIsEnumerable(l))return"function"}else return"null";else if("function"==r&&"undefined"==typeof R.call)return"object";return r},w$=function(l,R,G,r){if(r>=R.T)throw[sb,31];return K(l,R,(r|0)+8),R.A[r>>G]},oR=(W=Q.prototype,Q.prototype.S="toString",false),bp=[],ck=[],Z1=[],Kj=[],LO=H.requestIdleCallback?function(l){requestIdleCallback(function(){l()},{timeout:4})}:H.setImmediate?function(l){setImmediate(l)}:function(l){setTimeout(l,0)},Rd=[],pO=(W.pU=function(l,R,G,r,C){return w.call(this,R,G,l,3,r,C)},W.YH=function(l,R,G,r,C,L,z,e,h){return l6.call(this,8,l,R,G,r,C,L,z,e,h)},W.q2=function(){return Fb.call(this,8,6)},[]),t=function(l,R,G,r,C,L,z,e,h){if(R.V==R)for(z=c(R,l),104==l?(C=function(T,v,J,M,p,Y,A){if((v=(M=z.length,-~(M&4))+-5-(~M^4)+(M|-5)>>3,z.lp)!=v){A=[0,0,e[1],(p=(Y=v<<3,~((z.lp=v,Y)&4)-~Y-(~Y&4)),e[2])];try{z.up=Ub(5,A,24,Op(24,8,9,16,10+4*(p&-5)-(p^4)+2*(~p|4),z),Op(24,8,8,16,p,z))}catch(b){throw b;}}z.push((J=z.up[M&7],-(J|0)+(T|0)+2*~(J&T)-2*~J))},e=c(R,238)):C=function(T){z.push(T)},r&&C(-~(r&255)+(r&-256)+(~r|255)),L=G.length,h=0;h<L;h++)C(G[h])},Ub=function(l,R,G,r,C,L,z,e,h,T,v,J,M,p){try{for(e=0;1414361568!==e;)C=(C|0)+(h=(z=r<<4,J=r>>>l,(z&J)+~(z&J)-(~z^J))+(r|0),L=(e|0)+(R[(e|3)- -1-(~e&3)+(~e|3)]|0),(L|0)+~L-(~h^L))|0,e=e+2325900175|0,r=(r|0)+((T=C<<4,M=C>>>l,-2*(~T^M)+(T|~M)+(~T|M))+(C|0)^(e|0)+(R[e>>>11&3]|0))|0;return[C>>>G,C>>16&255,(v=C>>8,255-~(v&255)+-256),C&255,r>>>G,(p=r>>16,-~p+(~p^255)+(~p&255)),r>>8&255,r&255]}catch(Y){throw Y;}},i6=function(l,R,G,r,C,L,z,e,h,T){if(((z=G[0],l).fL=false,z)==pO)l.ty=25,l.o(G);else if(z==ck){C=G[1];try{h=l.I||l.o(G)}catch(v){f(49,2048,l,v),h=l.I}C(h)}else if(z==Rd)l.o(G);else if(z==Z1)l.o(G);else if(z==bp){try{for(L=0;L<l.QK.length;L++)try{T=l.QK[L],T[0][T[1]](T[2])}catch(v){}}catch(v){}(0,G[1])(function(v,J){l.$v(v,true,J)},(l.QK=[],function(v){w(l,[Kj],(v=!l.j.length,0),12),v&&YA(2048,false,false,true,l)}))}else{if(z==g$)return e=G[2],K(219,l,G[6]),K(r,l,e),l.o(G);z==Kj?(l.d$=[],l.A=[],l.C=R):z==kQ&&"loading"===H.document.readyState&&(l.$=function(v,J,M){(H.document.addEventListener("DOMContentLoaded",(M=(J=false,function(){J||(J=true,v())}),M),oR),H).addEventListener("load",M,oR)})}},K=function(l,R,G){if(85==l||127==l)if(R.C[l])R.C[l][R.S](G);else R.C[l]=R.Fs(G);else if(13!=l&&104!=l&&88!=l&&79!=l&&238!=l||!R.C[l])R.C[l]=R.Be(G,l);98==l&&m(2,13,0,R)},sb={},P=(W.Bq=function(l,R,G,r,C,L,z,e,h){return kA.call(this,l,8,R,G,r,C,L,z,e,h)},function(l,R,G,r,C,L){if(l.N)return AQ(l,l.O);return G=(R=(r=(L=c(l,85),L>>3),w$(85,l,3,L)),l.U!=r>>3&&(l.U=r>>3,C=c(l,98),l.Jy=Ub(5,[0,0,C[1],C[2]],24,l.U,l.M)),l).Jy[r&l[ck].length],-~(R&G)+~(R|G)+2*(R&~G)+2*(~R&G)}),ad=function(l,R,G,r,C,L){for(l.ve=(l.O=(l.bp=1,l.En=(l.NI=0,l.z5=N1,C=0,fj),(l.d$=[],l).ty=(l.fL=false,l.Fs=function(z,e,h){return Xb.call(this,11,z,e,h)},25),l.$=(l.Be=(r=[],function(z,e,h,T,v,J){return m.call(this,z,5,e,h,T,v,J)}),(l.yK=0,l).N=void 0,null),void 0),0);128>C;C++)r[C]=String.fromCharCode(C);(w(l,[bp,G],0,(w(l,[Z1,(w(l,((((((((l.nL=(L=(l.j7=(((((((((l.VK=((l.xv=((((((K(85,(l.QK=((l.V=(l.e7=function(z){return Zc.call(this,0,3,z)},l),l).C=[],[]),l),0),K(127,l,0),l).Dt=[],K)(224,l,function(z,e,h,T,v,J,M,p){(p=(h=(J=(v=P(z),M=P(z),P(z)),e=P(z),c(z,M)),T=c(z,e),c(z,J)),K)(v,z,Xb(9,2,false,T,p,z,h))}),K(174,l,function(z,e,h,T,v,J,M,p,Y,A,b,Z,U){if(!k(11,false,true,true,z)){if("object"==(b=(v=(M=(T=(p=(h=(e=P(z),P(z)),P(z)),P(z)),Y=c(z,h),c(z,e)),c(z,T)),c)(z,p),Vv("call",M,"splice"))){for(J in A=[],M)A.push(J);M=A}for(b=0<(Z=(U=M.length,0),b)?b:1;Z<U;Z+=b)Y(M.slice(Z,(Z|0)+(b|0)),v)}}),K(61,l,function(z){z.g$(3)}),K)(48,l,function(z,e,h,T,v,J,M,p,Y,A,b,Z,U,N,D,F,S){for(h=(b=(Y=(Z=(A=(e=P(z),U=0),N=function(x,E,u){for(;A<x;)U|=P(z)<<A,A+=8;return U>>=(E=(u=(1<<x)-1,((A-=x,u)|0)-~U+~(U|u)),x),E},(N(3)|0)+1),D=N(5),0),[]),0);Y<D;Y++)J=N(1),b.push(J),h+=J?0:1;for(p=(F=(T=((h|0)-1).toString(2).length,0),[]);F<D;F++)b[F]||(p[F]=N(T));for(S=0;S<D;S++)b[S]&&(p[S]=P(z));for(M=Z,v=[];M--;)v.push(c(z,P(z)));K(e,z,function(x,E,u,a,n){for(a=(E=0,n=[],[]);E<D;E++){if(!b[u=p[E],E]){for(;u>=n.length;)n.push(P(x));u=n[u]}a.push(u)}x.O=(x.N=x.Be(v.slice(),47),x.Be(a,47))})}),K)(142,l,function(z,e,h,T){if(e=z.Dt.pop()){for(T=P(z);0<T;T--)h=P(z),e[h]=z.C[h];z.C=(e[e[79]=z.C[79],245]=z.C[245],e)}else K(85,z,z.T)}),K)(164,l,function(z,e,h){e=(h=P(z),P)(z),K(e,z,""+c(z,h))}),false),K(162,l,247),K)(126,l,function(z,e,h,T,v){T=(v=(e=(h=P(z),P(z)),c(z,e)),c(z,h)),K(e,z,v+T)}),K(245,l,2048),false),K(137,l,function(z){xQ(1,z)}),K)(7,l,function(z,e,h,T,v){for(e=(v=m(128,(h=P(z),31),z),0),T=[];e<v;e++)T.push(P(z));K(h,z,T)}),K)(3,l,function(z,e,h,T,v,J,M,p){if((e=m((T=P(z),128),9,z),J="",z.C)[131])for(v=c(z,131),p=v.length,M=0;e--;)M=(h=m(128,21,z),~(M&h)-3*~(M|h)+2*(~M^h))%p,J+=r[v[M]];else for(;e--;)J+=r[P(z)];K(T,z,J)}),K)(104,l,l.ce(4)),K(4,l,0),K(228,l,0),K)(248,l,function(z,e,h,T){h=(e=P(z),T=P(z),P)(z),K(h,z,c(z,e)||c(z,T))}),K(78,l,l),K)(200,l,{}),K)(13,l,[106,0,0]),K(74,l,function(z){z.g$(4)}),K(238,l,[0,0,0]),K)(181,l,function(z,e,h,T,v,J,M){k(15,false,false,true,z)||(T=V_(1,2,0,z),e=T.He,M=T.R,h=M.length,J=T.m7,v=0==h?new e[J]:1==h?new e[J](M[0]):2==h?new e[J](M[0],M[1]):3==h?new e[J](M[0],M[1],M[2]):4==h?new e[J](M[0],M[1],M[2],M[3]):2(),K(T.O5,z,v))}),K(82,l,function(z){xQ(4,z)}),K)(88,l,[]),K(2,l,function(){}),function(z,e,h,T,v,J,M,p,Y,A,b,Z,U,N){return m.call(this,z,3,e,h,T,v,J,M,p,Y,A,b,Z,U,N)}),K(230,l,H),window.performance)||{},L.timeOrigin||(L.timing||{}).navigationStart||0),K(135,l,function(z,e){pj(z,(e=c(z,P(z)),e),85)}),K(138,l,function(z){z.U5(4)}),K(192,l,function(z,e,h,T,v,J){h=(e=(J=P(z),v=P(z),P)(z),c(z,J)),T=c(z,v),K(e,z,h[T])}),K(118,l,function(z,e,h,T,v,J){e=(J=(h=(v=(T=P(z),P(z)),P)(z),c(z,T)),c(z,v)),K(h,z,+(J==e))}),K)(202,l,function(z,e,h){e=(h=P(z),c(z,h)),e[0].removeEventListener(e[1],e[2],false)}),K)(6,l,function(z,e){k(7,false,false,true,z)||(e=V_(1,2,0,z),K(e.O5,z,e.m7.apply(e.He,e.R)))}),K)(244,l,function(z,e,h,T,v,J,M){(T=(M=P(z),P(z)),J=P(z),z).V==z&&(e=c(z,M),v=c(z,T),h=c(z,J),e[v]=h,98==M&&(z.U=void 0,2==v&&m(2,12,0,z)))}),l.j=[],K)(211,l,function(z,e,h,T,v){v=(h=(e=(T=P(z),P)(z),c)(z,T),Vv("call",h,"splice")),K(e,z,v)}),new M1("Submit"),K)(231,l,function(z,e,h,T){(h=(e=(T=P(z),P)(z),P(z)),K)(h,z,c(z,T)>>>e)}),K(158,l,function(z,e,h,T){(e=(h=P(z),T=P(z),c(z,T)),0)!=c(z,h)&&K(85,z,e)}),K)(86,l,function(z,e,h){k(27,false,false,true,z)||(e=P(z),h=P(z),K(h,z,function(T){return eval(T)}(je(c(z,e)))))}),K(116,l,function(z,e,h,T,v,J,M,p,Y,A){0!==(e=(Y=(h=(v=(J=(M=(p=P(z),A=P(z),P)(z),P(z)),c)(z,J),c(z,p)),c(z,M)),c)(z,A),h)&&(T=Xb(12,2,false,1,v,z,Y,h,e),h.addEventListener(e,T,oR),K(4,z,[h,e,T]))}),K)(51,l,function(z,e,h,T,v,J){h=(e=(T=P(z),P)(z),P(z)),v=c(z,T),J=c(z,e),K(h,z,v in J|0)}),K(79,l,[]),l.T=0,l.A=[],[kQ]),0,16),R)],0,13),32)),YA)(2048,false,true,true,l)},ct=function(l,R,G,r,C,L,z,e,h,T){if(!G.I){G.NI++;try{for(L=(h=5001,(e=C,G).T),z=void 0;(G.w$||--h)&&(G.N||(e=c(G,85))<L);)try{T=void 0,G.N?z=AQ(G,G.N):(K(127,G,e),T=P(G),z=c(G,T)),z&&z.call?z(G):Bt(l,G,C,[sb,21,T]),G.fL=true,k(19,false,false,false,G)}catch(v){c(G,162)?Bt(l,G,r,v):K(162,G,v)}h||Bt(l,G,C,[sb,33])}catch(v){try{Bt(l,G,r,v)}catch(J){f(9,R,G,J)}}G.NI--}},pj=function(l,R,G){(l.Dt.push(l.C.slice()),l.C)[G]=void 0,K(G,l,R)},kQ=(Q.prototype.$v=function(l,R,G,r,C,L){return sp.call(this,28,R,15,l,G,r,C,L)},[]),qs=(W.cq=function(){return l6.call(this,3)},[]),d=(Q.prototype.b7=(Q.prototype.ce=function(l,R){return Op.call(this,24,R,6,l)},function(l,R,G,r,C,L,z,e){try{L=l[((R|0)+2)%3],l[R]=(r=(e=l[R],C=l[((R|0)+1)%3],-~(e&C)+~C-(~e^C)+(e|~C))-(L|0),z=1==R?L<<G:L>>>G,1+2*(r&~z)-(~r^z)+2*(~r|z))}catch(h){throw h;}}),function(l,R,G,r,C){for(r=-(R|1)+(R&(G=[],1))+2*(R&-2);0<=r;r--)G[(R|0)-1-(r|0)]=(C=l>>8*r,(C|0)+(~C^255)-(C|-256));return G}),c=(W.X=(window.performance||{}).now?function(){return this.nL+window.performance.now()}:function(){return+new Date},function(l,R,G,r,C,L){if(void 0===(C=l.C[R],C))throw[sb,30,R];return r=(r=L=(((r=R|0,G=(r*r|0)%668|0,G*G|0)%668|0)*r|0)%668|0,r=(r*r|0)%668|0,r=(r*r|0)%668|0,r=(r*r|0)%668|0,(r*r|0)%668)|0,C(1365*((((r*r|0)%668|0)*L|0)%668|0))}),xQ=(Q.prototype.o=function(l,R){return l=(R={},{}),function(G,r,C,L,z,e,h,T,v,J,M,p,Y,A,b,Z,U,N,D,F,S,x,E,u,a,n,IR){l=(h=l,R);try{if(Z=G[0],Z==qs)return h==R?40:107;if(Z==Z1){IR=G[1];try{for(a=(D=(S=(r=[],atob)(IR),0),0);a<S.length;a++)L=S.charCodeAt(a),255<L&&(r[D++]=-2*~(L&255)+~L+2*(L&-256)+(~L|255),L>>=8),r[D++]=L;K(98,this,[0,(this.T=(this.A=r,this).A.length<<3,0),0])}catch(Ht){Bt(":",this,17,Ht);return}ct(":",2048,this,22,0)}else if(Z==pO)G[1].push(c(this,88).length,c(this,104).length,c(this,245),c(this,13).length),K(200,this,G[2]),this.C[187]&&YQ(22,c(this,187),200,this);else{if(Z==ck){this.V=(u=(F=d((e=c((A=G[2],this),13).length,-2*~(e&2)+3*(e&-3)+(~e&2)+2*(~e|2)),2),this).V,this);try{M=c(this,79),0<M.length&&t(13,this,d(M.length,2).concat(M),192),t(13,this,d(this.bp,1),167),t(13,this,d(this[ck].length,1)),v=0,Y=c(this,104),v-=(c(this,13).length|0)+5,v+=(E=c(this,228),2048+(E|-2048)),4<Y.length&&(v-=(Y.length|0)+3),0<v&&t(13,this,d(v,2).concat(this.ce(v)),197),4<Y.length&&t(13,this,d(Y.length,2).concat(Y),86)}finally{this.V=u}if(N=((U=this.ce(2).concat(c(this,13)),U[1]=(b=U[0],~b+-205-2*~(b|204)),U[3]=(z=U[1],p=F[0],(z|p)+~p-(z|~p)),U)[4]=(x=U[1],C=F[1],-(C|0)+-3-~x-2*(x|~C)),this).kv(U))N="<"+N;else for(N="",J=0;J<U.length;J++)n=U[J][this.S](16),1==n.length&&(n="0"+n),N+=n;return(((T=N,c)(this,88).length=A.shift(),c(this,104)).length=A.shift(),K(245,this,A.shift()),c(this,13)).length=A.shift(),T}if(Z==Rd)YQ(22,G[1],200,this);else if(Z==g$)return YQ(22,G[1],200,this)}}finally{l=h}}}(),function(l,R,G,r){G=(r=P(R),P)(R),t(G,R,d(c(R,r),l))}),fj,YA=(Q.prototype.kv=function(l,R,G,r,C){return q.call(this,l,3,R,G,r,C)},fj=(Q.prototype.g$=function(l,R,G,r,C,L){return m.call(this,l,7,R,G,r,C,L)},function(l){return P(l)^P(l)}),function(l,R,G,r,C,L,z,e){if(C.j.length){C.xv=(C.VK&&0(),C.VK=true,r);try{e=C.X(),C.o5=0,C.Tc=e,C.I5=e,z=up(2048,r,l,true,null,200,C),L=C.X()-C.I5,C.ve+=L,L<(G?0:10)||0>=C.ty--||(L=Math.floor(L),C.d$.push(254>=L?L:254))}finally{C.VK=R}return z}}),up=(Q.prototype.U5=function(l,R,G){for(R=(G=P(this),0);0<l;l--)R=R<<8|P(this);K(G,this,R)},function(l,R,G,r,C,L,z,e,h,T){for(;z.j.length;){e=(z.$=C,z.j.pop());try{h=i6(z,null,e,L)}catch(v){f(65,G,z,v)}if(R&&z.$){T=z.$,T(function(){YA(l,false,r,r,z)});break}}return h}),N1,je=function(l,R){return(R=GS(null,"tl","error"))&&1===l.eval(R.createScript("1"))?function(G){return R.createScript(G)}:function(G){return""+G}}(((Q.prototype[bp]=[0,0,1,(N1=/./,1),0,1,1],Q).bind&&(fj[Q.prototype.S]=Z1.pop.bind(Q.prototype[pO]),N1[Q.prototype.S]=Z1.pop.bind(Q.prototype[pO])),H));(I=H.watchbell||(H.watchbell={}),40<I.m)||(I.m=41,I.tl=Sh,I.a=Pk),I.YHg_=function(l,R,G){return[(G=new Q(R,l),function(r){return vk(1,5,11,false,G,r)})]};try{I.u||(H.addEventListener("unload",function(){},oR),I.u=1)}catch(l){}try{H.addEventListener("test",null,Object.defineProperty({},"passive",{get:function(){oR={passive:true}}}))}catch(l){};}).call(this);'));}).call(this);</script>
  <script type="text/javascript" nonce="8NL3QjG+714OqI0schkVIg">
  document.bg = new watchbell.tl('YHgBtC9I2kMPlIC5xi9gI6sajw8JzBOZxIbg28JxivXCgHAEixEpWECTIOXMWLp00dRBfbRSkbs5ombRMHGBk7In7gM830x48eogQIo53IoTAPTYEM/sA9sNBvI1CfXg/VMj4PALbhZk1R6yGdC/U2Jll7wBeojpB3IRV0YLtUch4IekbdrFvlfKuq8TI6u0aQY0cMFVy8m1T+YMND6Ye0lK4unj7fCku+l6G+jk+sWsnF/gHLlO6rneoFgg/5pL1Bi3z5btFSySuaysGUSf0dibJ4qjQGL0ALEsBbVmEA9cixPdLaLlP47BtGM5WMXpEurKkxvtE9IcT+70fFE7OGsWfQGwPIGLy06YZMSiBLH56WafyM9X6mNlTS6ddl1dlGt+SwsaTZSGuvjjfwA1TTveQs+5DTIjUzCJO5Pf9xKnF3EVTCqjBOrU/PfNVOwHS7x0Zp+p8bFHggAmTPtoLkAbAJ42U/qOes7dKIUNMEBFQJPHvO/2VrYQ4D01UiasxCM48AEz6kTCL7e7WgLupBtwLdNIn3TCj29qi3kcNNnKAZ0ytqvc3goT5tdTPOZvBsPk23wDvyH8idQOUk5EyWjwevMniILqckFScxCPgyZTmqntF37PssA+ri1I3zACrluaeyLGzcF3vPw4wX6O5fGePcvjuQo5YhrllLMxYq4V2hNBPDUBb5J2M6w5LVG07WqaTIU9HxsE5KdkpXnIYqy0rBikul7reKfMQiuisfT/EeoVoC5NPCTTkCYYw0Hh2jv0b1JkJUkIbnAng5+IlVhfg6TcNjFWGCbH9Tv1IBU9AGjPO8hp5J8gbZq1Pq1efMaZ1ICPQE3O7YSliT0Z1hzLvvNA2xokVBEU2z38c/zEUxsg4+yovNNL4+8cS3gnkosDnTBL9HNFXTODGK/nPAglCXKDvBgW1zd4Lklr0Mo5kqPEQ4FVxg9RGdzw+GQyfyfH1pISL6H2PadOQnZCQ1ur3oTY93f0Z3Q6PURN3LmiZb7Mx/Rz2MiyxBzqgmaNbwktCmIq+mx6iqVZssW0qCeDN8w3PP7FP/OlGYGwf0KXBG/2ch0BikUVYW7Dnv7wIU691V252C2Vds8DMdMzE1sSR+u4tAGj7ESepJgr/ova8TiztRqUB2Aar1VxYYiPh4FzeF7XWRsOcmOup53GZeaBp584ekgH3FAYtiTLGE3wLWYquIe5+4/uNJzSApHBuCoyBtma6DDXB48SAqCMyLal0oU6sHQ6Y/O1y1sq0g2Yv4PzH5mofI89P7n89l8g7gmBf10/04YNyUa3rJbQG1D6r/8M69Dfj+v1IqLGB40UIdETbplxwsrSsuS0AhCRIs+mL5mdRfAa42AvXCnfM/ao1IdwXcgrUvlEc9wbVWqVQpEIgvY8sQOJ0mGNkzMppTREI9FA3S9CHFVlXy6kt6/uhgH8jME6EUxRL7TLLGxijSPFZ8eYhVvFqjK1q/RZmR+vXhNwM4fWwoN3T3vDppIdw7RxRjYm0mFM9ELgKD0jqjXSMUCunqzo3/p8YWLgNaaxLxgu9OM8zZxvyJUOlEN6nBqszEh5p+3SxgI1qKsq8Igq6hzy45C3tle67sn9dxXtGWJQTtWLTxR8FKygWLwZnvSDp9lr9fx1Fh1SfVCeE2j4O60TROEkUHd3CzSCYDJctJUs1dHN7BFLGqcFEv3q1bh8lyUD73U3YKFZ1lrlqzyuJh4uTwI0g/geEFkcxPC8ygGg/cz/iNlE73J6TKZb5GvfKqSwYRHjIgmqARundJdbqjUHlqD2Q5Bi1WQc2WVzsu7iXH8kpjTiQOB6JG5qUpWYrwb9997LEKwkn1SYXlgLsLZewA/DwY5+VrM/3q5BidViqLt/O8ER1jv0k3+iBic2Vf0S2KPDqGkFOzieJj4qZHchCWcl5MMjtslWPXxBlWsirUav1bEQZJyO1rqiwk4meZij9EXnVeEAOFKjlED3MgJtzZf6oIBe0prUsZw4bSCZ0eenj8DDkxvLduO64cqcGOr9i7ZdvfyEkqor0eyMtKyWHjziXzfJHs3x/toxtYnFv8TNcLZ9XEW6ORf0GaRa8UOWuSSzUsirEmde1ZARo1yCYGYP+XyptDUuy+yjQsDNr1uXWEDF9POXxhmP3wK/RrjIVyFeh80QXeXwk4MAc+FcNrc+U4z2QNXyCIuBl1tDhmY6EKywmdcxoUmWOrqWSuE1zBCTzhY921L+ZWNbfhrBKfdrYRPvKerq0wSLPaJK+rLS+J7imuDoky1RGMNI4WE4SG3tPzExzsNMdjprqNoWCLFYlRa0ZYfl3OBRekeJg0A0HPWk0P/S6lqkSr17WFF4xujqS7b0iv/zuIIgatOjxRbOsDf/l42ROSWEZiRqBMlCtaUYXNMzvVm3lJif7IhyuabGXMbTuDv//RpqzRvAoLU/sJw2EfabADSx28lCp1i4iUTk02W/dHR2+cifNeAIRA5A0CH+89haV9ZARTVF2Ttli0H9JZYDLspngrUhvKG8RbEA2id0D2I+rYqKKsv4fs3wPw2KFhd+vfFiyfkLFQVfg/O/wZoJCeiBgHOKpCsSOsf4hJLq6PqdvPxxs65JmtFGbEF1M1WNo4jsrSMNvn0ECYAz0DVy3IJzQrrnfppTYxF6ipm0UFCYmNStHsfEhgAK3vQWTQrP3m/QfZwkTvq/oq0kUWUpWj8p6tizD5b/QwzPUbQikTE69yTLwyLR7DTsl2WRcdRfQrB6x7gOMJfiDMEhJLbXLbYGCOs1/zZwz7DMGNlBLxFFfXG1I6sEb5Gfv5lidsupUHaRU+6sOG/Zo6QUBsM6d2Bl1b3BQj2X/svIMpN4QAcvu3TSOlRu4dQiiq0qhHA30RyjAlriVIMPNSH064elJbRMcaJWNqvOOpfelneLdApVxOJKelcRTHVQR1H5f+rItXDYa7XBfsfzKRoatv/1N1CAfFRRmbaE2xBSgAOe1bEtxzVVNdkEBTCIyVwyQSgB8qtYr+KljvC3jX2gFI41qocvQ7LPy8ID19/gpjkdTYKN/J9fMgspMoYNZQd93zbT+2JKDc80Nj4qrswsNk5P5XDVC5QgSjo5eNZkWqXJMkcHKaHg6JTz6QvLOB9t53NBNMYTK4y5n7aYiJsYRrEwqMw80wzleS186FuVbOEff0lfuxjK0ZzLQdlbM/L/qsyT9/Cq3PbbTE60rLGKe1JFRYtxzpxwdePn6WSvJxWC+XbeOioRQsp5XWKyHU7dSiGw2HI9EnyOuXbRfTJmjL+jQTxkZ6Rz7n799siPGOSfNfcViW0JzEKbAtQU47GRpX+LldmJ6BB74dNE/civj4cYJBbJV5nPFKISKWyq0Ta9TxJLJbUB9YBPMD9SoPSF2QJr7UMtuOYeA3ZM8+036lzETGeubCqmNnDZqRgZWubi32UjfWK2IJ49rybBJqLAIU1Oh6XZiSiQu4saOaU5VSTUyiovDv/Wym5dViT8FF2fy0Ozkh6mhGH98euVNQfHqvwuYlPARGjyLaELPFWliET8+eh0v4FRGj0TZ4OzKytkiHYv1pxI1/G9yxyw41EZRgevNWUYY6Qa4O8N7cWKlEbISg/g3A+xuDzLittethLQoTDqAjuZumJrJOEo4cbCJB7oKk24AKt8IQ/F0uVaR3nlDFEjoAcYKmTX7NxCU8sSZAD41O0UqPbzDGKou4gEF8qdrKuKZWqikuYEdwyx+ZCbdLex4I+arqEmEvyYSjYK7UBpVfXgQ1ZmYkHUCR5sYfFdZfcSUlNKjs6dzgbFNx9WkR/a5kboE/XfYt1YVbtXk8GN8q52mf9i/PFPNB2Dhkidc+JaUdVJX/H5go8lxo4bYDdwGVZeoRw7m02bfCqIixZ/CYOVW5AiNAhETCIN82HIJy36WNVQeDj+Et7tGotZ0oyogwJqFtXSpTayyQWD2YY27Xk4KoSY2Y3fVebLkzn294NjS1S3UueUsJJGp2UWpMxplHbHkcR4DZfYgga3LwdEij5G3pPoEyNhY55r2aVRHWvuLoLixyrXQ4YOsYE3MSfPSTks6635wB+myT17LKILnxwpDkMDsTLSXd9Wl1UgGCqqJCqeHBSV+auC2JuQJqE2l/u3SeBVCKT5V6CtERPTqArgfofL0fhOOenFacORoeC6dTHRv2KA/j0RCeLafjCS16N6HkRJM1Z6Ifn2fdDRdec6TmK4wpLwYcIYJm4G4GUml7dd2WolqlXeoD3ommnP+3xW1BQXxnHltLYtF+XhUGC5/4wdL/fn8iVkd70TAUdONtwrvke12eXXUc/tqSETRQTFo2uxlAnzE0SHqR0zA9lTWJKJ/A2/rhrQch7PTWlhlU/Hva97oY5FYrDbuxJd8TFuRgMsPuSTuwgQKj0sf0ZirrF4dbfa+eW/zV89BXG2SxvbiNgvfMC8yFKnAfpUn+y49LjF/6V9nFL7M7ltHwjpom3TREo0T2MHbMExSNeP++gF5BfLT4LbP3g0eZ6d0w6jRAzqyrQPBfhk82zJu3an5Zre2v/j0xHLpnUDpZ4jaIufG3yi4s8beMnvJDk/2oiU5l2Fg1kI7ziwzUn6Tcq2D3cG/PcTykTayj8RzvO0fJfo1bqO7qFn4qihhJXNo0jhHk8CkCz4SnTLmjKbhn/dFMnL7MRJ26TyMAs2UDEJXxvQYO1pwYOZPMkw99s5Z2T23jeu5LP+cPzXyaFQDA0Nr554e3OFI6b1cxjudkoliKJycX8VLfIWHbIJtCrNMJK5xpsjAfiNuau5DcVp9gFL7DdRS8xg7c9Idh3THG56Y8DhSpWkI6okk+XQ15Ey1+YbL4eoMqYcuGI6fQMN2WZUSvPlyMsHKW3Do2RttlF0rs5Qa9cSjOwhCLD7mLO+Aqn2y8YIzNdzNrzZpGAinKiUDcTyzoX68oSrVPMaCGq9DfKQtjmiu5Nrr5nv0wCtf9y/B0I5d9vFoqcd18C+HL+ubX762SXsk8rS5rslxkgL+w5lMY6qFM7+5QtzG3dplxCHAF/T6rtuPKgaJuWPnYPwA+XTr1CeLtKg2L32WRqz2PqODAl7Vj5GKf/MvcoFT+bPQAZeDRt239kOncPcMWq+Z7LuEJSLtYoDRlJlZzQeneoiOjEvFqFvEKjUxZ6mPsOilNFl406oInNp8bRM/B9gs0U+2S07WJnbeyHueT0i7YLZF/UdAJdWirH7TvwnYEF/GhJdjmzS/VYPIFSsh2+MIIel2S1iEwKhtGvEKl/4B10gvXhGmbGO+ySefXLisAcLDCFitwfyr2Fnh9mmgkejekaya41dJkCU4jb9le6ewmWcuCBK7bhQKfIsRUaGIOvr0B6RGaiUA4zKsAfluOgUn6xh5V9w2qxm9eS/NTj3S9x3RypShYwmKJtlOKx3LPJEGpN27fXogSSBCMKwGhyQETfTbp+Cy/VSbfjAB7+RMt1X/HTqHoZ3cD32pn9FMHT4GzhQscl+GTNr2wC1d64Zqb6AsXCFY4EfABtuXCVuGFD1eg3JjyCppElJTg2SSmLw3weX9ybzbo6JAPDPSF88IlMN5aHp43XkdGrjU4nSWx2aS8R+sVR6JranM3eOEvGlPm+9YpnVhOQYv7bZGjkzI0jbFi39g+FEs1dPAPsRVQoaMVs5HJDYYfJAi1usmRqWuBG1V7IqG1bneifS01pmkbm1uuypMJ8nCNd6IerZZlpwei65iO9rgI6Mwkjvmx6pLV3Xry6O3wGV03FyqoV1djcvjSieAx9TygYBbShCaokpgRHqgYZQIrLmglorILIl4V2AsCGoVbaMUTl3FN8F2bORRaZnnTStbBSvOZ5RcZKVOGGal7dpfeGhsnpJIQpZMRYVoSA7mS3fH4XduvU3C+pGaeWufIw40QrBwqAKg0BJly6jKNbWowzJvvSoc0C9qnB7AC5w1faD+fxt5RTRVE1hE5jqJlZq2q48JxivHVEnDgofsd84t34aJih26evtYeNV7DjWgahtnTA6JGLg9EuDF9IZJaSUAgsEsuFBOnqdUxVCXljSA+k/BWb1KBnGbDqm1P1e0cHzSE46aCPghI3E3rm+XQG4GZflUZAvtvoR/EGAruumNR5rJ3Zou1jVmkMfdszf4jVvTDVcA+h4G0w5aCjC6L1+VeZEiqzhUhH1zoYBRnWeeGBj03MtlkKouwm49mBOzHnd7YpJn1QM1QY/LHbp/34aUvDAK//Pa9c+rUe5IzUa969Q32tw9GIjETPN3wDZBWOtxSynUDkrrnG4W1tfHbWLTX1L99yOIxYsbK+vkVyKowXJjbxt7/U+z39k3P0+NuhIcBhnT/atO8ncplFSNn5b5ie0df8r0xanUt2sgq5RkHmXHJ6sU9iSxSwLUOzBXL0LiV7juFGu2qou2oa+f9n6RT7pMecJMWXbaKKi3X7BqBeqHbN2qo8WVkHOa/aLfDBCHF2m5ujsZNN9vtdq6Pd5NgStfh2MIY35AzzgD+r92M7xa7w8BxbDzvRiUmzVRxwAR9bhx14TWrityCYWbmrQ8CWgIMST3AFiOrJdUhTeDazYXSfcbX5hxyYWC4gcxKpCAlsGG/f2UTn44sYYvj0KgCtG7oHOAh/EzvhYvGg6ZP0lk3mGq6eULAZXKmk70FO06V0mjGC662LEc5GJuL/GBOK3dQMhCfsftAxsODIzIpSAaHBgCDG8+xoEZj0Oq1x6Y0aZW73lFfPi2/qeJQpsOfdvAQMEIrUy4HDkhM0nn0abrrMW06PdD/0xZzmxwMsBU9/i5C9Y6TpLsKiyC/xG3hJqqCfIaYk/1pIkFSkUHx/heh3FPvmmcLm0AfhDF7tGwuFaR8fBqjKP32J6ujunOlH5XaKKjshbXlPKrYxWUx4o5LvrNRhsO0tVsqsZwVgB8YBb+B1FNRlUFyxrFbG6wx7oi8A3W4kveM2+PMsosSgCChajOX6w8H1qBpEyWfOCqIjZGfhmCkti/+zlaa9sv3ZmTdEulSm6nXQImoSDR8/QFFn+XCPBC1leYGEvo9fscOCMGpNzm4GpiJr3UBE4u+fze9bjsEESaOfL5Re9dFG+zMb3OfGDGpJR0kjEsXdgMQ6cPRXV2eQWk7BMzJqZshnGxQecgv986mqwirfFt0OOc/mjapX406b4rCITZvPfvwNjkRfzLKE/J83GpgTD3lxPrAe5qt/HeLuS7EcA9zsClPdLoy5yt274mmhxH71secF442LriuFkvBSzijBgLeCC3iUAKWpSig36Mi3IR8o4Gc7ik9sDULuEJXnHcW7VYHNphxmSbMCHWgEpc3TJAYBHjCCN/y9HDKzdDKivHfso9UJ/fdh1b/AJl5Wlx3IQcT+C7pWwH2DntCnq74V4Y0mI1ZTl6vQLt2Octr9h1A3e3SGGxDATtYXVmkkpygEGbiqNV+Q74BiZwSuBfuSU2b9EtPB5Fb/zSVE/0HPkOLPPbTnuRej2JvjrjTt6UMYkyQh8mH3GbKY02+23WnLYTF+xGkBASj3amZvax4zZ6PpNOj7YB0racctSuMtf2FqINWBLa3G2Sv+kql4peXQvG6l9yLLE1iQOOKjQBqxrzIL1hQ1hG2Fbdsvs4KswW0G7PJz0fFUb+JXOD8LhocYYgjMkDtzRCGG0FjL9hgZAtOwtFDzDZYtN4TODuhWSwZB4l7REq91GSeT9FgvIugzet1TwEp8nuqTZaowGiEnh2V9UM/GHNYkCTQML8lTlm2C4UNXdh/lgUQZ4Q5vb2YT3qP1ABr011+nI9rUS/R+B+A3yb4lq95gN45ece0/fdyhwBSpmu/eHhjbs/ZI/+5QWV6Z3HO1xWY2nfy7dX6sEbLMP9jbyaAkbY85NuLAKsi0g4LMy86kiXXAyEm0aGACxT4KsDweqpBK7ap4baBDZx5gwHciwfe0vx1IK7BIfxfJet8zLUQD1ktoj8iKOnfQEJ7CR9HTfPLi6Fl9eIUrb1rPKCLg1N7j6Ir6tpzb9lPaZoVrtEFiy2+DvZf7FebtDr3fzbXy0cXuUzGGxulzgyHcs6I7VlJV3VAL0bDRMKdnoK1VSq1WURaG00DMLi3G9i8qPCY22uh9P29mGpdSWtwf00I+o8q1LI6H2eziziAwbf8DjzS6Dm41pVJjV2nTfTiR7PK0yMqj8X10OkFCRyngVng4cqENTHEYO4hr+VbtCP55dpZs7218kenvuxzDo/ajhxrRHm1U+llZDOFd9cYttZYfB6deyGxdvJM5SIuLhuymD3eeHfydM1HGQX5+bribVWHyOWKE69aI3aLtkZjZ0tecIFnAmnxriE9+mvQVdwF/9zesYhqEEDyz7dpxGhDa/ZQyefESsSHTQHMO/phE9RI/tXHg0uPQ7aPa/csz9kR3bJ1QcsLRuC6i6/kaB3WYEYmyQmsO1aaKQ4s5rSrGvzTFDPYIAfcDhpc8ucIXWolkPNfdCXRl5cqg7G1C5LXyaAMO0rTQwsS851ATpzLM8QRiPd60LM3lbqLlNyi31+p0lHvL/irzQ9/TasjKxMTaFurRRvC6RoYqX8RGSRI8Pht2lePKy28Fm07XF8JfKIC0Rt7EFB0XfL4hKUwyYGVohkMQeH62g2Sn3IVysy3WCbI6nEfh59foEoeg8F3hr2AWMTui/RoFWX3ZRYAkXGEFTSUMT9u6yrj/ZoeeG/BdLHbHkqaDRLk0Kw8t+GeS2WZ2HN4oO0Zi7uhD3wR6GyzPktCf5jGbMRYnRhkqOnEwH/Pk2GZFV3VsROYRKxZaXVMjyB2ePenXVHA7z9mqiXplsnP/Ma8z6gz44NeDz7PXq4+ujzPmxFEkLhFafe0luVemW8QsrAt4vMDX0d7NDOe2gag9xgEjWk7s54Sp7jqdjmTDQoeXXWhZuF2yZpM0jjFVH6o2/HSIuYgWVwsicGW8ND5qn2v4KM3/KEoUd8x/KL5bsEvb+Y8jReQXBKb8Kwt8GhIN3UglFV0/YS0J4YUvjK2RVLoVPjFX5qkOH38cjSM10wYbqXXcWrqz7ZU+Q/zeDNf06fbA4YTpot4h2uESbS+lBoccpl0lmzo41gsMNSV99ZZ1I6SLi6Sn7V27HRWdjZZNFleWg+ZmPtxGrCAo2cxnyUUkq+CPQMewaQHn5ALSZWKqx1RL1BGvKIXXUwusd5gNLxNeJwf1HRUe+SIU4Bjt78xe/iMjNs7H/4D66g/EnHv6rky+8Z26CPtPmaEmI5Fn2JwMVQh8F7Wo0q16+x74R0G1cUnjmAwyxC1Hw1oWSDktRWFR6bneXGy10bMmy6WVXqmBxUwxo7zq/uKXweURIr11VF7soKNggV98mMYvmjugdxn833HwkudhqpIuH1gbmskXC4LKaQSCeMVuMDwlHx5q1jeq+ypewgvDGF5wEYGWvwSGyG1N4RYjL9PAgbJEcAOYR84brgZE26Ct/W0X8Nemx4gIVMeUyvrqo84oEUIdeHE5PcoreJnBMbqlo80B0JOA+u1+Y/uemxnxLu9zjxkKP4NVaoYUFxMIuvbSQ8/wejQe0CKgsoRGvS5s+pqcv7mTAI5tnoo27mCxu0xWX7VgEM10kskkwEHngZf9UC68zT62dZu7TYE/O3/VdhT8qFJICv3vMBhHEpYbDhHwWWcE5ZRF3lD9UWbbcsndKyFRx7ZXn7GnzpANFDp2rz9S+K4y9pgBloU0HlUMCnZ8m9ji/bPDUZNJspl2Y15K2G5Vywywdfzgz4IcV5weiXJtIWbVA5fgZbnxgkZdveAs3GG5NGHGu35lysbhcj8tQ+VPlw/msg5o+4dtr+lKn6hIhzkiEsw65laAkXx6mDmrQtdrBJ8Wn6o6JmEFh+UHhPn58HtSVSRg7ia63MdUBe/291iKb7A0GDpBsqNhE85hhQKBgyBFXPA2Cbxu7sAk/E88xTOzOgWrOUcpF42hBwXMlXBYykFFOjLJ9CRfkG+YQWsES1aLWgi8BFjioFxSihUyx91vbiZUcU2y0x52o9vxRmDDithr0wexQIizTHzP3Ehuf+O/aU24qB0yL10QrtFdWhXCqYX/9TTXe3iunc4lTOsyldBotEHSW/XePtuSIlifesu9CxIw420lqIpheBkjAR1M8Xs4YRoylgm5fb2OBEdMWFgC/BSkNn50M+JISVqhi0fmO+REQvvlkOxb2CV/nvfD3WLKdkyiBSeiSOkztesVTsYfc3lL1GEI3TdM8hKUtqvMmc9OBOOzOWByxS/7uHk3bxJPqRrjDIPkyafl5FqLxrCgnxBUJ/VVBPnYtw9qnlNTycPtCCk8JUBWWVnaQl7R+InCEXS2dQ8y9atEIvuwPTpM/ThYB4xkVz7n7pkzY9PYXl3RLVB2b8YtvbgF6Fc0fpQDzFd2JFkN2e9vVJ0+HGtCU1UGvTIQQdMrwhPWiwrjGfN24GCrskQlBkRmx6DzwFTYHwB0XDhZpJ7VbPdJS8rlvFLuBELu8fTCpZyPN5QawWpljX4bF8dXe72RdwxJ2yfTFDt4LwB78S1W5rSwLi7S1FaVImvfy1Hti8ZyCJSZMiE4Nmf00xzNuH0gexQUMkWYu2Jw2Eex1EBx/4iRv2Sm/1m+C8JKZy+NjSm5nuyB4BZljGeSBIijuFoUrThqhhyFL8FdXwFH9dimxUIgmeJgP9S14dW8MX3EKeGY1lQWgaW8CS2zU1lUKNDpbE6ez8BkkpMkvSaSVYZbgu/PO379D/srZpUODGv8Wo6YlPjGmadYOE4PKQJUp2tzo5Fw/7AsKQt685hzxhNXARLPf1N1WAHWP7NSb+/wnDao6mnJ//modAFBck9e/gLQf1eZUBUq93pcheyIsukdUcs1MnFhTv9jr8emSTnFAqamfate+7hk5hbg7gRFCVVpC45MF8fHNT8y+Eid1Jm8WrMTo6+lOU1RYrQ3+Xbx7+byxMpazoPqxuW04NPIEcPh8zPAG3xPdW2RYk0HMR4xRO3eXJGCcNGxmqCm/+tYepFOEj3nGz8/IvdUc9AOEd7cHsepXp3JrlcFBl+naoa/xQqo8F6b4cZ4TciIFv6mckpdOGSqUCpkJXroKjvJLw2CeepSuHiUYjoCTpmxMxtXYGOZK7pPmYtreTlPSsAH9+Q5OSfgKTJyUEAwlB11MmgqavwbYUX9030RmToM7q9dugd5h1RDLecFNx4pcfKKRgdvY1ZUnlf+imHOS7Xlv6HEpockmUDhqF91rHi5x+ygf/LHeanOpZjOZQROaEpUp1NTr1ltGa9qodDHiH1MELRaTqh/USLIS7EMTUQC365I7DU3ayv+8BhevVc8YZQly2YU2VGc1apG6qZjy7Kdjm8YI0g1olhJ+KgQ2LM+iWxl7RbCEyDn9l+ZuAWSo6xsA//rhYtK9njrBRudYrmanfGbatsc68bru7aJlTC7+33DUPQGG4nEXsKAeY6BUT2nNKNA3mfNR2IWOLR7PYi5Jzc4nmo3nvLX/8sr8bQ7LgNpx2ETkDeBcxYlYo4XQwftYqC9w02m4+Y91XSSwBz9+gRq2LgVTmgYZFI2HEob0+TbvrG0ozZyToHeN6Eiw+oXy4w8O4dhOHJYBCGp0baQoRGdwPEiVibMy/wypC8exEP7K+4sTAwpdupfs6HAesqWyUP7pzl0kvP2hmkkStWFkjAqaKSQgr/U05snNQKKU3ahutMcR6qVZIT17sIirdZ92uiWV1XlbuWOwmkRK9PJ3XY0g6TRv/3RxQVSHOYadu9j5ljjwuKqXbvTZPBI+ks7UTJOtjKcjvsE4SBDS+eYI2M2QzgS2he0TmS2FpOyoFytAZKdK8HlmZAH0ieQvOqXys1U71isSLM19okhjM55c3CXIjAlmC9aNNAUTPJUJp+9RHK/oew/d0H340f8FQpuPhQGzc/yVKiNY84OTLHxKePzHJ2vRqg9UoH6JQFQ4BbveJ4EftFnBG60m4szEpvNqC7pCrba3f+mum7v+ckCJ18etkGQsG50qFe2fuE5L6byWlwizlTY+6KThrbPIC447FU37CNFOnAOGyjow6lQrFbc5N/y26c7ItfFcZP9JIL4ofqd8q5aeDeozBUF2odIy7HvkUoQjZdFKl1QVAEgFRJOFb2NgL39QMuuYdxc8ofNOS6UVv8xq9tYhOT4lqM0FKBkzGv0N+dn9fMYTXJcZ2BwuzSdQ72+aDUx07o41/vWFLBcHU2LHa/TqkY+nDX9YFlNYUMrSjuZGm+MpfkVgrtuoIgEo8j//corFXR04glQp+iVVq7jPIA9wEeSG/h2OnvD1OfA9mcg1ASxDW8bhFPiTfIXGfII8kas/yM6zpBK9wM0tzcuXhYQK3KTtM2d4ydkIMDsfj2euYBbNFZ5t8QbLD0dB4PqvwteIx5t25XoNKfG7Y7Rbz6jFYagRe3FnloANOMvIfnXOrUTWbWjruFUWlU5Eb4p7n46eUBb+Hemm8XfSYtfoOmYOe29D91vaHAonKZ+315C269BaTqauYxwOhtR0kh0ZkzsL1t2zk1X9A6ZGEufGaunUkId9J7jcNpWu2T/aU8XrltJbPlcMwTYxpk93deaZznPRy8+jSqdu65SyslcNvoamLHH/viZdafHC1kW/1qZOrYCw9eBMhOFRWkqAPd0fGfzgU/iFlCZK8k1YDSlVBgry1bNR7kV5LYs0Ep0TsZIH+XTq6pVhm3RjcMfbbBOD0QZCWkFw5T6xldfj4sNLm9zcfRoO7CNISm++FWoTJxzRDmrE1Vw3zZBY/jCgas2DXjRnMoOl8m2AvSR7bz4di9AgRx2/CXzQeDXUMCCAHY9R1SQz5VzfYSfAvJtXK/MR8gp/zwvwnbws6DpRGa9udzG7BoMzJIHM/VYlKGiU1obMF/WbepsTJioeD/S3uYOpLlcAERnXl7D9DGLS9K9RCzp1PJU3nzoDQkIz7PllWfFF+h6e/EcoGl/AzzpZSEevlngd/vmy9j6uFZfKAWU47yVforFoDto4079ms+XH0U/AcwcQXK7tzPpGwZXy74hRokhKLKbuuxh94Ct5lL7VubiFhrgABAlmsip05h3/+bLqej88xelrmtzEKft02/L3k31cp+WmxEDaMnWdytR5XtnInCeW4MzZCvebXOiOizFY+Km2tr6+YvINFTEfINuaxyLt2ePY/w2ZopZ7QalSoOmGxiGHxH11mToQe6CHhae1o+pfj9+Cntkk+zNYSWtuPZMebBL4yDMBnKqC2YRzeT56CgEtb3sBdxYLUat9mOIa0nMkSuDyptpBnG8Y2dkz8BastWqrYR5AHUAYGHjCykJmRWY92nO3mLyPZuXCzGEXG51sLD29Vg54Wnh+TEeHA2iPenEYTqiv5h40Kq+CdsD58pP8kn9tPM2WPyYoDOqrL6D8RYVAiH/NYxFritD/74q6Aixi5+lig7syCchIM2mYgnRuO+iYmN9KRmaow5pU19bpSGcQbQv+v07W1FXfyfJs9LhhKXgMUmJujGUpzmNy0VA0cw/BTv+TA9Fhch17dVuy3MfCwaRevJ6vWs/OMDSEzXiZTt/4h1B2al/rZEdfntBhuXJjI7E15H9nAKlj4ZD3ubnAV4WjgAugE3A+d37XUlJ/DYqF7AQAT8fAZJQErQL051MqCXZvf8BJq4TMzIppLbrsm5zmjdHZ+sz8/y3UNSwRIyP6N9MYIJqjDAZR/waPWdiz4Hv+PV/GQwQA8h/U7g+7iQKx6dTVt9+uvMnEpp9XOKME5/kCLBEppYzK3ja0t9jRfJ4S6Ic3Y6NYoIW9iEjslhwnKndq/abWK71nJLrXuMlk9EZWduX4uDv2wfK37nJm5FST8q79QqF+/B2zOhQbd959kZQ1zgOk+Uw9d8MzlQPIIXTHXatlsf0jrWmegjWpvtFIkpWx+2fjn6ZyqRs6dM8Yrn7zUOXscinml3uRe7xkVjHqOkbcJCdyOliyfxKge9AncphyXGS/WpcX0IsJe8hwOL42ti9ttijsWkNI/TbmW+RJp6u165A4874k2rqrujeXjQfRQMJU0xurlEw9PHI1YvTBN0Om0bXaMtqpSm5DhbjD+vlb5v+JlZoeiReMsH8eKvQccpaqwF6fX0qiX099VIxw3DjB//1rGGzrDW17R8S8zltt+I6uznDivg/8JiF7d2e1kLhsSzGTuSjWOajC5LUze7YC8GG8tkdTzVDQ1z2CKHjgq2eIkW0PwOgQySWOgcUo419/9cdGjDF3JVygQlALWMNmYtxZVdLa/78fodNYIOmDhFY7d6LXijYflljYOAALthAqKiYC6v/kl4P73nAZ+y3dR441V+zWI932q2BcSN6LyCr0kGxzzjXq5EBBX4Gk4DBMCgXD9EjApHI1wZAQdBbgwl+NqSN8mqSTs4keVTHS5inpVkHsp5UaxcVowrNldGwu1/VIswg5BUVksxWKNKH1nVXFA2VEWD9Z3pI9BugRUziTKqwNcZhxfP2mhydxZ2rQspfdedWJw+H7EomgX8RrH0gdnhnJg+ccPuerRVu1607pFVnqiXq9bTaHixM1EfAW8aT0nhiVNuVxS4sNfLmJkTLLAz/6600J+fN2jTZyXK9skT98U/kVSpKUUVrpye/cuSu6rytFGIzjSr/ZmuBZyiNExMySwk5lLQY3ESJo6jK7qkvQE7Kw8ynlMP23TmH5ntFnnxy5HmxsVWf59SG08BKeiYpe8+VEc0lE5X9zDoeZFHAQeWcIWOF3G7arpG1ZygufFM1OtxlRSTUQcdHkNFpv6uUnuOvPsa2WL8Cg7z31UpoqpAnJBgzFSejPiQ1dpxIscfOZEa6uZKu1xSEQdHGxkGnyWWq6o62rWUPmcLOhkdhhTug5HpKAdnowuPR5bTnwZNvQ8tjsjnqs+jx2ROWCTk1G9ycoxKdymKDgba8CEXoihMBWQdAw3WXDURpCrtsvV2D8mDDJ9/bbuyqObKjuikBL2v5tOb9zosVetp2n6C9f/M11kdPvYgONfigPsCgWdjJzs4OTXgGaCacpotUJdf//yyu8vBvfTCH+/OaF1DmiHi5y4MCB/t9DpNe6IG6uQGr4SVoQ6r28AyeYUkdYqBpg78fS9hMnPgUgEiSOlEKdEenoRHFbCeReUj5W9q2SGoOMEvPhjlZW0tt6VgxA/EvmcEtLQGhXFKGD+rk2/B/ceAZhmjsfwoUucjdxOrB0OlA6vShq95lrEO+0aDce4qI+F1IXOR4Uqef/FP5xGZT2GtaebFa5mXXwca5BbIO2nRoERCNxiMDbwuwZNJbTTytfkiapjYRC5zEX3i4IZ8jfDHgJKCTscTrrbgRpaiEEQFv7+Q9CaKJZe9s/QJtsUW77e81HYBy7WLvlyQr9QsXLtNwjbyDEZ3utBNY6VhYLOXstYeHkqs6MlwjwluCRxr2KKJ5J+ri9O7eORAYDCVbaTgt84hTnKrUVdcc6CMINnn6W0wo9YYF6aCzDzVrOOapGp6zBUayE+L4JSmKoYZlu2PP2+eGK8ILFQJRWVmfOUX10fp3lGbzVmOeKIe2i5TSNZZ1jz2616b9h1jhkVpx6i5qCBb6cn7fQz46CeUaa4xk2ggAoLjMMSqayq6YGggh9KEru/pv8ilMAuTrTbWOaB0JuVNR/mvioFz2IRbLc4Rql2WrEUhHecwaXkZaruOKHEClaytmjzP6j8nM/8tdmPYhvPu4bKP5oco3HcGnPdX5jCqWd5sHhi+BpXJ6zm8PdeV1tLyoMt8B0s+mH3sdcv7HhBoao6nftb3GC+u77M62aOrDo6lrGSElXDhLiR6+Yf//Aa2+DI5QyXOgd5y7L9mtCeSX2KkhbHTepATl+qzUlySbijLsn1/98KtSdMXmYp93Mk6MXN4hW0xEvvcSketeapp3DgG2jf6/Ks/Q7DDz56Z463p0w00eo/spuSik0TfRXWg6P/DRt7dpWbqfFdxRZzu6MfnUcXY9RRWN24zhI8bdhu7DbmeO5IV5NYZbUGmJvbFd43W5qwj8MQIzh1vHmk/fBXgRwrZiaOM1Uocy+MVUlSoFx+82xNCZnc0TZ7ks5gA+fOFtsazw4MR/y33PAUZMPJKTgKUjpM1l/BU+Qx7x+xmWwviabVwXVpLY2CfbfDg20rbwz434DEEw0YWbufcQYOvmwEpO/+v1FDkY4YTQj2Mxtz/rR3HMfi9XVGoyw7Gjta38gopf8SLRPpiGAdtYZkOY3NmBlZ2Ui6HbmIC02fU+nmyeji1lbYMnmFCZn0vpuLPJMty0/eM0UdGRmcY9IVn3Ydg1PSfbL2/haE5xX+yVQ0RWhEA89WRQcoCpK5h9EAKrsf1BGQfHrTS8x1axeO4Ewy0P9TYQl0lk4FP+F4euwrOLXJYNm0VvJu4JC3jYDuXdHOkzc9tweknJDNJBvwwqNui8JnWpDAeEE/ZOi1Ycpqxle8F9qBrtDK5RAGyiAdzncl//nOBqh9uCb82Zg7Ygds+pP2s=');
  </script>
<script nonce="8NL3QjG+714OqI0schkVIg">
  gaia = window.gaia || {};
  gaia.ps = gaia.ps || {};
  gaia.ps.hasPrefilledIdentifier = false;
  function gaia_parseFragment() {
  var hash = location.hash;
  var params = {};
  if (!hash) {
  return params;
  }
  var paramStrs = decodeURIComponent(hash.substring(1)).split('&');
  for (var i = 0; i < paramStrs.length; i++) {
      var param = paramStrs[i].split('=');
      params[param[0]] = param[1];
    }
    return params;
  }

  function gaia_prefillEmail() {
    var email = null;
    var form = null;
    if (document.getElementById) {
      email = document.getElementById('Email');
      form = document.getElementById('gaia_loginform');
    }
    if (form && email && (email.value == null || email.value == '')
        && (email.type != 'hidden')) {
      hashParams = gaia_parseFragment();
      if (hashParams['Email'] && hashParams['Email'] != '') {
        email.value = hashParams['Email'];
      }
    }
  }

  
  try {
    gaia_prefillEmail();
  } catch (e) {
  }
  
</script>
<script nonce="8NL3QjG+714OqI0schkVIg">
  var gaia_scrollToElement = function(element) {
  var calculateOffsetHeight = function(element) {
  var curtop = 0;
  if (element.offsetParent) {
  while (element) {
  curtop += element.offsetTop;
  element = element.offsetParent;
  }
  }
  return curtop;
  }
  var siginOffsetHeight = calculateOffsetHeight(element);
  var scrollHeight = siginOffsetHeight - window.innerHeight +
  element.clientHeight + 0.02 * window.innerHeight;
  window.scroll(0, scrollHeight);
  }
</script>
<script nonce="8NL3QjG+714OqI0schkVIg">
  if (gaia.ps.hasPrefilledIdentifier) {
  var form = document.getElementById('gaia_loginform');
  if (form) {
  form.submit();
  }
  }
</script>
<script nonce="8NL3QjG+714OqI0schkVIg">
  (function(){
  gaia_onLoginSubmit = function() {
  try {
  gaia.loginAutoRedirect.stop();
  } catch (err) {
  // do not prevent form from being submitted
  }
  try {
  document.bg.low(function(response) {
  document.getElementById('bgresponse').value = response;
  });
  } catch (err) {
  document.getElementById('bgresponse').value = '';
  }
  return true;
  }
  document.getElementById('gaia_loginform').onsubmit = gaia_onLoginSubmit;
  var signinButton = document.getElementById('next');
  gaia_attachEvent(window, 'load', function(){
  gaia_scrollToElement(signinButton);
  });
  })();
</script>
  </body>
</html>
